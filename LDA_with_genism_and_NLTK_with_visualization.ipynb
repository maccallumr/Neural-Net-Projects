{
  "nbformat": 4,
  "nbformat_minor": 0,
  "metadata": {
    "colab": {
      "provenance": [],
      "authorship_tag": "ABX9TyMpK5pEJiirs/xq0xIsNlMc",
      "include_colab_link": true
    },
    "kernelspec": {
      "name": "python3",
      "display_name": "Python 3"
    },
    "language_info": {
      "name": "python"
    }
  },
  "cells": [
    {
      "cell_type": "markdown",
      "metadata": {
        "id": "view-in-github",
        "colab_type": "text"
      },
      "source": [
        "<a href=\"https://colab.research.google.com/github/maccallumr/Neural-Net-Projects/blob/main/LDA_with_genism_and_NLTK_with_visualization.ipynb\" target=\"_parent\"><img src=\"https://colab.research.google.com/assets/colab-badge.svg\" alt=\"Open In Colab\"/></a>"
      ]
    },
    {
      "cell_type": "code",
      "execution_count": null,
      "metadata": {
        "colab": {
          "base_uri": "https://localhost:8080/"
        },
        "id": "Cjx-11Ym8EnW",
        "outputId": "4bd0b5e3-90c4-4156-cbcc-f4d1db5047dd"
      },
      "outputs": [
        {
          "output_type": "stream",
          "name": "stdout",
          "text": [
            "Populating the interactive namespace from numpy and matplotlib\n"
          ]
        }
      ],
      "source": [
        "%pylab inline\n",
        "import pandas as pd\n",
        "import pickle as pk\n",
        "from scipy import sparse as sp\n",
        "import nltk"
      ]
    },
    {
      "cell_type": "code",
      "source": [
        "##Read in data frame and use header of docs section to get array of docs\n",
        "\n",
        "p_df = pd.read_csv('Papers_test.csv')\n",
        "docs = array(p_df['PaperText'])"
      ],
      "metadata": {
        "id": "XAW-lCwJ8jcM"
      },
      "execution_count": null,
      "outputs": []
    },
    {
      "cell_type": "code",
      "source": [
        "##Preprocessing: converting to lowercase, tokenizing, lemmatizing etc\n",
        "\n",
        "from nltk.stem.wordnet import WordNetLemmatizer\n",
        "from nltk.tokenize import RegexpTokenizer\n",
        "nltk.download('wordnet')\n",
        "nltk.download('omw-1.4')\n",
        "\n",
        "def docs_preprocessor(docs):\n",
        "    tokenizer = RegexpTokenizer(r'\\w+')\n",
        "    for idx in range(len(docs)):\n",
        "        docs[idx] = docs[idx].lower()  # Convert to lowercase.\n",
        "        docs[idx] = tokenizer.tokenize(docs[idx])  # Split into words.\n",
        "\n",
        "    # Remove numbers, but not words that contain numbers.\n",
        "    docs = [[token for token in doc if not token.isdigit()] for doc in docs]\n",
        "    \n",
        "    # Remove words that are only one character.\n",
        "    docs = [[token for token in doc if len(token) > 3] for doc in docs]\n",
        "    \n",
        "    # Lemmatize all words in documents.\n",
        "    lemmatizer = WordNetLemmatizer()\n",
        "    docs = [[lemmatizer.lemmatize(token) for token in doc] for doc in docs]\n",
        "  \n",
        "    return docs"
      ],
      "metadata": {
        "colab": {
          "base_uri": "https://localhost:8080/"
        },
        "id": "7Xt4-KlWa54s",
        "outputId": "e10ee718-d4a0-4d0f-b9f7-e74e79b25d66"
      },
      "execution_count": null,
      "outputs": [
        {
          "output_type": "stream",
          "name": "stderr",
          "text": [
            "[nltk_data] Downloading package wordnet to /root/nltk_data...\n",
            "[nltk_data]   Package wordnet is already up-to-date!\n",
            "[nltk_data] Downloading package omw-1.4 to /root/nltk_data...\n",
            "[nltk_data]   Package omw-1.4 is already up-to-date!\n"
          ]
        }
      ]
    },
    {
      "cell_type": "code",
      "source": [
        "##Preprocessing docs \n",
        "\n",
        "docs = docs_preprocessor(docs)"
      ],
      "metadata": {
        "id": "R4uniq3RbkFO"
      },
      "execution_count": null,
      "outputs": []
    },
    {
      "cell_type": "code",
      "source": [
        "##Genism: Bigram and Trigram topic modeling, breaks up text into small n-word phrases, these are more distincitve than overlapping similar words\n",
        "\n",
        "from gensim.models import Phrases\n",
        "# Add bigrams and trigrams to docs (only ones that appear 10 times or more).\n",
        "bigram = Phrases(docs, min_count=10)\n",
        "trigram = Phrases(bigram[docs])\n",
        "\n",
        "for idx in range(len(docs)):\n",
        "    for token in bigram[docs[idx]]:\n",
        "        if '_' in token:\n",
        "            # Token is a bigram, add to document.\n",
        "            docs[idx].append(token)\n",
        "    for token in trigram[docs[idx]]:\n",
        "        if '_' in token:\n",
        "            # Token is a bigram, add to document.\n",
        "            docs[idx].append(token)"
      ],
      "metadata": {
        "colab": {
          "base_uri": "https://localhost:8080/"
        },
        "id": "PKGKTFMi9J-H",
        "outputId": "a9c03781-234e-4ffc-d283-e66a3bd56347"
      },
      "execution_count": null,
      "outputs": [
        {
          "output_type": "stream",
          "name": "stderr",
          "text": [
            "/usr/local/lib/python3.7/dist-packages/gensim/models/phrases.py:598: UserWarning: For a faster implementation, use the gensim.models.phrases.Phraser class\n",
            "  warnings.warn(\"For a faster implementation, use the gensim.models.phrases.Phraser class\")\n"
          ]
        }
      ]
    },
    {
      "cell_type": "code",
      "source": [
        "##Remove rare and common tokens, leaving only unique tokens\n",
        "\n",
        "from gensim.corpora import Dictionary\n",
        "\n",
        "# Create a dictionary representation of the documents.\n",
        "dictionary = Dictionary(docs)\n",
        "print('Number of unique words in initital documents:', len(dictionary))\n",
        "\n",
        "# Filter out words that occur less than 10 documents, or more than 20% of the documents.\n",
        "dictionary.filter_extremes(no_below=10, no_above=0.2)\n",
        "print('Number of unique words after removing rare and common words:', len(dictionary))"
      ],
      "metadata": {
        "colab": {
          "base_uri": "https://localhost:8080/"
        },
        "id": "XPC69QGW9WqP",
        "outputId": "e45b38cf-7c67-4166-99ef-838e7911fd7a"
      },
      "execution_count": null,
      "outputs": [
        {
          "output_type": "stream",
          "name": "stdout",
          "text": [
            "Number of unique words in initital documents: 39534\n",
            "Number of unique words after removing rare and common words: 6001\n"
          ]
        }
      ]
    },
    {
      "cell_type": "code",
      "source": [
        "##Convert list to bag-of-words format, tokenized and normalized\n",
        "\n",
        "corpus = [dictionary.doc2bow(doc) for doc in docs]"
      ],
      "metadata": {
        "id": "L7AY1xit9kYG"
      },
      "execution_count": null,
      "outputs": []
    },
    {
      "cell_type": "code",
      "source": [
        "print('Number of unique tokens: %d' % len(dictionary))\n",
        "print('Number of documents: %d' % len(corpus))"
      ],
      "metadata": {
        "colab": {
          "base_uri": "https://localhost:8080/"
        },
        "id": "FowUjGVv9nMU",
        "outputId": "b29ed9da-6ee0-4c29-e9c6-7df79f2478f4"
      },
      "execution_count": null,
      "outputs": [
        {
          "output_type": "stream",
          "name": "stdout",
          "text": [
            "Number of unique tokens: 6001\n",
            "Number of documents: 403\n"
          ]
        }
      ]
    },
    {
      "cell_type": "code",
      "source": [
        "##Import the LDA model\n",
        "\n",
        "from gensim.models import LdaModel"
      ],
      "metadata": {
        "id": "5a70dN6R9pkw"
      },
      "execution_count": null,
      "outputs": []
    },
    {
      "cell_type": "code",
      "source": [
        "# Set training hyperparameters that define the LDA\n",
        "num_topics = 4\n",
        "chunksize = 500 # size of the doc looked at every pass\n",
        "passes = 20 # number of passes through documents\n",
        "iterations = 400\n",
        "eval_every = 1  # Don't evaluate model perplexity, takes too much time.\n",
        "\n",
        "# Make a index to word dictionary.\n",
        "temp = dictionary[0]  # This is only to \"load\" the dictionary.\n",
        "id2word = dictionary.id2token\n",
        "\n",
        "##Defining the actual model, input is corpus, dictionary)\n",
        "\n",
        "%time model = LdaModel(corpus=corpus, id2word=id2word, chunksize=chunksize, \\\n",
        "                       alpha='auto', eta='auto', \\\n",
        "                       iterations=iterations, num_topics=num_topics, \\\n",
        "                       passes=passes, eval_every=eval_every)"
      ],
      "metadata": {
        "colab": {
          "base_uri": "https://localhost:8080/"
        },
        "id": "qtNU00G_9tdM",
        "outputId": "58d9cef2-e5ac-45b3-d1c3-fccb88aaa185"
      },
      "execution_count": null,
      "outputs": [
        {
          "output_type": "stream",
          "name": "stdout",
          "text": [
            "CPU times: user 37.1 s, sys: 371 ms, total: 37.5 s\n",
            "Wall time: 37.2 s\n"
          ]
        }
      ]
    },
    {
      "cell_type": "code",
      "source": [
        "##Visualizing LDAs with interactive GUI\n",
        "\n",
        "!pip install pyLDAvis"
      ],
      "metadata": {
        "colab": {
          "base_uri": "https://localhost:8080/"
        },
        "id": "mGI65xFk-T2f",
        "outputId": "b4f273e4-5c11-4996-b2fe-9036e4877bbf"
      },
      "execution_count": null,
      "outputs": [
        {
          "output_type": "stream",
          "name": "stdout",
          "text": [
            "Looking in indexes: https://pypi.org/simple, https://us-python.pkg.dev/colab-wheels/public/simple/\n",
            "Collecting pyLDAvis\n",
            "  Downloading pyLDAvis-3.3.1.tar.gz (1.7 MB)\n",
            "\u001b[K     |████████████████████████████████| 1.7 MB 5.1 MB/s \n",
            "\u001b[?25h  Installing build dependencies ... \u001b[?25l\u001b[?25hdone\n",
            "  Getting requirements to build wheel ... \u001b[?25l\u001b[?25hdone\n",
            "  Installing backend dependencies ... \u001b[?25l\u001b[?25hdone\n",
            "    Preparing wheel metadata ... \u001b[?25l\u001b[?25hdone\n",
            "Requirement already satisfied: setuptools in /usr/local/lib/python3.7/dist-packages (from pyLDAvis) (57.4.0)\n",
            "Requirement already satisfied: numpy>=1.20.0 in /usr/local/lib/python3.7/dist-packages (from pyLDAvis) (1.21.6)\n",
            "Requirement already satisfied: jinja2 in /usr/local/lib/python3.7/dist-packages (from pyLDAvis) (2.11.3)\n",
            "Requirement already satisfied: future in /usr/local/lib/python3.7/dist-packages (from pyLDAvis) (0.16.0)\n",
            "Requirement already satisfied: sklearn in /usr/local/lib/python3.7/dist-packages (from pyLDAvis) (0.0)\n",
            "Requirement already satisfied: scipy in /usr/local/lib/python3.7/dist-packages (from pyLDAvis) (1.7.3)\n",
            "Requirement already satisfied: gensim in /usr/local/lib/python3.7/dist-packages (from pyLDAvis) (3.6.0)\n",
            "Requirement already satisfied: joblib in /usr/local/lib/python3.7/dist-packages (from pyLDAvis) (1.1.0)\n",
            "Requirement already satisfied: scikit-learn in /usr/local/lib/python3.7/dist-packages (from pyLDAvis) (1.0.2)\n",
            "Requirement already satisfied: pandas>=1.2.0 in /usr/local/lib/python3.7/dist-packages (from pyLDAvis) (1.3.5)\n",
            "Requirement already satisfied: numexpr in /usr/local/lib/python3.7/dist-packages (from pyLDAvis) (2.8.3)\n",
            "Collecting funcy\n",
            "  Downloading funcy-1.17-py2.py3-none-any.whl (33 kB)\n",
            "Requirement already satisfied: python-dateutil>=2.7.3 in /usr/local/lib/python3.7/dist-packages (from pandas>=1.2.0->pyLDAvis) (2.8.2)\n",
            "Requirement already satisfied: pytz>=2017.3 in /usr/local/lib/python3.7/dist-packages (from pandas>=1.2.0->pyLDAvis) (2022.1)\n",
            "Requirement already satisfied: six>=1.5 in /usr/local/lib/python3.7/dist-packages (from python-dateutil>=2.7.3->pandas>=1.2.0->pyLDAvis) (1.15.0)\n",
            "Requirement already satisfied: smart-open>=1.2.1 in /usr/local/lib/python3.7/dist-packages (from gensim->pyLDAvis) (5.2.1)\n",
            "Requirement already satisfied: MarkupSafe>=0.23 in /usr/local/lib/python3.7/dist-packages (from jinja2->pyLDAvis) (2.0.1)\n",
            "Requirement already satisfied: packaging in /usr/local/lib/python3.7/dist-packages (from numexpr->pyLDAvis) (21.3)\n",
            "Requirement already satisfied: pyparsing!=3.0.5,>=2.0.2 in /usr/local/lib/python3.7/dist-packages (from packaging->numexpr->pyLDAvis) (3.0.9)\n",
            "Requirement already satisfied: threadpoolctl>=2.0.0 in /usr/local/lib/python3.7/dist-packages (from scikit-learn->pyLDAvis) (3.1.0)\n",
            "Building wheels for collected packages: pyLDAvis\n",
            "  Building wheel for pyLDAvis (PEP 517) ... \u001b[?25l\u001b[?25hdone\n",
            "  Created wheel for pyLDAvis: filename=pyLDAvis-3.3.1-py2.py3-none-any.whl size=136898 sha256=476cd9a9d3f8fa4095e4331bda4784fb37232778219ddcee314e7d674cba0d61\n",
            "  Stored in directory: /root/.cache/pip/wheels/c9/21/f6/17bcf2667e8a68532ba2fbf6d5c72fdf4c7f7d9abfa4852d2f\n",
            "Successfully built pyLDAvis\n",
            "Installing collected packages: funcy, pyLDAvis\n",
            "Successfully installed funcy-1.17 pyLDAvis-3.3.1\n"
          ]
        }
      ]
    },
    {
      "cell_type": "code",
      "source": [
        "# Gensim, specialized Topic Modeling packages\n",
        "import gensim, spacy, logging, warnings\n",
        "import gensim.corpora as corpora\n",
        "from gensim.utils import lemmatize, simple_preprocess\n",
        "from gensim.models import CoherenceModel"
      ],
      "metadata": {
        "id": "8PlO-r4j-kjQ"
      },
      "execution_count": null,
      "outputs": []
    },
    {
      "cell_type": "code",
      "source": [
        "##Specific distribution that works with google colab\n",
        "\n",
        "import pyLDAvis.gensim_models"
      ],
      "metadata": {
        "colab": {
          "base_uri": "https://localhost:8080/"
        },
        "id": "cCaNc9VD_Op0",
        "outputId": "46891b51-2c5e-4597-88b0-5e1ae6fe4733"
      },
      "execution_count": null,
      "outputs": [
        {
          "output_type": "stream",
          "name": "stderr",
          "text": [
            "/usr/local/lib/python3.7/dist-packages/past/types/oldstr.py:5: DeprecationWarning: Using or importing the ABCs from 'collections' instead of from 'collections.abc' is deprecated since Python 3.3,and in 3.9 it will stop working\n",
            "  from collections import Iterable\n"
          ]
        }
      ]
    },
    {
      "cell_type": "code",
      "source": [
        "\n",
        "pyLDAvis.enable_notebook()\n",
        "\n",
        "import warnings\n",
        "warnings.filterwarnings(\"ignore\", category=DeprecationWarning) \n"
      ],
      "metadata": {
        "id": "KXDAFjyz9-Xk"
      },
      "execution_count": null,
      "outputs": []
    },
    {
      "cell_type": "code",
      "source": [
        "##Visualization uses model, corpus, and dictionary\n",
        "\n",
        "pyLDAvis.gensim_models.prepare(model, corpus, dictionary)"
      ],
      "metadata": {
        "colab": {
          "base_uri": "https://localhost:8080/",
          "height": 916
        },
        "id": "2w-LfgyZ-7yP",
        "outputId": "97556d38-4558-4ac5-b9f4-a56eb37e1727"
      },
      "execution_count": null,
      "outputs": [
        {
          "output_type": "stream",
          "name": "stderr",
          "text": [
            "/usr/local/lib/python3.7/dist-packages/pyLDAvis/_prepare.py:247: FutureWarning: In a future version of pandas all arguments of DataFrame.drop except for the argument 'labels' will be keyword-only\n",
            "  by='saliency', ascending=False).head(R).drop('saliency', 1)\n"
          ]
        },
        {
          "output_type": "execute_result",
          "data": {
            "text/plain": [
              "PreparedData(topic_coordinates=              x         y  topics  cluster       Freq\n",
              "topic                                                \n",
              "3     -0.001581  0.046608       1        1  26.339175\n",
              "0     -0.070893  0.086987       2        1  25.651238\n",
              "2     -0.110762 -0.104490       3        1  24.149647\n",
              "1      0.183237 -0.029105       4        1  23.859940, topic_info=                   Term         Freq        Total Category  logprob  loglift\n",
              "609              regret  1148.000000  1148.000000  Default  30.0000  30.0000\n",
              "3230   gaussian_process   927.000000   927.000000  Default  29.0000  29.0000\n",
              "2180      convolutional   668.000000   668.000000  Default  28.0000  28.0000\n",
              "3105  matrix_completion   717.000000   717.000000  Default  27.0000  27.0000\n",
              "3192             bandit   662.000000   662.000000  Default  26.0000  26.0000\n",
              "...                 ...          ...          ...      ...      ...      ...\n",
              "134        ground_truth   376.045298   804.032042   Topic4  -5.6335   0.6730\n",
              "1062             filter   264.660900   381.704039   Topic4  -5.9848   1.0668\n",
              "473           embedding   288.983971   618.623721   Topic4  -5.8969   0.6718\n",
              "17               answer   237.205461   380.616038   Topic4  -6.0943   0.9601\n",
              "3656          time_step   240.393483   669.085149   Topic4  -6.0810   0.4093\n",
              "\n",
              "[288 rows x 6 columns], token_table=      Topic      Freq                  Term\n",
              "term                                       \n",
              "4737      3  0.981205  accelerated_gradient\n",
              "1228      1  0.942837            acceptance\n",
              "1228      3  0.024175            acceptance\n",
              "1228      4  0.024175            acceptance\n",
              "3185      1  0.291915       active_learning\n",
              "...     ...       ...                   ...\n",
              "3422      1  0.009598         yoshua_bengio\n",
              "3422      2  0.004799         yoshua_bengio\n",
              "3422      3  0.047988         yoshua_bengio\n",
              "3422      4  0.940566         yoshua_bengio\n",
              "1664      2  0.980893                  λmin\n",
              "\n",
              "[806 rows x 3 columns], R=30, lambda_step=0.01, plot_opts={'xlab': 'PC1', 'ylab': 'PC2'}, topic_order=[4, 1, 3, 2])"
            ],
            "text/html": [
              "\n",
              "<link rel=\"stylesheet\" type=\"text/css\" href=\"https://cdn.jsdelivr.net/gh/bmabey/pyLDAvis@3.3.1/pyLDAvis/js/ldavis.v1.0.0.css\">\n",
              "\n",
              "\n",
              "<div id=\"ldavis_el601404256912901923903139366\"></div>\n",
              "<script type=\"text/javascript\">\n",
              "\n",
              "var ldavis_el601404256912901923903139366_data = {\"mdsDat\": {\"x\": [-0.0015810833486854165, -0.0708929999081893, -0.11076246100189797, 0.18323654425877267], \"y\": [0.04660815330596508, 0.08698704838703081, -0.10449010617896912, -0.029105095514026735], \"topics\": [1, 2, 3, 4], \"cluster\": [1, 1, 1, 1], \"Freq\": [26.33917504631308, 25.65123774333708, 24.1496474826277, 23.85993972772214]}, \"tinfo\": {\"Term\": [\"regret\", \"gaussian_process\", \"convolutional\", \"matrix_completion\", \"bandit\", \"rank_matrix\", \"convergence_rate\", \"markov_chain\", \"recurrent\", \"recurrent_neural\", \"submodular\", \"fully_connected\", \"singular_value\", \"lstm\", \"hidden_layer\", \"policy\", \"hidden_unit\", \"regret_bound\", \"deep_learning\", \"tensor\", \"reward\", \"neuron\", \"sample_complexity\", \"step_size\", \"convolutional_neural\", \"line_search\", \"reward_function\", \"strongly_convex\", \"recovery\", \"game\", \"posterior_predictive\", \"metropolis_hastings\", \"squared_exponential\", \"covariance_function\", \"williams_gaussian\", \"maximizing_submodular\", \"hamiltonian_monte\", \"submodular\", \"wolsey\", \"decision_rule\", \"point_process\", \"submodular_function\", \"voting\", \"hamiltonian\", \"causal\", \"mcmc\", \"titsias\", \"predictive_distribution\", \"stationary_distribution\", \"gelman\", \"submodular_maximization\", \"marginal_likelihood\", \"acceptance\", \"markov_chain_monte_carlo\", \"submodularity\", \"langevin_dynamic\", \"sampler\", \"poisson_process\", \"gaussian_process\", \"privacy\", \"bayesian_network\", \"expectation_propagation\", \"markov_chain\", \"private\", \"particle\", \"hamming_distance\", \"calibration\", \"bayesian_nonparametric\", \"parent\", \"gibbs_sampler\", \"directed_edge\", \"posterior_distribution\", \"sensor\", \"bayesian_inference\", \"event\", \"gibbs_sampling\", \"state_space\", \"gibbs\", \"hidden_markov\", \"exponential_family\", \"variational_inference\", \"posterior_mean\", \"greedy\", \"greedy_algorithm\", \"cover\", \"data_set\", \"ground_truth\", \"graphical_model\", \"random_walk\", \"proposal\", \"mechanism\", \"running_time\", \"multilabel\", \"exact_recovery\", \"incoherence\", \"dantzig_selector\", \"statistical_guarantee\", \"prateek_jain\", \"singular_vector\", \"tensor_decomposition\", \"isometry\", \"rank_matrix\", \"dantzig\", \"compressed_sensing\", \"prateek\", \"moitra\", \"matrix_completion\", \"restricted_strong\", \"singular_value\", \"recommendation_system\", \"sparse_recovery\", \"linear_measurement\", \"\\u03bbmin\", \"incomplete_data\", \"singular\", \"alternating_minimization\", \"sketching\", \"vershynin\", \"orthonormal\", \"nuclear_norm\", \"halko\", \"frobenius_norm\", \"recovery\", \"rank_approximation\", \"random_projection\", \"link_function\", \"frobenius\", \"sparse_regression\", \"tensor\", \"principal_component\", \"multi_label\", \"completion\", \"matrix_factorization\", \"topic_model\", \"sensing\", \"principal\", \"spectral_norm\", \"subspace\", \"estimation_error\", \"lasso\", \"sample_complexity\", \"convex_relaxation\", \"relative_error\", \"active_learning\", \"inner_product\", \"least_square\", \"covariance_matrix\", \"eigenvalue\", \"probability_least\", \"document\", \"data_set\", \"moment\", \"running_time\", \"query\", \"embedding\", \"sample_size\", \"graphical_model\", \"reward_function\", \"regret_bound\", \"bandit_problem\", \"mdps\", \"expected_reward\", \"primal_dual\", \"regret\", \"regret_minimization\", \"expected_cost\", \"accelerated_gradient\", \"multi_armed\", \"bubeck\", \"bandit_feedback\", \"current_iterate\", \"richta_taka\", \"player\", \"nicolo_cesa\", \"multiarmed_bandit\", \"bandit\", \"peter_auer\", \"fischer_finite\", \"multi_armed_bandit_problem\", \"bianchi_regret\", \"stochastic_nonstochastic\", \"optimal_control\", \"bubeck_cesa\", \"bianchi\", \"cesa\", \"bianchi_lugosi\", \"game_cambridge\", \"line_search\", \"safe\", \"reward\", \"strongly_convex\", \"arm\", \"armed\", \"decision_maker\", \"lifted\", \"strong_convexity\", \"linear_convergence\", \"agent\", \"maker\", \"policy\", \"primal\", \"convergence_rate\", \"game\", \"horizon\", \"wolfe\", \"proximal\", \"coordinate_descent\", \"step_size\", \"online_learning\", \"asynchronous\", \"round\", \"price\", \"first_order\", \"gradient_descent\", \"random_walk\", \"time_step\", \"vertex\", \"empirical_risk\", \"reinforcement_learning\", \"sample_complexity\", \"trajectory\", \"logistic_regression\", \"recurrent_network\", \"lstm\", \"recurrent\", \"autoencoder\", \"temporal_dependency\", \"recurrent_neural\", \"recurrent_connection\", \"convolutional_layer\", \"encoder_decoder\", \"recurrent_convolutional\", \"convolutional_network\", \"lstms\", \"pooling_layer\", \"very_deep\", \"convnets\", \"network_architecture\", \"rnns\", \"convolutional\", \"cnns\", \"relu\", \"image_caption\", \"lstm_lstm\", \"encoder\", \"visual_attention\", \"convnet\", \"patch\", \"alex_graf\", \"rectified_linear\", \"receptive_field\", \"krizhevsky\", \"convolutional_neural\", \"deep_network\", \"hidden_layer\", \"semantic_segmentation\", \"deep_convolutional\", \"texture\", \"neuron\", \"dropout\", \"stack\", \"hidden_unit\", \"fully_connected\", \"decoder\", \"during_training\", \"pixel\", \"sentence\", \"analogy\", \"deep_learning\", \"unlabeled_data\", \"yoshua_bengio\", \"machine_translation\", \"pooling\", \"natural_image\", \"deep_neural\", \"segmentation\", \"spatial\", \"frame\", \"generative_model\", \"feature_map\", \"semi_supervised\", \"object_detection\", \"proposal\", \"ground_truth\", \"filter\", \"embedding\", \"answer\", \"time_step\"], \"Freq\": [1148.0, 927.0, 668.0, 717.0, 662.0, 681.0, 919.0, 815.0, 571.0, 537.0, 594.0, 590.0, 552.0, 478.0, 497.0, 652.0, 546.0, 468.0, 610.0, 656.0, 515.0, 483.0, 871.0, 811.0, 424.0, 465.0, 398.0, 472.0, 477.0, 523.0, 87.10408627876292, 73.48360075620839, 58.835371951439804, 52.960163061600596, 44.08742647212154, 70.01068730825124, 138.90456407893572, 578.0808005323739, 12.854970673575492, 192.21052918838342, 188.96907843406484, 380.17850815996377, 133.89556651324932, 102.38336750065692, 321.4112830312409, 365.6290500153492, 23.34048611929018, 162.01330370026864, 308.62024941632154, 23.341585861025152, 124.08793795449157, 303.9290991730901, 39.138615693737016, 70.47602503223736, 86.5093540571857, 82.44720878563757, 362.59053286339395, 84.92503671976847, 869.7133613296546, 265.75495867023363, 335.6428262809437, 123.11613790929023, 750.401377051721, 244.19147950626802, 207.96883155677241, 139.1834896662544, 147.31549698392107, 104.88015626617539, 211.036323778218, 258.88540756359333, 122.25064285317987, 385.73666708233867, 206.0777893232951, 271.0022032042247, 300.0847129009347, 339.63368261053216, 369.4024852078291, 317.23668367702993, 225.0129161482868, 313.4976023216043, 431.621392518572, 185.71092376841693, 334.23199446920165, 270.2907733496955, 257.63110059086114, 335.5764971573156, 308.9336234421341, 295.17030326032426, 252.35558374093074, 247.69816566815072, 236.39445588610934, 241.90390858159844, 124.57476016880669, 171.2080851229369, 72.24421706741016, 75.01829577550953, 115.02810836209117, 43.22995146878323, 192.51308909668683, 158.99197548589837, 30.118029678757768, 666.9047258835874, 41.31811318087574, 252.4887807960553, 21.687054767872848, 21.689094802601158, 700.0004067036797, 75.52592880424217, 538.0998286712428, 53.25565936614208, 135.64996393214471, 113.10759334583118, 21.677534057410966, 82.98816525617094, 287.5775887072211, 170.32332864202593, 60.96352916087377, 35.401025355197895, 76.60667997648623, 346.87321179725717, 14.176482654397507, 253.77300239979814, 453.3951123870998, 307.3304947751295, 123.04262828027383, 164.99989092228634, 107.44846462116956, 126.40736943054807, 584.4503653274861, 304.0791795557493, 300.4086174574298, 302.4634457278989, 219.9608350600945, 354.9534339952058, 133.4992540294451, 228.32176603665863, 189.059112878942, 321.52637256614963, 309.6183344961147, 252.11196663946484, 600.90457472426, 192.20734711772783, 264.0655961952989, 445.39601776376605, 240.0940825704462, 321.36832910152026, 429.41351704223496, 259.7391168665273, 358.77280017506257, 319.0703550144654, 382.56523823531273, 267.4783768730462, 320.94163280544404, 313.9477356810778, 297.76246866906706, 278.36992486477885, 266.002523619986, 397.27045091206895, 465.2312812033841, 260.3473699367213, 73.47688250373773, 117.02560941353532, 268.9146702130039, 1136.5717261081938, 66.98635425064782, 93.76908355688116, 61.39785772722996, 289.96434893235033, 63.23898903166812, 111.0499481386927, 53.024836823579875, 41.92622030597074, 341.7082355228395, 40.99722563766433, 40.99957993837229, 650.3371583004666, 32.64226160089151, 30.78902423439187, 37.27337864365155, 33.56565551172423, 29.855655523191192, 206.1155946596753, 26.146275087476038, 82.8072364215843, 82.80517331070074, 21.498174553095716, 25.211377629697225, 444.97264752191376, 82.48259694054055, 489.33639616363956, 444.1431902093288, 161.26344014055408, 160.8743485798657, 153.07150213451555, 193.99721588817545, 196.63798542807373, 225.05077678474802, 419.40994782018845, 112.27598121000608, 578.9341916814311, 230.72920139968195, 783.9111597813403, 457.3427877764895, 142.59255924759128, 152.70876635070002, 260.2759974521009, 264.51862080264186, 641.7623490440312, 453.4653784210356, 199.60022853411638, 359.9283917407907, 205.4619168725808, 310.1709401771184, 385.20651844220487, 335.42968726638907, 349.9495023242381, 326.7143634308573, 250.5388823271999, 261.07663316759783, 259.19445648897477, 236.70478832818642, 233.69492639256111, 216.69930411801687, 475.38091324017915, 567.7897982012701, 117.9719650449798, 108.41656906573546, 532.951183604251, 94.22750703688787, 200.2737009027539, 122.6215951957122, 68.58127039094389, 333.1823963693425, 97.03788665292561, 111.2223700208665, 100.800052344337, 61.919643195560404, 131.02363383800943, 83.73279999687925, 660.9225523123346, 97.92071123929574, 76.1492949309216, 79.9107199565981, 91.25985531566926, 211.86436062465236, 62.81908685193272, 45.760906129426424, 189.76365412446702, 79.7944109514005, 79.82615551752622, 62.78531616714375, 71.32254773027641, 417.1453903796663, 329.0799406817759, 487.5735199623998, 156.07900898483712, 242.8432130469765, 203.29573952525038, 465.92908803973296, 200.36513945439023, 192.95145496267588, 517.6601701131814, 557.0512958315941, 161.618074622714, 385.6040727255335, 416.970128054693, 333.8936558382094, 233.00851875242475, 551.0791060113178, 255.84092954424216, 195.55410538549296, 188.19553621838253, 209.75161467644108, 240.7612200297748, 295.2360462879372, 363.3518296887095, 312.7463881385913, 282.8955512669126, 534.0506988271137, 265.31873313624976, 315.6163025888247, 229.76205229104795, 333.54805263661706, 376.0452978414489, 264.6608995395667, 288.9839705167291, 237.2054613514292, 240.3934825529972], \"Total\": [1148.0, 927.0, 668.0, 717.0, 662.0, 681.0, 919.0, 815.0, 571.0, 537.0, 594.0, 590.0, 552.0, 478.0, 497.0, 652.0, 546.0, 468.0, 610.0, 656.0, 515.0, 483.0, 871.0, 811.0, 424.0, 465.0, 398.0, 472.0, 477.0, 523.0, 88.108383461355, 74.41163660623045, 59.58533349578957, 53.67544527617838, 45.041095422799245, 71.55729932227143, 142.60299416500513, 594.386016611829, 13.295763500719989, 198.92723795924675, 195.8505959871815, 394.44524392433624, 139.3120618515136, 106.57922611854458, 335.0171128340784, 381.1469757955955, 24.45104851899872, 169.98770885220972, 325.011544075915, 24.594341341739504, 130.827063610285, 321.09350152382603, 41.364540461321425, 74.48485824632861, 91.46992673070815, 87.28747137801477, 384.7352056475453, 90.23964704283524, 927.4911612775638, 283.4588686718542, 359.95275013951135, 131.38266922528024, 815.6142644671351, 263.2568857502096, 224.35289471526997, 149.23577184320797, 158.46958161920855, 112.72182253147265, 242.63944466898934, 309.77486347711357, 134.40831503064837, 489.0695316704004, 241.68466734655348, 342.4702910459531, 400.33517390007165, 469.81571781190917, 524.508387115817, 434.7223454697396, 284.052751251345, 468.76206049216245, 814.7819090615877, 227.11727170019117, 571.4491280479385, 417.62344984290206, 397.81798466216975, 769.5796543579602, 804.0320416606185, 760.6521659601372, 618.7982582296205, 589.2661767719911, 469.40120651252073, 701.2252724074104, 125.47745833158928, 172.92109356702773, 73.12870690705283, 76.04587145571868, 116.67524478807879, 43.88834576783, 196.0821657891519, 162.03488322059673, 30.696082013580078, 681.3853060362733, 42.27451875381556, 258.3633896734062, 22.232971136266908, 22.23799112573747, 717.7683650112266, 77.4864024092001, 552.5565271669014, 54.6882287337551, 139.64024880750284, 116.97711429888943, 22.428553019743944, 85.9878167288073, 297.97304620243875, 176.61352889594014, 63.216523430415194, 36.71213769937265, 79.59583255432477, 360.557783565233, 14.809036712327917, 265.22101045390355, 477.84116210090576, 324.57369726485587, 128.93918068091054, 174.67159663994033, 112.95587413929489, 134.4386865941676, 656.3101977731367, 332.55873881542897, 329.531451023434, 335.3599718737239, 240.03234193315836, 400.5218325151079, 143.68768937530388, 258.19295407966837, 210.9187627422937, 391.7300055449748, 384.2959529156776, 305.4852720178799, 871.6905917619732, 224.64587956476856, 334.17848524608416, 654.3010712494314, 305.45384650116836, 461.31570415642506, 723.5135856832479, 344.89300162322616, 592.3743816712763, 529.2854820205235, 769.5796543579602, 399.2836808679046, 701.2252724074104, 663.8457487196063, 618.6237214326525, 645.9156997947136, 760.6521659601372, 398.35497955389417, 468.3728467725589, 262.85294086994816, 74.20678365065794, 118.19487518250874, 271.8095145890392, 1148.9960025058135, 67.75193008580436, 94.89795379877282, 62.16847428958773, 294.0123682472596, 64.20674155606277, 112.80850181771288, 53.87854126810183, 42.603398035658216, 347.24504827748666, 41.692437353317175, 41.69930987905953, 662.2168546617879, 33.30662152246178, 31.427373876203433, 38.049724732028494, 34.304489511761936, 30.55962488443089, 211.07488703134763, 26.815109344423593, 84.93535083377489, 84.9434134798267, 22.055087935642064, 25.86820094633198, 465.33781186595155, 84.97797315706399, 515.4004205407954, 472.38794888257536, 168.08886634584445, 169.0087966713629, 160.69267407576658, 205.4792103107381, 208.52635769062184, 240.71143368980916, 460.3633460620019, 117.63502037230309, 652.052050999416, 249.8835309459189, 919.3874527817031, 523.0980722851198, 151.41856328715372, 164.28921904736225, 293.8177078867493, 302.3791774447976, 811.3137213901979, 551.9539786743912, 228.59577660562752, 501.0977845770066, 255.45438606028523, 479.9648581606421, 766.2282218326493, 618.7982582296205, 669.0851488067028, 659.6297888421897, 376.86711522416863, 431.4570818955232, 871.6905917619732, 522.1107780079575, 635.2771800126009, 217.97762447807156, 478.2458603907428, 571.844763432929, 118.93392677602284, 109.41532654250082, 537.8709609993806, 95.10594069104238, 202.2475033055766, 123.8313583084298, 69.29950576773402, 336.7807998304465, 98.10134144385238, 112.4651100268249, 101.97243743773801, 62.64088725498586, 132.58107833433388, 84.72858785863637, 668.8036403397331, 99.12576712420825, 77.10292262989765, 80.91297210053705, 92.48200219726165, 214.77996443869213, 63.80327387717769, 46.483687382743696, 192.794956003449, 81.08642925258533, 81.1312307824551, 63.8207709145442, 72.50407225798239, 424.7143888698999, 334.5752266437175, 497.70643766062926, 158.7537855912514, 248.58446693686813, 208.50798080882137, 483.13571365788334, 205.81542292568628, 198.46898090084224, 546.2273899649255, 590.3958975878966, 166.3239491753888, 408.2927851745654, 449.65167755963944, 356.2559249097208, 245.03077173057326, 610.2174641233904, 275.0477098412907, 208.3850740457872, 200.5677406956745, 227.49278374396593, 266.71421044586447, 343.165159204654, 447.58646705608174, 371.9600107515002, 339.11670602832993, 803.4167463099343, 313.98148234204774, 441.06939173158526, 260.49157655231556, 589.2661767719911, 804.0320416606185, 381.7040385517009, 618.6237214326525, 380.61603785374353, 669.0851488067028], \"Category\": [\"Default\", \"Default\", \"Default\", \"Default\", \"Default\", \"Default\", \"Default\", \"Default\", \"Default\", \"Default\", \"Default\", \"Default\", \"Default\", \"Default\", \"Default\", \"Default\", \"Default\", \"Default\", \"Default\", \"Default\", \"Default\", \"Default\", \"Default\", \"Default\", \"Default\", \"Default\", \"Default\", \"Default\", \"Default\", \"Default\", \"Topic1\", \"Topic1\", \"Topic1\", \"Topic1\", \"Topic1\", \"Topic1\", \"Topic1\", \"Topic1\", \"Topic1\", \"Topic1\", \"Topic1\", \"Topic1\", \"Topic1\", \"Topic1\", \"Topic1\", \"Topic1\", \"Topic1\", \"Topic1\", \"Topic1\", \"Topic1\", \"Topic1\", \"Topic1\", \"Topic1\", \"Topic1\", \"Topic1\", \"Topic1\", \"Topic1\", \"Topic1\", \"Topic1\", \"Topic1\", \"Topic1\", \"Topic1\", \"Topic1\", \"Topic1\", \"Topic1\", \"Topic1\", \"Topic1\", \"Topic1\", \"Topic1\", \"Topic1\", \"Topic1\", \"Topic1\", \"Topic1\", \"Topic1\", \"Topic1\", \"Topic1\", \"Topic1\", \"Topic1\", \"Topic1\", \"Topic1\", \"Topic1\", \"Topic1\", \"Topic1\", \"Topic1\", \"Topic1\", \"Topic1\", \"Topic1\", \"Topic1\", \"Topic1\", \"Topic1\", \"Topic1\", \"Topic1\", \"Topic2\", \"Topic2\", \"Topic2\", \"Topic2\", \"Topic2\", \"Topic2\", \"Topic2\", \"Topic2\", \"Topic2\", \"Topic2\", \"Topic2\", \"Topic2\", \"Topic2\", \"Topic2\", \"Topic2\", \"Topic2\", \"Topic2\", \"Topic2\", \"Topic2\", \"Topic2\", \"Topic2\", \"Topic2\", \"Topic2\", \"Topic2\", \"Topic2\", \"Topic2\", \"Topic2\", \"Topic2\", \"Topic2\", \"Topic2\", \"Topic2\", \"Topic2\", \"Topic2\", \"Topic2\", \"Topic2\", \"Topic2\", \"Topic2\", \"Topic2\", \"Topic2\", \"Topic2\", \"Topic2\", \"Topic2\", \"Topic2\", \"Topic2\", \"Topic2\", \"Topic2\", \"Topic2\", \"Topic2\", \"Topic2\", \"Topic2\", \"Topic2\", \"Topic2\", \"Topic2\", \"Topic2\", \"Topic2\", \"Topic2\", \"Topic2\", \"Topic2\", \"Topic2\", \"Topic2\", \"Topic2\", \"Topic2\", \"Topic2\", \"Topic2\", \"Topic2\", \"Topic3\", \"Topic3\", \"Topic3\", \"Topic3\", \"Topic3\", \"Topic3\", \"Topic3\", \"Topic3\", \"Topic3\", \"Topic3\", \"Topic3\", \"Topic3\", \"Topic3\", \"Topic3\", \"Topic3\", \"Topic3\", \"Topic3\", \"Topic3\", \"Topic3\", \"Topic3\", \"Topic3\", \"Topic3\", \"Topic3\", \"Topic3\", \"Topic3\", \"Topic3\", \"Topic3\", \"Topic3\", \"Topic3\", \"Topic3\", \"Topic3\", \"Topic3\", \"Topic3\", \"Topic3\", \"Topic3\", \"Topic3\", \"Topic3\", \"Topic3\", \"Topic3\", \"Topic3\", \"Topic3\", \"Topic3\", \"Topic3\", \"Topic3\", \"Topic3\", \"Topic3\", \"Topic3\", \"Topic3\", \"Topic3\", \"Topic3\", \"Topic3\", \"Topic3\", \"Topic3\", \"Topic3\", \"Topic3\", \"Topic3\", \"Topic3\", \"Topic3\", \"Topic3\", \"Topic3\", \"Topic3\", \"Topic3\", \"Topic3\", \"Topic3\", \"Topic3\", \"Topic4\", \"Topic4\", \"Topic4\", \"Topic4\", \"Topic4\", \"Topic4\", \"Topic4\", \"Topic4\", \"Topic4\", \"Topic4\", \"Topic4\", \"Topic4\", \"Topic4\", \"Topic4\", \"Topic4\", \"Topic4\", \"Topic4\", \"Topic4\", \"Topic4\", \"Topic4\", \"Topic4\", \"Topic4\", \"Topic4\", \"Topic4\", \"Topic4\", \"Topic4\", \"Topic4\", \"Topic4\", \"Topic4\", \"Topic4\", \"Topic4\", \"Topic4\", \"Topic4\", \"Topic4\", \"Topic4\", \"Topic4\", \"Topic4\", \"Topic4\", \"Topic4\", \"Topic4\", \"Topic4\", \"Topic4\", \"Topic4\", \"Topic4\", \"Topic4\", \"Topic4\", \"Topic4\", \"Topic4\", \"Topic4\", \"Topic4\", \"Topic4\", \"Topic4\", \"Topic4\", \"Topic4\", \"Topic4\", \"Topic4\", \"Topic4\", \"Topic4\", \"Topic4\", \"Topic4\", \"Topic4\", \"Topic4\", \"Topic4\", \"Topic4\", \"Topic4\", \"Topic4\"], \"logprob\": [30.0, 29.0, 28.0, 27.0, 26.0, 25.0, 24.0, 23.0, 22.0, 21.0, 20.0, 19.0, 18.0, 17.0, 16.0, 15.0, 14.0, 13.0, 12.0, 11.0, 10.0, 9.0, 8.0, 7.0, 6.0, 5.0, 4.0, 3.0, 2.0, 1.0, -7.195, -7.365, -7.5874, -7.6926, -7.8759, -7.4135, -6.7283, -5.3024, -9.1084, -6.4035, -6.4205, -5.7215, -6.765, -7.0334, -5.8894, -5.7605, -8.5119, -6.5744, -5.93, -8.5119, -6.8411, -5.9453, -7.995, -7.4068, -7.2019, -7.25, -5.7688, -7.2203, -4.8939, -6.0795, -5.8461, -6.849, -5.0415, -6.1642, -6.3247, -6.7263, -6.6695, -7.0093, -6.3101, -6.1057, -6.856, -5.707, -6.3339, -6.06, -5.958, -5.8342, -5.7502, -5.9025, -6.246, -5.9143, -5.5946, -6.4379, -5.8503, -6.0626, -6.1106, -5.8463, -5.929, -5.9746, -6.1313, -6.1499, -6.1966, -6.1736, -6.8107, -6.4928, -7.3556, -7.3179, -6.8905, -7.8691, -6.3755, -6.5668, -8.2305, -5.133, -7.9143, -6.1043, -8.5589, -8.5588, -5.0846, -7.3112, -5.3476, -7.6605, -6.7256, -6.9073, -8.5594, -7.2169, -5.9742, -6.4979, -7.5254, -8.0689, -7.297, -5.7867, -8.9841, -6.0992, -5.5189, -5.9077, -6.8231, -6.5297, -6.9586, -6.7961, -5.265, -5.9184, -5.9305, -5.9237, -6.2422, -5.7637, -6.7415, -6.2049, -6.3936, -5.8626, -5.9003, -6.1058, -5.2372, -6.3771, -6.0594, -5.5367, -6.1546, -5.8631, -5.5732, -6.076, -5.753, -5.8702, -5.6887, -6.0466, -5.8644, -5.8864, -5.9393, -6.0067, -6.0521, -5.5907, -5.4328, -6.0133, -7.2784, -6.8129, -5.9809, -4.5395, -7.3708, -7.0345, -7.4579, -5.9056, -7.4284, -6.8653, -7.6046, -7.8394, -5.7414, -7.8618, -7.8618, -5.0978, -8.0897, -8.1482, -7.957, -8.0618, -8.1789, -6.2469, -8.3116, -7.1588, -7.1588, -8.5074, -8.348, -5.4773, -7.1627, -5.3823, -5.4792, -6.4923, -6.4947, -6.5444, -6.3075, -6.294, -6.159, -5.5365, -6.8544, -5.2141, -6.1341, -4.911, -5.4499, -6.6153, -6.5468, -6.0136, -5.9974, -5.1111, -5.4584, -6.279, -5.6894, -6.2501, -5.8382, -5.6215, -5.7599, -5.7175, -5.7862, -6.0517, -6.0105, -6.0177, -6.1085, -6.1213, -6.1847, -5.3991, -5.2215, -6.7928, -6.8773, -5.2848, -7.0175, -6.2636, -6.7541, -7.3352, -5.7546, -6.9882, -6.8517, -6.9501, -7.4374, -6.6879, -7.1356, -5.0696, -6.9791, -7.2306, -7.1823, -7.0495, -6.2073, -7.423, -7.7398, -6.3175, -7.1838, -7.1834, -7.4235, -7.296, -5.5298, -5.767, -5.3738, -6.5129, -6.0708, -6.2486, -5.4192, -6.2631, -6.3008, -5.3139, -5.2406, -6.478, -5.6084, -5.5302, -5.7524, -6.1122, -5.2514, -6.0187, -6.2874, -6.3258, -6.2173, -6.0794, -5.8755, -5.6679, -5.8179, -5.9182, -5.2828, -5.9823, -5.8087, -6.1262, -5.7535, -5.6335, -5.9848, -5.8969, -6.0943, -6.081], \"loglift\": [30.0, 29.0, 28.0, 27.0, 26.0, 25.0, 24.0, 23.0, 22.0, 21.0, 20.0, 19.0, 18.0, 17.0, 16.0, 15.0, 14.0, 13.0, 12.0, 11.0, 10.0, 9.0, 8.0, 7.0, 6.0, 5.0, 4.0, 3.0, 2.0, 1.0, 1.3226, 1.3216, 1.3214, 1.3207, 1.3127, 1.3123, 1.3078, 1.3063, 1.3004, 1.2998, 1.2983, 1.2973, 1.2945, 1.2939, 1.2927, 1.2925, 1.2876, 1.2861, 1.2824, 1.2818, 1.2812, 1.2792, 1.2788, 1.2788, 1.2784, 1.2771, 1.2748, 1.2734, 1.2698, 1.2696, 1.2642, 1.2691, 1.2508, 1.2589, 1.2583, 1.2644, 1.2611, 1.262, 1.1946, 1.1547, 1.2393, 1.0968, 1.1747, 1.1001, 1.0459, 1.0096, 0.9835, 1.0191, 1.1011, 0.9318, 0.6987, 1.1328, 0.7978, 0.899, 0.8996, 0.5041, 0.3776, 0.3875, 0.4372, 0.4674, 0.6482, 0.2698, 1.3534, 1.3506, 1.3484, 1.347, 1.3464, 1.3455, 1.3422, 1.3416, 1.3416, 1.3391, 1.3377, 1.3376, 1.3357, 1.3356, 1.3355, 1.335, 1.3341, 1.334, 1.3316, 1.3269, 1.3265, 1.3251, 1.3251, 1.3243, 1.3243, 1.3242, 1.3223, 1.3219, 1.3169, 1.3165, 1.3081, 1.306, 1.3138, 1.3036, 1.3106, 1.299, 1.2446, 1.271, 1.2681, 1.2573, 1.2733, 1.2398, 1.287, 1.2376, 1.2512, 1.1631, 1.1445, 1.1686, 0.9886, 1.2046, 1.1251, 0.976, 1.1198, 0.9991, 0.8389, 1.077, 0.8591, 0.8545, 0.6616, 0.9599, 0.579, 0.6118, 0.6294, 0.5189, 0.3099, 1.4182, 1.4142, 1.4113, 1.411, 1.411, 1.4102, 1.41, 1.4095, 1.4089, 1.4084, 1.407, 1.4057, 1.4052, 1.4049, 1.4049, 1.4048, 1.4041, 1.404, 1.4028, 1.4008, 1.4004, 1.4003, 1.3991, 1.3976, 1.3971, 1.3956, 1.3955, 1.3954, 1.3953, 1.3952, 1.3761, 1.3911, 1.369, 1.3592, 1.3794, 1.3716, 1.3723, 1.3634, 1.3622, 1.3536, 1.3277, 1.3743, 1.302, 1.3412, 1.2615, 1.2866, 1.3608, 1.3478, 1.2997, 1.2871, 1.1865, 1.2244, 1.2853, 1.09, 1.2031, 0.9843, 0.7332, 0.8085, 0.7728, 0.7183, 1.0126, 0.9185, 0.208, 0.6298, 0.4209, 1.4271, 1.427, 1.4259, 1.4248, 1.4238, 1.4238, 1.4237, 1.4232, 1.4232, 1.4226, 1.4222, 1.4221, 1.4219, 1.4214, 1.4214, 1.4212, 1.4211, 1.4211, 1.4207, 1.4205, 1.4205, 1.4197, 1.4193, 1.4174, 1.4173, 1.4171, 1.4169, 1.4168, 1.4166, 1.4165, 1.415, 1.4164, 1.4124, 1.416, 1.4096, 1.4077, 1.3967, 1.4061, 1.4048, 1.3793, 1.3748, 1.4043, 1.3758, 1.3575, 1.3681, 1.3827, 1.331, 1.3606, 1.3694, 1.3693, 1.3518, 1.3306, 1.2825, 1.2245, 1.2596, 1.2517, 1.0246, 1.2646, 1.0983, 1.3074, 0.8639, 0.673, 1.0668, 0.6718, 0.9601, 0.4093]}, \"token.table\": {\"Topic\": [3, 1, 3, 4, 1, 2, 3, 4, 1, 2, 3, 4, 1, 4, 1, 2, 3, 4, 1, 2, 3, 4, 1, 2, 3, 4, 1, 2, 3, 4, 1, 2, 3, 4, 1, 2, 3, 4, 4, 1, 2, 3, 4, 1, 3, 1, 2, 3, 4, 1, 2, 3, 4, 1, 2, 3, 4, 1, 2, 3, 4, 2, 3, 3, 3, 3, 3, 1, 2, 3, 4, 1, 2, 3, 4, 2, 3, 4, 1, 2, 3, 4, 1, 2, 3, 4, 1, 2, 3, 4, 1, 2, 3, 4, 4, 4, 1, 2, 3, 4, 1, 2, 4, 1, 2, 3, 4, 1, 2, 3, 4, 1, 2, 3, 4, 1, 1, 2, 3, 4, 1, 2, 3, 4, 3, 2, 2, 1, 2, 3, 4, 1, 2, 3, 4, 1, 2, 3, 4, 1, 2, 3, 4, 1, 2, 3, 4, 1, 2, 3, 4, 1, 2, 3, 4, 1, 2, 3, 4, 1, 2, 3, 4, 1, 2, 3, 4, 1, 2, 3, 4, 1, 2, 3, 4, 1, 2, 3, 4, 1, 2, 3, 4, 1, 2, 3, 4, 1, 2, 3, 4, 1, 4, 1, 2, 3, 4, 1, 2, 3, 4, 2, 4, 1, 2, 3, 4, 3, 3, 1, 2, 3, 4, 1, 2, 3, 4, 1, 2, 3, 4, 1, 2, 3, 4, 3, 1, 2, 3, 4, 1, 2, 3, 4, 1, 2, 3, 4, 1, 2, 3, 4, 1, 2, 3, 4, 3, 1, 2, 3, 4, 1, 2, 1, 2, 3, 4, 1, 2, 3, 4, 1, 2, 3, 4, 1, 2, 3, 4, 1, 2, 3, 4, 1, 2, 3, 4, 1, 2, 3, 4, 1, 2, 3, 4, 1, 2, 3, 4, 2, 1, 2, 3, 4, 1, 2, 3, 4, 1, 2, 3, 4, 1, 2, 3, 4, 1, 2, 3, 4, 1, 2, 3, 4, 1, 2, 3, 4, 4, 2, 1, 2, 4, 1, 2, 3, 4, 2, 4, 1, 2, 3, 4, 1, 2, 3, 4, 1, 2, 3, 4, 1, 2, 3, 4, 1, 2, 3, 4, 1, 2, 3, 4, 1, 2, 3, 4, 1, 2, 3, 4, 1, 2, 3, 4, 1, 2, 3, 4, 1, 4, 4, 1, 2, 3, 4, 1, 2, 3, 4, 1, 2, 3, 4, 1, 2, 3, 4, 1, 2, 3, 4, 1, 2, 3, 4, 1, 2, 3, 4, 1, 3, 1, 2, 3, 4, 3, 1, 2, 3, 4, 1, 2, 1, 2, 3, 4, 1, 2, 3, 4, 3, 1, 2, 3, 4, 3, 2, 1, 2, 3, 4, 2, 4, 1, 2, 3, 4, 3, 1, 2, 3, 4, 1, 2, 3, 4, 1, 2, 3, 4, 1, 2, 3, 4, 1, 2, 3, 4, 1, 2, 3, 4, 1, 2, 3, 4, 1, 2, 3, 4, 3, 1, 2, 3, 4, 1, 2, 3, 4, 1, 2, 3, 4, 1, 2, 3, 4, 1, 2, 3, 4, 1, 2, 3, 4, 4, 1, 2, 3, 4, 1, 2, 3, 4, 1, 2, 2, 1, 2, 3, 4, 1, 2, 3, 4, 1, 2, 3, 4, 1, 2, 3, 4, 1, 2, 3, 4, 1, 2, 3, 4, 1, 2, 3, 4, 1, 2, 3, 4, 1, 2, 3, 4, 1, 2, 3, 4, 1, 2, 3, 4, 1, 2, 3, 4, 1, 2, 3, 4, 1, 2, 3, 4, 1, 2, 3, 4, 1, 2, 3, 4, 4, 1, 2, 3, 1, 2, 3, 4, 2, 4, 1, 2, 3, 4, 4, 4, 1, 4, 1, 2, 3, 4, 1, 2, 3, 4, 1, 2, 3, 4, 3, 1, 2, 3, 4, 1, 2, 3, 4, 4, 1, 2, 3, 4, 1, 2, 3, 4, 3, 3, 4, 1, 2, 3, 4, 1, 2, 3, 4, 1, 2, 3, 1, 2, 3, 4, 1, 2, 3, 4, 1, 2, 3, 4, 1, 2, 3, 4, 1, 2, 3, 4, 1, 2, 3, 4, 1, 2, 3, 4, 1, 2, 3, 4, 1, 2, 3, 4, 1, 2, 3, 4, 1, 2, 3, 4, 1, 2, 3, 4, 2, 3, 4, 1, 2, 3, 4, 1, 2, 3, 4, 1, 2, 3, 4, 1, 2, 3, 4, 1, 1, 2, 3, 4, 1, 2, 3, 4, 1, 2, 3, 4, 1, 2, 3, 1, 2, 3, 4, 3, 1, 2, 3, 4, 1, 2, 3, 4, 1, 2, 3, 4, 1, 2, 3, 4, 1, 2, 3, 4, 1, 2, 3, 1, 2, 3, 4, 4, 1, 2, 3, 4, 1, 2, 4, 1, 2, 3, 4, 1, 2, 3, 4, 1, 2, 1, 2, 3, 4, 1, 2, 3, 4, 1, 2, 3, 4, 1, 2, 3, 4, 2, 3, 1, 2, 3, 4, 4, 4, 1, 2, 3, 4, 1, 1, 2, 3, 4, 1, 1, 2, 3, 4, 2], \"Freq\": [0.981204713434902, 0.9428365349898562, 0.02417529576897067, 0.02417529576897067, 0.29191454575379616, 0.6801150411541325, 0.019868529292143194, 0.0061133936283517525, 0.034755156197524714, 0.006516591787035884, 0.9101506529226785, 0.04778833977159649, 0.012332519870680042, 0.9866015896544034, 0.005662080398094504, 0.9625536676760658, 0.022648321592378017, 0.011324160796189009, 0.012243360206605759, 0.028567840482080106, 0.008162240137737172, 0.9509009760463806, 0.2548500072329413, 0.0814469095280534, 0.039409794932929065, 0.6226747599402792, 0.01784770202344914, 0.00594923400781638, 0.9578266752584371, 0.01784770202344914, 0.023667407133712622, 0.023667407133712622, 0.9526131371319331, 0.0059168517834281556, 0.04374534013046076, 0.030621738091322532, 0.8749068026092152, 0.05249440815655291, 0.9921475158406093, 0.009060476123133957, 0.004530238061566979, 0.9815515800061788, 0.004530238061566979, 0.008864580097126889, 0.9839683907810846, 0.0038044086426819563, 0.0038044086426819563, 0.9891462470973087, 0.0038044086426819563, 0.791309515264309, 0.11387849112659798, 0.008759883932815229, 0.08467887801721388, 0.9334558490517778, 0.011112569631568783, 0.016668854447353176, 0.038893993710490744, 0.9314966493793456, 0.053228379964534035, 0.017742793321511345, 0.008871396660755673, 0.011773660674659224, 0.9772138359967156, 0.9521612455719575, 0.9911239165457473, 0.9812053761518316, 0.9696026097095479, 0.9276228188273433, 0.05679323380575572, 0.012620718623501271, 0.0063103593117506355, 0.9581600094529483, 0.0029849221478284995, 0.026864299330456497, 0.008954766443485498, 0.011772543144119008, 0.9771210809618777, 0.9886430425017784, 0.014909352395469233, 0.9005248846863416, 0.04174618670731385, 0.04174618670731385, 0.003870517418369867, 0.9753703894292065, 0.003870517418369867, 0.015482069673479468, 0.055471716353855116, 0.08483909560001371, 0.8527416788514198, 0.006526084276924131, 0.053417405310299634, 0.8546784849647941, 0.08457755840797442, 0.00890290088504994, 0.9895944704480726, 0.989768866900351, 0.004485621517365076, 0.005980828689820101, 0.0014952071724550252, 0.9883319409927718, 0.004944436809630702, 0.004944436809630702, 0.9888873619261404, 0.0029692904123496755, 0.005938580824699351, 0.0029692904123496755, 0.988773707312442, 0.0023545234779091128, 0.014127140867454676, 0.0023545234779091128, 0.9818362902880999, 0.0033071060264477374, 0.11574871092567081, 0.8763830970086505, 0.006614212052895475, 0.9874161216045254, 0.32342170849359075, 0.5929397989049163, 0.051139329975482296, 0.03178931322800251, 0.6485377985590463, 0.06787023473292345, 0.23377525296895854, 0.05027424795031366, 0.9836940413117317, 0.9698513716681747, 0.9862468345000466, 0.4366019788819857, 0.49767427949940635, 0.03898231954303444, 0.027287623680124107, 0.012446118104033793, 0.01866917715605069, 0.9521280349585851, 0.01866917715605069, 0.9651770263825514, 0.005026963679075789, 0.020107854716303157, 0.005026963679075789, 0.006012363252302882, 0.01803708975690865, 0.006012363252302882, 0.974002846873067, 0.016091109992869595, 0.004022777498217399, 0.004022777498217399, 0.9775349320668278, 0.016387600466934403, 0.03605272102725569, 0.044246521260722885, 0.9029567857280856, 0.002988864447710231, 0.008966593343130692, 0.002988864447710231, 0.9833364032966659, 0.09616360843998074, 0.00874214622181643, 0.03496858488726572, 0.8596443784786157, 0.9076819389647213, 0.0074400158931534534, 0.07440015893153452, 0.014880031786306907, 0.11524971319284111, 0.6026993198117429, 0.01511471648430703, 0.2682862175964498, 0.009717444745247005, 0.004858722372623503, 0.014576167117870508, 0.9717444745247005, 0.007347668410837462, 0.0391875648577998, 0.007347668410837462, 0.9454000021944201, 0.06668734909595542, 0.7538569897803655, 0.15946974783815426, 0.020296149724855994, 0.029096847366787568, 0.481714473072372, 0.02263088128527922, 0.46716604938897816, 0.03714837255479959, 0.2812662493434826, 0.666017250803907, 0.01592073109491411, 0.004655927765950651, 0.004655927765950651, 0.004655927765950651, 0.9870566863815379, 0.008075498917723857, 0.9932863668800345, 0.06505402882940459, 0.8066699574846169, 0.11709725189292826, 0.010408644612704734, 0.749372075097462, 0.0749372075097462, 0.1124058112646193, 0.0624476729247885, 0.9888903457212809, 0.005782984477902227, 0.9361965373765806, 0.007611353962411225, 0.007611353962411225, 0.04566812377446735, 0.9905376906157862, 0.9898906345925431, 0.6677161536310664, 0.21546112305667, 0.10666392230528218, 0.008533113784422574, 0.0031849012003536304, 0.1369507516152061, 0.012739604801414521, 0.843998818093712, 0.26198308086922495, 0.026198308086922494, 0.018338815660845744, 0.694255164303446, 0.1312596098002537, 0.14167703914948018, 0.645880619652042, 0.07917246305412129, 0.9864012221356161, 0.14154419156215226, 0.014744186621057526, 0.008846511972634516, 0.8345209627518559, 0.026559043722688216, 0.9472725594425463, 0.008853014574229405, 0.008853014574229405, 0.011311321055846034, 0.9576918493949641, 0.01885220175974339, 0.011311321055846034, 0.038956910259654746, 0.0033875574138830214, 0.013550229655532086, 0.9434347397664214, 0.011470124471668175, 0.007646749647778783, 0.873641147258726, 0.10705449506890297, 0.9664375211815768, 0.9380143297555815, 0.018329015638902168, 0.03126714432518605, 0.012938128686283882, 0.9351744647443061, 0.04065975933670896, 0.15434082071294603, 0.14189398033286973, 0.038585205178236506, 0.664661276296074, 0.7292010712204485, 0.23693284017572933, 0.011501594183287831, 0.020702869529918098, 0.8360910794788717, 0.15495124252890285, 0.00322815088601881, 0.00645630177203762, 0.723688005977099, 0.24264833141585085, 0.008513976540907048, 0.025541929622721143, 0.014356036082422571, 0.2949512867843183, 0.50246126288479, 0.18793356326080457, 0.3878250969385392, 0.34969991791746247, 0.20114318586981864, 0.06047442189550103, 0.5844789739043594, 0.1644940824760772, 0.2257418791427017, 0.024499118666649795, 0.646515419815545, 0.13888109018259853, 0.20592713371902543, 0.007183504664617166, 0.3843130422536429, 0.12188568977623625, 0.02611836209490777, 0.46764305465168193, 0.945368714519127, 0.957034533977088, 0.018765383019158588, 0.018765383019158588, 0.009382691509579294, 0.974734091762224, 0.02103742644091131, 0.00701247548030377, 0.00701247548030377, 0.9314120755581174, 0.03350403149489631, 0.02680322519591705, 0.0067008062989792625, 0.008036866106858512, 0.008036866106858512, 0.004018433053429256, 0.9804976650367384, 0.7921063922415876, 0.07745040279695524, 0.017602364272035282, 0.1126551313410258, 0.016476654531326067, 0.025630351493173883, 0.012815175746586941, 0.9483230052474336, 0.026416840268219333, 0.006604210067054833, 0.9444020395888412, 0.026416840268219333, 0.9887166164233512, 0.9845654742878549, 0.023259108977120566, 0.9652530225505035, 0.011629554488560283, 0.04583343821125019, 0.7857160836214319, 0.10148832746776827, 0.06547634030178599, 0.9773234247526401, 0.9792553409602894, 0.9394246242382669, 0.01145639785656423, 0.02291279571312846, 0.02291279571312846, 0.022914361644217972, 0.8249170191918469, 0.14730661056997266, 0.006546960469776563, 0.04118654498169304, 0.695835838901235, 0.24711926989015826, 0.017341703150186544, 0.029200034353482462, 0.014600017176741231, 0.944134444095933, 0.014600017176741231, 0.010744882260804405, 0.015042835165126165, 0.956294521211592, 0.017191811617287046, 0.012463055676307948, 0.04569787081312914, 0.934729175723096, 0.004154351892102649, 0.008548680705568523, 0.9660009197292432, 0.025646042116705573, 0.008548680705568523, 0.03435017550316502, 0.9446298263370381, 0.011450058501055007, 0.005725029250527504, 0.13065163146322, 0.3526019933465214, 0.36834315376377685, 0.14954102396392652, 0.004181949423181485, 0.0020909747115907427, 0.0020909747115907427, 0.9932129880056028, 0.010812914688709124, 0.9839752366725303, 0.9887734313553427, 0.05484431325718787, 0.0049858466597443515, 0.0049858466597443515, 0.9373391720319382, 0.00850086986711185, 0.0170017397342237, 0.9520974251165273, 0.0170017397342237, 0.9467647229149617, 0.009343072923502912, 0.003114357641167637, 0.043601006976346925, 0.9195523333447303, 0.008582488444550816, 0.05762527955626977, 0.013486767555722711, 0.9397883227286712, 0.013425547467552446, 0.013425547467552446, 0.013425547467552446, 0.0013932071246750462, 0.9752449872725323, 0.008359242748050277, 0.013932071246750461, 0.045827157754696084, 0.9165431550939217, 0.0249966315025615, 0.01249831575128075, 0.9782370305053318, 0.01397481472150474, 0.9602594884454267, 0.010494639217982807, 0.007870979413487104, 0.023612938240461314, 0.9837375561735825, 0.5027682006899677, 0.025564484780845817, 0.17256027227070925, 0.29825232244320116, 0.9810293568235771, 0.9892979934926754, 0.25545747268780755, 0.6686975020357315, 0.04758521550067003, 0.025044850263510544, 0.006802434917697179, 0.0034012174588485895, 0.9863530630660909, 0.0034012174588485895, 0.9724117654090442, 0.030346117097299067, 0.910383512918972, 0.015173058548649533, 0.042484563936218696, 0.9832297013766479, 0.9961948676843012, 0.022495989208710845, 0.07123729916091767, 0.007498663069570281, 0.9035888998832189, 0.007542554432075658, 0.9880746306019111, 0.016558494381280486, 0.014488682583620427, 0.004139623595320122, 0.9645322977095884, 0.9833917756486817, 0.00554696110072508, 0.9623977509758013, 0.0277348055036254, 0.00277348055036254, 0.11132797606672634, 0.0038388957264388394, 0.0038388957264388394, 0.882946017080933, 0.07609330056985901, 0.05978759330488922, 0.8207205990034793, 0.04167014078825612, 0.009475310057624106, 0.004737655028812053, 0.9759569359352829, 0.014212965086436158, 0.012563471828974115, 0.9673873308310068, 0.02512694365794823, 0.012563471828974115, 0.8696030453245056, 0.028849390129249, 0.05357743881146243, 0.049456097364426854, 0.927110836987311, 0.053487163672344865, 0.008914527278724145, 0.008914527278724145, 0.005186857689275391, 0.010373715378550781, 0.005186857689275391, 0.9855029609623241, 0.9907939770398208, 0.04225492964491374, 0.02446338032073953, 0.004447887331043551, 0.9273845085225804, 0.005759621368025332, 0.005759621368025332, 0.9848952539323317, 0.005759621368025332, 0.9650213166181538, 0.005105932892159544, 0.005105932892159544, 0.02552966446079772, 0.941936308324122, 0.01108160362734261, 0.03324481088202783, 0.02216320725468522, 0.021470678573193444, 0.00766809949042623, 0.8879659209913574, 0.08281547449660329, 0.03956169444974194, 0.008791487655498208, 0.035165950621992834, 0.9231062038273119, 0.9869727595831681, 0.7892538279406408, 0.05111747590289124, 0.01022349518057825, 0.14926302963644245, 0.818960172458973, 0.02641807007932171, 0.008806023359773903, 0.1452993854362694, 0.9874202270225381, 0.9895213673944424, 0.9797589598721864, 0.9530100799278707, 0.01176555654231939, 0.02941389135579848, 0.005882778271159695, 0.1252669820765898, 0.0626334910382949, 0.8024916039281533, 0.007829186379786862, 0.008003728746865077, 0.06002796560148808, 0.9244306702629164, 0.008003728746865077, 0.0036790470764496382, 0.0073580941528992765, 0.9896636635649526, 0.0036790470764496382, 0.054223013365733215, 0.883060503384798, 0.046476868599199896, 0.01936536191633329, 0.045104813824558804, 0.9141242268443917, 0.00902096276491176, 0.0300698758830392, 0.9384077529355223, 0.04938988173344854, 0.007055697390492648, 0.003527848695246324, 0.9268513501733001, 0.02279142664360574, 0.04558285328721148, 0.0037985711072676233, 0.10297541873417893, 0.6060356610749219, 0.2836044319236403, 0.006752486474372388, 0.4208624383611286, 0.005091077883400749, 0.008485129805667915, 0.5668066710186167, 0.006806941672728898, 0.10210412509093347, 0.8849024174547567, 0.003403470836364449, 0.2892238149755728, 0.473001447407968, 0.058748587416913224, 0.1792585103234019, 0.03102237798376363, 0.9539381230007317, 0.0077555944959409075, 0.0077555944959409075, 0.4072409652880586, 0.027472604801178555, 0.5413719181408715, 0.02262449807155881, 0.012323857520518535, 0.9458560646997975, 0.015404821900648168, 0.02464771504103707, 0.0014675984221279427, 0.9788881475593377, 0.004402795266383828, 0.014675984221279427, 0.987139439044959, 0.01828547062418886, 0.9691299430820095, 0.01828547062418886, 0.01674196497603243, 0.9480137667678364, 0.01674196497603243, 0.01674196497603243, 0.012325709721838132, 0.9860567777470506, 0.0034974526792787143, 0.0017487263396393571, 0.0017487263396393571, 0.9932765609151548, 0.9883714867545962, 0.995678096626867, 0.004587626837361921, 0.995515023707537, 0.0037183639664873135, 0.0018591819832436567, 0.0037183639664873135, 0.990943997068869, 0.006092275329708627, 0.001740650094202465, 0.9895595785541014, 0.0026109751413036977, 0.002135051181747089, 0.002135051181747089, 0.9927987995123962, 0.002135051181747089, 0.9889017171193193, 0.02549500393335446, 0.006953182890914852, 0.6049269115095921, 0.36388323795787725, 0.14064340487206975, 0.7899969975792853, 0.04189378017465907, 0.026931715826566546, 0.9856954497666477, 0.012905490110627051, 0.9808172484076559, 0.012905490110627051, 0.012905490110627051, 0.015521912053555994, 0.0019402390066944992, 0.9487768742736101, 0.031043824107111987, 0.9965985625298031, 0.9858368566011287, 0.991400920550547, 0.17162318941919782, 0.09578968711769181, 0.7184226533826886, 0.013969329371330056, 0.3451102085484998, 0.45777015266143983, 0.08556451451615697, 0.11265994411294002, 0.023535510741158994, 0.011767755370579497, 0.9649559403875188, 0.009177568366121023, 0.6894648235048418, 0.2971237758531681, 0.0045887841830605115, 0.36692094661164587, 0.43039672218581243, 0.1718490509446949, 0.029415603314857684, 0.9435060651365063, 0.028591092882924433, 0.005198380524168079, 0.023392712358756354, 0.14745754140893255, 0.02457625690148876, 0.015639436210038302, 0.811016477749129, 0.006299062389445837, 0.006299062389445837, 0.006299062389445837, 0.9826537327535505, 0.027206603371159915, 0.22218726086447263, 0.034008254213949894, 0.7164405554405444, 0.01391907691393183, 0.9256186147764667, 0.02783815382786366, 0.034797692284829575, 0.8523503053034599, 0.08689007966685756, 0.02896335988895252, 0.03310098273023145, 0.03649062118277568, 0.014034854301067568, 0.011227883440854056, 0.9375282673113136, 0.010068024736579166, 0.9665303747115999, 0.013424032982105554, 0.013424032982105554, 0.003619539181365771, 0.9736560397873925, 0.009048847953414428, 0.014478156725463084, 0.010199805739348115, 0.984281253847093, 0.0050999028696740575, 0.0050999028696740575, 0.9649375936837937, 0.015818649076783504, 0.015818649076783504, 0.007161259082104058, 0.9739312351661518, 0.02148377724631217, 0.007161259082104058, 0.05206834563276434, 0.9372302213897581, 0.007438335090394906, 0.007438335090394906, 0.12098074712139874, 0.024196149424279747, 0.013442305235710971, 0.8414883077555068, 0.00948232378189917, 0.8960795973894715, 0.09008207592804211, 0.004741161890949585, 0.9901765508146241, 0.010077141480356705, 0.010077141480356705, 0.005038570740178353, 0.9724441528544221, 0.703515919028614, 0.007626188824158417, 0.21925292869455448, 0.07054224662346535, 0.9507354604235992, 0.009230441363335916, 0.02461451030222911, 0.015384068938893191, 0.008570798388435644, 0.9856418146700991, 0.008570798388435644, 0.08134954242719825, 0.09614036832305248, 0.7913091854282012, 0.03081422061636297, 0.9816874426126874, 0.004795556835475162, 0.047955568354751614, 0.9447246965886068, 0.004795556835475162, 0.00423380826020427, 0.05292260325255337, 0.939905433765348, 0.00423380826020427, 0.9724320287593003, 0.008412041771274224, 0.016824083542548447, 0.001682408354254845, 0.9633783290663605, 0.012676030645610006, 0.02028164903297601, 0.002535206129122001, 0.9478161213598599, 0.007643678398063387, 0.03821839199031693, 0.007643678398063387, 0.9511322804065665, 0.04373021978880766, 0.010932554947201915, 0.09445281054874925, 0.8219947296404665, 0.06381946658699274, 0.020422229307837676, 0.9870646408759649, 0.0167603673344145, 0.8898231384816425, 0.007618348788370227, 0.08532550642974654, 0.012343021207829489, 0.9812701860224444, 0.0061715106039147444, 0.009591958985175621, 0.01438793847776343, 0.0047959794925878105, 0.9735838369953255, 0.10163130973879238, 0.014945780843940056, 0.5231023295379019, 0.35869874025456133, 0.9406549572763212, 0.04089804162070962, 0.10735994023091866, 0.886343692604096, 0.002496742796067876, 0.004993485592135752, 0.30836367832564876, 0.013407116448941249, 0.45392665691415374, 0.22600567728215248, 0.007271465743721513, 0.0581717259497721, 0.0036357328718607564, 0.9307476151963536, 0.5302032300858879, 0.2773748379615988, 0.050320213966484735, 0.14236938585639583, 0.95336317069322, 0.027238947734092, 0.33806841924379905, 0.14402017860161842, 0.4957326147655708, 0.02274002820025554, 0.9904637227257438, 0.9874101464021423, 0.961869332914077, 0.014356258700210104, 0.014356258700210104, 0.014356258700210104, 0.9768856549107761, 0.048694613355570904, 0.006086826669446363, 0.9312844804252935, 0.01826048000833909, 0.9777550570372304, 0.009597616379955083, 0.004798808189977541, 0.04798808189977541, 0.9405664052355981, 0.9808925248380185], \"Term\": [\"accelerated_gradient\", \"acceptance\", \"acceptance\", \"acceptance\", \"active_learning\", \"active_learning\", \"active_learning\", \"active_learning\", \"agent\", \"agent\", \"agent\", \"agent\", \"alex_graf\", \"alex_graf\", \"alternating_minimization\", \"alternating_minimization\", \"alternating_minimization\", \"alternating_minimization\", \"analogy\", \"analogy\", \"analogy\", \"analogy\", \"answer\", \"answer\", \"answer\", \"answer\", \"arm\", \"arm\", \"arm\", \"arm\", \"armed\", \"armed\", \"armed\", \"armed\", \"asynchronous\", \"asynchronous\", \"asynchronous\", \"asynchronous\", \"autoencoder\", \"bandit\", \"bandit\", \"bandit\", \"bandit\", \"bandit_feedback\", \"bandit_feedback\", \"bandit_problem\", \"bandit_problem\", \"bandit_problem\", \"bandit_problem\", \"bayesian_inference\", \"bayesian_inference\", \"bayesian_inference\", \"bayesian_inference\", \"bayesian_network\", \"bayesian_network\", \"bayesian_network\", \"bayesian_network\", \"bayesian_nonparametric\", \"bayesian_nonparametric\", \"bayesian_nonparametric\", \"bayesian_nonparametric\", \"bianchi\", \"bianchi\", \"bianchi_lugosi\", \"bianchi_regret\", \"bubeck\", \"bubeck_cesa\", \"calibration\", \"calibration\", \"calibration\", \"calibration\", \"causal\", \"causal\", \"causal\", \"causal\", \"cesa\", \"cesa\", \"cnns\", \"completion\", \"completion\", \"completion\", \"completion\", \"compressed_sensing\", \"compressed_sensing\", \"compressed_sensing\", \"compressed_sensing\", \"convergence_rate\", \"convergence_rate\", \"convergence_rate\", \"convergence_rate\", \"convex_relaxation\", \"convex_relaxation\", \"convex_relaxation\", \"convex_relaxation\", \"convnet\", \"convnets\", \"convolutional\", \"convolutional\", \"convolutional\", \"convolutional\", \"convolutional_layer\", \"convolutional_layer\", \"convolutional_layer\", \"convolutional_network\", \"convolutional_network\", \"convolutional_network\", \"convolutional_network\", \"convolutional_neural\", \"convolutional_neural\", \"convolutional_neural\", \"convolutional_neural\", \"coordinate_descent\", \"coordinate_descent\", \"coordinate_descent\", \"coordinate_descent\", \"covariance_function\", \"covariance_matrix\", \"covariance_matrix\", \"covariance_matrix\", \"covariance_matrix\", \"cover\", \"cover\", \"cover\", \"cover\", \"current_iterate\", \"dantzig\", \"dantzig_selector\", \"data_set\", \"data_set\", \"data_set\", \"data_set\", \"decision_maker\", \"decision_maker\", \"decision_maker\", \"decision_maker\", \"decision_rule\", \"decision_rule\", \"decision_rule\", \"decision_rule\", \"decoder\", \"decoder\", \"decoder\", \"decoder\", \"deep_convolutional\", \"deep_convolutional\", \"deep_convolutional\", \"deep_convolutional\", \"deep_learning\", \"deep_learning\", \"deep_learning\", \"deep_learning\", \"deep_network\", \"deep_network\", \"deep_network\", \"deep_network\", \"deep_neural\", \"deep_neural\", \"deep_neural\", \"deep_neural\", \"directed_edge\", \"directed_edge\", \"directed_edge\", \"directed_edge\", \"document\", \"document\", \"document\", \"document\", \"dropout\", \"dropout\", \"dropout\", \"dropout\", \"during_training\", \"during_training\", \"during_training\", \"during_training\", \"eigenvalue\", \"eigenvalue\", \"eigenvalue\", \"eigenvalue\", \"embedding\", \"embedding\", \"embedding\", \"embedding\", \"empirical_risk\", \"empirical_risk\", \"empirical_risk\", \"empirical_risk\", \"encoder\", \"encoder\", \"encoder\", \"encoder\", \"encoder_decoder\", \"encoder_decoder\", \"estimation_error\", \"estimation_error\", \"estimation_error\", \"estimation_error\", \"event\", \"event\", \"event\", \"event\", \"exact_recovery\", \"exact_recovery\", \"expectation_propagation\", \"expectation_propagation\", \"expectation_propagation\", \"expectation_propagation\", \"expected_cost\", \"expected_reward\", \"exponential_family\", \"exponential_family\", \"exponential_family\", \"exponential_family\", \"feature_map\", \"feature_map\", \"feature_map\", \"feature_map\", \"filter\", \"filter\", \"filter\", \"filter\", \"first_order\", \"first_order\", \"first_order\", \"first_order\", \"fischer_finite\", \"frame\", \"frame\", \"frame\", \"frame\", \"frobenius\", \"frobenius\", \"frobenius\", \"frobenius\", \"frobenius_norm\", \"frobenius_norm\", \"frobenius_norm\", \"frobenius_norm\", \"fully_connected\", \"fully_connected\", \"fully_connected\", \"fully_connected\", \"game\", \"game\", \"game\", \"game\", \"game_cambridge\", \"gaussian_process\", \"gaussian_process\", \"gaussian_process\", \"gaussian_process\", \"gelman\", \"gelman\", \"generative_model\", \"generative_model\", \"generative_model\", \"generative_model\", \"gibbs\", \"gibbs\", \"gibbs\", \"gibbs\", \"gibbs_sampler\", \"gibbs_sampler\", \"gibbs_sampler\", \"gibbs_sampler\", \"gibbs_sampling\", \"gibbs_sampling\", \"gibbs_sampling\", \"gibbs_sampling\", \"gradient_descent\", \"gradient_descent\", \"gradient_descent\", \"gradient_descent\", \"graphical_model\", \"graphical_model\", \"graphical_model\", \"graphical_model\", \"greedy\", \"greedy\", \"greedy\", \"greedy\", \"greedy_algorithm\", \"greedy_algorithm\", \"greedy_algorithm\", \"greedy_algorithm\", \"ground_truth\", \"ground_truth\", \"ground_truth\", \"ground_truth\", \"halko\", \"hamiltonian\", \"hamiltonian\", \"hamiltonian\", \"hamiltonian\", \"hamiltonian_monte\", \"hamiltonian_monte\", \"hamiltonian_monte\", \"hamiltonian_monte\", \"hamming_distance\", \"hamming_distance\", \"hamming_distance\", \"hamming_distance\", \"hidden_layer\", \"hidden_layer\", \"hidden_layer\", \"hidden_layer\", \"hidden_markov\", \"hidden_markov\", \"hidden_markov\", \"hidden_markov\", \"hidden_unit\", \"hidden_unit\", \"hidden_unit\", \"hidden_unit\", \"horizon\", \"horizon\", \"horizon\", \"horizon\", \"image_caption\", \"incoherence\", \"incomplete_data\", \"incomplete_data\", \"incomplete_data\", \"inner_product\", \"inner_product\", \"inner_product\", \"inner_product\", \"isometry\", \"krizhevsky\", \"langevin_dynamic\", \"langevin_dynamic\", \"langevin_dynamic\", \"langevin_dynamic\", \"lasso\", \"lasso\", \"lasso\", \"lasso\", \"least_square\", \"least_square\", \"least_square\", \"least_square\", \"lifted\", \"lifted\", \"lifted\", \"lifted\", \"line_search\", \"line_search\", \"line_search\", \"line_search\", \"linear_convergence\", \"linear_convergence\", \"linear_convergence\", \"linear_convergence\", \"linear_measurement\", \"linear_measurement\", \"linear_measurement\", \"linear_measurement\", \"link_function\", \"link_function\", \"link_function\", \"link_function\", \"logistic_regression\", \"logistic_regression\", \"logistic_regression\", \"logistic_regression\", \"lstm\", \"lstm\", \"lstm\", \"lstm\", \"lstm_lstm\", \"lstm_lstm\", \"lstms\", \"machine_translation\", \"machine_translation\", \"machine_translation\", \"machine_translation\", \"maker\", \"maker\", \"maker\", \"maker\", \"marginal_likelihood\", \"marginal_likelihood\", \"marginal_likelihood\", \"marginal_likelihood\", \"markov_chain\", \"markov_chain\", \"markov_chain\", \"markov_chain\", \"markov_chain_monte_carlo\", \"markov_chain_monte_carlo\", \"markov_chain_monte_carlo\", \"markov_chain_monte_carlo\", \"matrix_completion\", \"matrix_completion\", \"matrix_completion\", \"matrix_completion\", \"matrix_factorization\", \"matrix_factorization\", \"matrix_factorization\", \"matrix_factorization\", \"maximizing_submodular\", \"maximizing_submodular\", \"mcmc\", \"mcmc\", \"mcmc\", \"mcmc\", \"mdps\", \"mechanism\", \"mechanism\", \"mechanism\", \"mechanism\", \"metropolis_hastings\", \"moitra\", \"moment\", \"moment\", \"moment\", \"moment\", \"multi_armed\", \"multi_armed\", \"multi_armed\", \"multi_armed\", \"multi_armed_bandit_problem\", \"multi_label\", \"multi_label\", \"multi_label\", \"multi_label\", \"multiarmed_bandit\", \"multilabel\", \"natural_image\", \"natural_image\", \"natural_image\", \"natural_image\", \"network_architecture\", \"network_architecture\", \"neuron\", \"neuron\", \"neuron\", \"neuron\", \"nicolo_cesa\", \"nuclear_norm\", \"nuclear_norm\", \"nuclear_norm\", \"nuclear_norm\", \"object_detection\", \"object_detection\", \"object_detection\", \"object_detection\", \"online_learning\", \"online_learning\", \"online_learning\", \"online_learning\", \"optimal_control\", \"optimal_control\", \"optimal_control\", \"optimal_control\", \"orthonormal\", \"orthonormal\", \"orthonormal\", \"orthonormal\", \"parent\", \"parent\", \"parent\", \"parent\", \"particle\", \"particle\", \"particle\", \"particle\", \"patch\", \"patch\", \"patch\", \"patch\", \"peter_auer\", \"pixel\", \"pixel\", \"pixel\", \"pixel\", \"player\", \"player\", \"player\", \"player\", \"point_process\", \"point_process\", \"point_process\", \"point_process\", \"poisson_process\", \"poisson_process\", \"poisson_process\", \"poisson_process\", \"policy\", \"policy\", \"policy\", \"policy\", \"pooling\", \"pooling\", \"pooling\", \"pooling\", \"pooling_layer\", \"posterior_distribution\", \"posterior_distribution\", \"posterior_distribution\", \"posterior_distribution\", \"posterior_mean\", \"posterior_mean\", \"posterior_mean\", \"posterior_mean\", \"posterior_predictive\", \"prateek\", \"prateek_jain\", \"predictive_distribution\", \"predictive_distribution\", \"predictive_distribution\", \"predictive_distribution\", \"price\", \"price\", \"price\", \"price\", \"primal\", \"primal\", \"primal\", \"primal\", \"primal_dual\", \"primal_dual\", \"primal_dual\", \"primal_dual\", \"principal\", \"principal\", \"principal\", \"principal\", \"principal_component\", \"principal_component\", \"principal_component\", \"principal_component\", \"privacy\", \"privacy\", \"privacy\", \"privacy\", \"private\", \"private\", \"private\", \"private\", \"probability_least\", \"probability_least\", \"probability_least\", \"probability_least\", \"proposal\", \"proposal\", \"proposal\", \"proposal\", \"proximal\", \"proximal\", \"proximal\", \"proximal\", \"query\", \"query\", \"query\", \"query\", \"random_projection\", \"random_projection\", \"random_projection\", \"random_projection\", \"random_walk\", \"random_walk\", \"random_walk\", \"random_walk\", \"rank_approximation\", \"rank_approximation\", \"rank_approximation\", \"rank_approximation\", \"rank_matrix\", \"rank_matrix\", \"rank_matrix\", \"rank_matrix\", \"receptive_field\", \"recommendation_system\", \"recommendation_system\", \"recommendation_system\", \"recovery\", \"recovery\", \"recovery\", \"recovery\", \"rectified_linear\", \"rectified_linear\", \"recurrent\", \"recurrent\", \"recurrent\", \"recurrent\", \"recurrent_connection\", \"recurrent_convolutional\", \"recurrent_network\", \"recurrent_network\", \"recurrent_neural\", \"recurrent_neural\", \"recurrent_neural\", \"recurrent_neural\", \"regret\", \"regret\", \"regret\", \"regret\", \"regret_bound\", \"regret_bound\", \"regret_bound\", \"regret_bound\", \"regret_minimization\", \"reinforcement_learning\", \"reinforcement_learning\", \"reinforcement_learning\", \"reinforcement_learning\", \"relative_error\", \"relative_error\", \"relative_error\", \"relative_error\", \"relu\", \"restricted_strong\", \"restricted_strong\", \"restricted_strong\", \"restricted_strong\", \"reward\", \"reward\", \"reward\", \"reward\", \"reward_function\", \"richta_taka\", \"rnns\", \"round\", \"round\", \"round\", \"round\", \"running_time\", \"running_time\", \"running_time\", \"running_time\", \"safe\", \"safe\", \"safe\", \"sample_complexity\", \"sample_complexity\", \"sample_complexity\", \"sample_complexity\", \"sample_size\", \"sample_size\", \"sample_size\", \"sample_size\", \"sampler\", \"sampler\", \"sampler\", \"sampler\", \"segmentation\", \"segmentation\", \"segmentation\", \"segmentation\", \"semantic_segmentation\", \"semantic_segmentation\", \"semantic_segmentation\", \"semantic_segmentation\", \"semi_supervised\", \"semi_supervised\", \"semi_supervised\", \"semi_supervised\", \"sensing\", \"sensing\", \"sensing\", \"sensing\", \"sensor\", \"sensor\", \"sensor\", \"sensor\", \"sentence\", \"sentence\", \"sentence\", \"sentence\", \"singular\", \"singular\", \"singular\", \"singular\", \"singular_value\", \"singular_value\", \"singular_value\", \"singular_value\", \"singular_vector\", \"singular_vector\", \"singular_vector\", \"singular_vector\", \"sketching\", \"sketching\", \"sketching\", \"sparse_recovery\", \"sparse_recovery\", \"sparse_recovery\", \"sparse_recovery\", \"sparse_regression\", \"sparse_regression\", \"sparse_regression\", \"sparse_regression\", \"spatial\", \"spatial\", \"spatial\", \"spatial\", \"spectral_norm\", \"spectral_norm\", \"spectral_norm\", \"spectral_norm\", \"squared_exponential\", \"stack\", \"stack\", \"stack\", \"stack\", \"state_space\", \"state_space\", \"state_space\", \"state_space\", \"stationary_distribution\", \"stationary_distribution\", \"stationary_distribution\", \"stationary_distribution\", \"statistical_guarantee\", \"statistical_guarantee\", \"statistical_guarantee\", \"step_size\", \"step_size\", \"step_size\", \"step_size\", \"stochastic_nonstochastic\", \"strong_convexity\", \"strong_convexity\", \"strong_convexity\", \"strong_convexity\", \"strongly_convex\", \"strongly_convex\", \"strongly_convex\", \"strongly_convex\", \"submodular\", \"submodular\", \"submodular\", \"submodular\", \"submodular_function\", \"submodular_function\", \"submodular_function\", \"submodular_function\", \"submodular_maximization\", \"submodular_maximization\", \"submodular_maximization\", \"submodular_maximization\", \"submodularity\", \"submodularity\", \"submodularity\", \"subspace\", \"subspace\", \"subspace\", \"subspace\", \"temporal_dependency\", \"tensor\", \"tensor\", \"tensor\", \"tensor\", \"tensor_decomposition\", \"tensor_decomposition\", \"tensor_decomposition\", \"texture\", \"texture\", \"texture\", \"texture\", \"time_step\", \"time_step\", \"time_step\", \"time_step\", \"titsias\", \"titsias\", \"topic_model\", \"topic_model\", \"topic_model\", \"topic_model\", \"trajectory\", \"trajectory\", \"trajectory\", \"trajectory\", \"unlabeled_data\", \"unlabeled_data\", \"unlabeled_data\", \"unlabeled_data\", \"variational_inference\", \"variational_inference\", \"variational_inference\", \"variational_inference\", \"vershynin\", \"vershynin\", \"vertex\", \"vertex\", \"vertex\", \"vertex\", \"very_deep\", \"visual_attention\", \"voting\", \"voting\", \"voting\", \"voting\", \"williams_gaussian\", \"wolfe\", \"wolfe\", \"wolfe\", \"wolfe\", \"wolsey\", \"yoshua_bengio\", \"yoshua_bengio\", \"yoshua_bengio\", \"yoshua_bengio\", \"\\u03bbmin\"]}, \"R\": 30, \"lambda.step\": 0.01, \"plot.opts\": {\"xlab\": \"PC1\", \"ylab\": \"PC2\"}, \"topic.order\": [4, 1, 3, 2]};\n",
              "\n",
              "function LDAvis_load_lib(url, callback){\n",
              "  var s = document.createElement('script');\n",
              "  s.src = url;\n",
              "  s.async = true;\n",
              "  s.onreadystatechange = s.onload = callback;\n",
              "  s.onerror = function(){console.warn(\"failed to load library \" + url);};\n",
              "  document.getElementsByTagName(\"head\")[0].appendChild(s);\n",
              "}\n",
              "\n",
              "if(typeof(LDAvis) !== \"undefined\"){\n",
              "   // already loaded: just create the visualization\n",
              "   !function(LDAvis){\n",
              "       new LDAvis(\"#\" + \"ldavis_el601404256912901923903139366\", ldavis_el601404256912901923903139366_data);\n",
              "   }(LDAvis);\n",
              "}else if(typeof define === \"function\" && define.amd){\n",
              "   // require.js is available: use it to load d3/LDAvis\n",
              "   require.config({paths: {d3: \"https://d3js.org/d3.v5\"}});\n",
              "   require([\"d3\"], function(d3){\n",
              "      window.d3 = d3;\n",
              "      LDAvis_load_lib(\"https://cdn.jsdelivr.net/gh/bmabey/pyLDAvis@3.3.1/pyLDAvis/js/ldavis.v3.0.0.js\", function(){\n",
              "        new LDAvis(\"#\" + \"ldavis_el601404256912901923903139366\", ldavis_el601404256912901923903139366_data);\n",
              "      });\n",
              "    });\n",
              "}else{\n",
              "    // require.js not available: dynamically load d3 & LDAvis\n",
              "    LDAvis_load_lib(\"https://d3js.org/d3.v5.js\", function(){\n",
              "         LDAvis_load_lib(\"https://cdn.jsdelivr.net/gh/bmabey/pyLDAvis@3.3.1/pyLDAvis/js/ldavis.v3.0.0.js\", function(){\n",
              "                 new LDAvis(\"#\" + \"ldavis_el601404256912901923903139366\", ldavis_el601404256912901923903139366_data);\n",
              "            })\n",
              "         });\n",
              "}\n",
              "</script>"
            ]
          },
          "metadata": {},
          "execution_count": 51
        }
      ]
    },
    {
      "cell_type": "code",
      "source": [
        "##The left panel, labeld Intertopic Distance Map, circles represent different topics and the distance between them. Similar topics appear closer and the dissimilar topics farther. The relative size of a topic's circle in the plot corresponds to the relative frequency of the topic in the corpus. An individual topic may be selected for closer scrutiny by clicking on its circle, or entering its number in the \"selected topic\" box in the upper-left.\n",
        "##The right panel, include the bar chart of the top 30 terms. When no topic is selected in the plot on the left, the bar chart shows the top-30 most \"salient\" terms in the corpus. A term's saliency is a measure of both how frequent the term is in the corpus and how \"distinctive\" it is in distinguishing between different topics. Selecting each topic on the right, modifies the bar chart to show the \"relevant\" terms for the selected topic. Relevence is defined as in footer 2 and can be tuned by parameter  λ , smaller  λ  gives higher weight to the term's distinctiveness while larger  λ s corresponds to probablity of the term occurance per topics.\n",
        "##Therefore, to get a better sense of terms per topic we'll use  λ =0.\n",
        "\n",
        "##Evaluate model\n",
        "## 1) Divide docs into two parts, see if topics assigned to them are similar, similar is good\n",
        "## 2) Compare randomly selected docs with one another, less simlar is good\n",
        "from sklearn.metrics.pairwise import cosine_similarity\n",
        "\n",
        "p_df['tokenz'] = docs\n",
        "\n",
        "docs1 = p_df['tokenz'].apply(lambda l: l[:int0(len(l)/2)])\n",
        "docs2 = p_df['tokenz'].apply(lambda l: l[int0(len(l)/2):])"
      ],
      "metadata": {
        "id": "0A_Ntnt4AjQ-"
      },
      "execution_count": null,
      "outputs": []
    },
    {
      "cell_type": "code",
      "source": [
        "##Transform data\n",
        "\n",
        "corpus1 = [dictionary.doc2bow(doc) for doc in docs1]\n",
        "corpus2 = [dictionary.doc2bow(doc) for doc in docs2]\n",
        "\n",
        "# Using the corpus LDA model tranformation\n",
        "lda_corpus1 = model[corpus1]\n",
        "lda_corpus2 = model[corpus2]"
      ],
      "metadata": {
        "id": "paGXv0JJAmt2"
      },
      "execution_count": null,
      "outputs": []
    },
    {
      "cell_type": "code",
      "source": [
        "from collections import OrderedDict\n",
        "def get_doc_topic_dist(model, corpus, kwords=False):\n",
        "    \n",
        "    '''\n",
        "    LDA transformation, for each doc only returns topics with non-zero weight\n",
        "    This function makes a matrix transformation of docs in the topic space.\n",
        "    '''\n",
        "    top_dist =[]\n",
        "    keys = []\n",
        "\n",
        "    for d in corpus:\n",
        "        tmp = {i:0 for i in range(num_topics)}\n",
        "        tmp.update(dict(model[d]))\n",
        "        vals = list(OrderedDict(tmp).values())\n",
        "        top_dist += [array(vals)]\n",
        "        if kwords:\n",
        "            keys += [array(vals).argmax()]\n",
        "\n",
        "    return array(top_dist), keys"
      ],
      "metadata": {
        "id": "2sCxglT4AqU5"
      },
      "execution_count": null,
      "outputs": []
    },
    {
      "cell_type": "code",
      "source": [
        "##Modeling metrics stated above regarding document similarity and disimilarity\n",
        "\n",
        "top_dist1, _ = get_doc_topic_dist(model, lda_corpus1)\n",
        "top_dist2, _ = get_doc_topic_dist(model, lda_corpus2)\n",
        "\n",
        "print(\"Intra similarity: cosine similarity for corresponding parts of a doc(higher is better):\")\n",
        "print(mean([cosine_similarity(c1.reshape(1, -1), c2.reshape(1, -1))[0][0] for c1,c2 in zip(top_dist1, top_dist2)]))\n",
        "\n",
        "random_pairs = np.random.randint(0, len(p_df['PaperText']), size=(400, 2))\n",
        "\n",
        "print(\"Inter similarity: cosine similarity between random parts (lower is better):\")\n",
        "print(np.mean([cosine_similarity(top_dist1[i[0]].reshape(1, -1), top_dist2[i[1]].reshape(1, -1)) for i in random_pairs]))\n"
      ],
      "metadata": {
        "colab": {
          "base_uri": "https://localhost:8080/"
        },
        "id": "slyNcACfAxh2",
        "outputId": "e69d8fda-1e71-45bd-e24a-5e1d713fde64"
      },
      "execution_count": null,
      "outputs": [
        {
          "output_type": "stream",
          "name": "stdout",
          "text": [
            "Intra similarity: cosine similarity for corresponding parts of a doc(higher is better):\n",
            "0.94125724\n",
            "Inter similarity: cosine similarity between random parts (lower is better):\n",
            "0.38875213\n"
          ]
        }
      ]
    },
    {
      "cell_type": "code",
      "source": [
        "##Looking at top n terms for a given topic\n",
        "\n",
        "def explore_topic(lda_model, topic_number, topn, output=True):\n",
        "    \"\"\"\n",
        "    accept a ldamodel, a topic number and top n vocabs of interest\n",
        "    prints a formatted list of the topn terms\n",
        "    \"\"\"\n",
        "    terms = []\n",
        "    for term, frequency in lda_model.show_topic(topic_number, topn=topn):\n",
        "        terms += [term]\n",
        "        if output:\n",
        "            print(u'{:20} {:.3f}'.format(term, round(frequency, 3)))\n",
        "    \n",
        "    return terms"
      ],
      "metadata": {
        "id": "pHwEA_VdA4I9"
      },
      "execution_count": null,
      "outputs": []
    },
    {
      "cell_type": "code",
      "source": [
        "##Visualize top n terms for all topics\n",
        "topic_summaries = []\n",
        "print(u'{:20} {}'.format(u'term', u'frequency') + u'\\n')\n",
        "for i in range(num_topics):\n",
        "    print('Topic '+str(i)+' |---------------------\\n')\n",
        "    tmp = explore_topic(model,topic_number=i, topn=10, output=True )\n",
        "#     print tmp[:5]\n",
        "    topic_summaries += [tmp[:5]]\n",
        "    print"
      ],
      "metadata": {
        "colab": {
          "base_uri": "https://localhost:8080/"
        },
        "id": "L_3p97amA60Y",
        "outputId": "295c3b5b-7d07-4bc3-d49d-4a631080032a"
      },
      "execution_count": null,
      "outputs": [
        {
          "output_type": "stream",
          "name": "stdout",
          "text": [
            "term                 frequency\n",
            "\n",
            "Topic 0 |---------------------\n",
            "\n",
            "matrix_completion    0.006\n",
            "rank_matrix          0.006\n",
            "sample_complexity    0.005\n",
            "tensor               0.005\n",
            "singular_value       0.005\n",
            "recovery             0.004\n",
            "active_learning      0.004\n",
            "covariance_matrix    0.004\n",
            "data_set             0.003\n",
            "probability_least    0.003\n",
            "Topic 1 |---------------------\n",
            "\n",
            "convolutional        0.006\n",
            "recurrent            0.005\n",
            "fully_connected      0.005\n",
            "deep_learning        0.005\n",
            "generative_model     0.005\n",
            "recurrent_neural     0.005\n",
            "hidden_unit          0.005\n",
            "hidden_layer         0.005\n",
            "lstm                 0.005\n",
            "neuron               0.004\n",
            "Topic 2 |---------------------\n",
            "\n",
            "regret               0.011\n",
            "convergence_rate     0.007\n",
            "bandit               0.006\n",
            "step_size            0.006\n",
            "policy               0.005\n",
            "reward               0.005\n",
            "regret_bound         0.004\n",
            "game                 0.004\n",
            "online_learning      0.004\n",
            "line_search          0.004\n",
            "Topic 3 |---------------------\n",
            "\n",
            "gaussian_process     0.007\n",
            "markov_chain         0.006\n",
            "submodular           0.005\n",
            "variational_inference 0.004\n",
            "posterior_distribution 0.003\n",
            "submodular_function  0.003\n",
            "state_space          0.003\n",
            "mcmc                 0.003\n",
            "sampler              0.003\n",
            "gibbs_sampling       0.003\n"
          ]
        }
      ]
    },
    {
      "cell_type": "code",
      "source": [
        "##Manually assign labels to the topics\n",
        "\n",
        "top_labels = {0: 'Statistics', 1:'Numerical Analysis', 2:'Online Learning', 3:'Deep Learning'}\n"
      ],
      "metadata": {
        "id": "zBkd8T9NA-gm"
      },
      "execution_count": null,
      "outputs": []
    },
    {
      "cell_type": "code",
      "source": [
        "##Preprocessing data for T-sne\n",
        "\n",
        "import re\n",
        "import nltk\n",
        "nltk.download('stopwords')\n",
        "\n",
        "##Get standard stop words\n",
        "from nltk.corpus import stopwords\n",
        "\n",
        "##Select language\n",
        "stops = set(stopwords.words('english'))\n",
        "\n",
        "##Preprocess docs as simplified list of words\n",
        "def paper_to_wordlist( paper, remove_stopwords=True ):\n",
        "    '''\n",
        "        Function converts text to a sequence of words,\n",
        "        Returns a list of words.\n",
        "    '''\n",
        "    lemmatizer = WordNetLemmatizer()\n",
        "    # 1. Remove non-letters\n",
        "    paper_text = re.sub(\"[^a-zA-Z]\",\" \", paper)\n",
        "    # 2. Convert words to lower case and split them\n",
        "    words = paper_text.lower().split()\n",
        "    # 3. Remove stop words\n",
        "    words = [w for w in words if not w in stops]\n",
        "    # 4. Remove short words\n",
        "    words = [t for t in words if len(t) > 2]\n",
        "    # 5. lemmatizing\n",
        "    words = [nltk.stem.WordNetLemmatizer().lemmatize(t) for t in words]\n",
        "\n",
        "    return(words)"
      ],
      "metadata": {
        "colab": {
          "base_uri": "https://localhost:8080/"
        },
        "id": "yhk6XCSvA_qS",
        "outputId": "0d8bc227-9343-4dd1-a590-4552806f3f40"
      },
      "execution_count": null,
      "outputs": [
        {
          "output_type": "stream",
          "name": "stderr",
          "text": [
            "[nltk_data] Downloading package stopwords to /root/nltk_data...\n",
            "[nltk_data]   Unzipping corpora/stopwords.zip.\n"
          ]
        }
      ]
    },
    {
      "cell_type": "code",
      "source": [
        "##tf-id Vectorize our docs into an array that can be fed into a t-sne\n",
        "\n",
        "from sklearn.feature_extraction.text import TfidfVectorizer\n",
        "##Probably unecessary to redownload \n",
        "nltk.download('wordnet')\n",
        "nltk.download('omw-1.4')\n",
        "\n",
        "##Converts raw documents to tf-id matrix (term frequency-inverse document, used to show how \"important\" a word is)\n",
        "tvectorizer = TfidfVectorizer(input='content', analyzer = 'word', lowercase=True, stop_words='english',\\\n",
        "                                  tokenizer=paper_to_wordlist, ngram_range=(1, 3), min_df=40, max_df=0.20,\\\n",
        "                                  norm='l2', use_idf=True, smooth_idf=True, sublinear_tf=True)\n",
        "\n",
        "dtm = tvectorizer.fit_transform(p_df['PaperText']).toarray()"
      ],
      "metadata": {
        "colab": {
          "base_uri": "https://localhost:8080/"
        },
        "id": "GpnwfLN7BKyf",
        "outputId": "4c9a0a84-8b32-4bfb-89b3-e046f1ea0a96"
      },
      "execution_count": null,
      "outputs": [
        {
          "output_type": "stream",
          "name": "stderr",
          "text": [
            "[nltk_data] Downloading package wordnet to /root/nltk_data...\n",
            "[nltk_data]   Package wordnet is already up-to-date!\n",
            "[nltk_data] Downloading package omw-1.4 to /root/nltk_data...\n",
            "[nltk_data]   Package omw-1.4 is already up-to-date!\n",
            "/usr/local/lib/python3.7/dist-packages/sklearn/feature_extraction/text.py:401: UserWarning: Your stop_words may be inconsistent with your preprocessing. Tokenizing the stop words generated tokens ['le'] not in stop_words.\n",
            "  % sorted(inconsistent)\n"
          ]
        }
      ]
    },
    {
      "cell_type": "code",
      "source": [
        "##Reset top_dist array, below is same as get_doc_topic_dist function defined above\n",
        "\n",
        "top_dist =[]\n",
        "for d in corpus:\n",
        "    tmp = {i:0 for i in range(num_topics)}\n",
        "    tmp.update(dict(model[d]))\n",
        "    vals = list(OrderedDict(tmp).values())\n",
        "    top_dist += [array(vals)]\n",
        "print(top_dist)"
      ],
      "metadata": {
        "colab": {
          "base_uri": "https://localhost:8080/"
        },
        "id": "dybIRj4sBbHo",
        "outputId": "0b6be532-efc2-459e-e753-84d32c768f5e"
      },
      "execution_count": null,
      "outputs": [
        {
          "output_type": "stream",
          "name": "stdout",
          "text": [
            "[array([0.        , 0.15355919, 0.        , 0.84634811]), array([0.83035231, 0.        , 0.16955094, 0.        ]), array([0.        , 0.        , 0.62798071, 0.37192503]), array([0.09080809, 0.        , 0.        , 0.90909809]), array([0.        , 0.05722365, 0.        , 0.94267696]), array([0.99986076, 0.        , 0.        , 0.        ]), array([0.67880607, 0.13359219, 0.14151393, 0.04608782], dtype=float32), array([0.06961618, 0.17219949, 0.326398  , 0.43178633], dtype=float32), array([0.        , 0.99988312, 0.        , 0.        ]), array([0.14976016, 0.        , 0.85015899, 0.        ]), array([0.        , 0.99988359, 0.        , 0.        ]), array([0.59564143, 0.16367395, 0.        , 0.23294686]), array([0.87670553, 0.        , 0.12321318, 0.        ]), array([0.        , 0.        , 0.11374485, 0.88617295]), array([0.        , 0.79151851, 0.        , 0.20837881]), array([0.35387406, 0.        , 0.64602411, 0.        ]), array([0.        , 0.50629753, 0.        , 0.4936308 ]), array([0.28943232, 0.09960308, 0.        , 0.61089706]), array([0.09011457, 0.90976501, 0.        , 0.        ]), array([0.        , 0.        , 0.03913916, 0.96078408]), array([0.        , 0.04002378, 0.74967843, 0.21025226]), array([0.        , 0.99988312, 0.        , 0.        ]), array([0.        , 0.99986488, 0.        , 0.        ]), array([0.        , 0.        , 0.99980408, 0.        ]), array([0.99981046, 0.        , 0.        , 0.        ]), array([0.        , 0.        , 0.45077077, 0.54914945]), array([0.        , 0.99988055, 0.        , 0.        ]), array([0.        , 0.        , 0.0727895 , 0.92710567]), array([0.42023158, 0.47607842, 0.10364269, 0.        ]), array([0.        , 0.99988121, 0.        , 0.        ]), array([0.26267353, 0.        , 0.59494549, 0.1423313 ]), array([0.01220449, 0.        , 0.        , 0.98771775]), array([0.        , 0.69151771, 0.        , 0.30838555]), array([0.        , 0.02497377, 0.97495329, 0.        ]), array([0.        , 0.        , 0.99988759, 0.        ]), array([0.85402262, 0.        , 0.        , 0.14585552]), array([0.53427505, 0.17498176, 0.29068255, 0.        ]), array([0.18489321, 0.        , 0.67075974, 0.14429031]), array([0.99988204, 0.        , 0.        , 0.        ]), array([0.        , 0.        , 0.95137841, 0.04854841]), array([0.        , 0.99988186, 0.        , 0.        ]), array([0.        , 0.49320248, 0.        , 0.50669903]), array([0.03416856, 0.        , 0.96573156, 0.        ]), array([0.99985796, 0.        , 0.        , 0.        ]), array([0.15566838, 0.        , 0.08029067, 0.76400143]), array([0.91518575, 0.        , 0.08472168, 0.        ]), array([0.24065259, 0.        , 0.75924468, 0.        ]), array([0.        , 0.99985409, 0.        , 0.        ]), array([0.        , 0.        , 0.99988848, 0.        ]), array([0.07380421, 0.92611456, 0.        , 0.        ]), array([0.05635929, 0.        , 0.        , 0.94354886]), array([0.20439965, 0.79550445, 0.        , 0.        ]), array([0.35713753, 0.        , 0.        , 0.64277416]), array([0.        , 0.        , 0.69518739, 0.30470896]), array([0.95546341, 0.        , 0.        , 0.04444418]), array([0.        , 0.        , 0.98650098, 0.01343273]), array([0.03026623, 0.75199085, 0.        , 0.21770245]), array([0.99987024, 0.        , 0.        , 0.        ]), array([0.99984223, 0.        , 0.        , 0.        ]), array([0.        , 0.02066718, 0.7560519 , 0.22324295]), array([0.        , 0.        , 0.95033109, 0.0495776 ]), array([0.99988443, 0.        , 0.        , 0.        ]), array([0.97259301, 0.        , 0.02733864, 0.        ]), array([0.13885361, 0.09391895, 0.        , 0.76718324]), array([0.        , 0.99988121, 0.        , 0.        ]), array([0.99988329, 0.        , 0.        , 0.        ]), array([0.        , 0.        , 0.80066919, 0.19923317]), array([0.        , 0.        , 0.77383012, 0.2260868 ]), array([0.        , 0.03420274, 0.        , 0.96288031]), array([0.        , 0.        , 0.05532806, 0.94458061]), array([0.28855628, 0.        , 0.        , 0.71136802]), array([0.11184895, 0.78385574, 0.        , 0.10425767]), array([0.        , 0.99988002, 0.        , 0.        ]), array([0.78261644, 0.21729837, 0.        , 0.        ]), array([0.        , 0.        , 0.99985754, 0.        ]), array([0.92141056, 0.        , 0.07849608, 0.        ]), array([0.        , 0.46672449, 0.53316963, 0.        ]), array([0.        , 0.        , 0.        , 0.99983799]), array([0.99201113, 0.        , 0.        , 0.        ]), array([0.90880877, 0.        , 0.        , 0.09111075]), array([0.86823595, 0.        , 0.13168265, 0.        ]), array([0.99988461, 0.        , 0.        , 0.        ]), array([0.96355736, 0.        , 0.03635461, 0.        ]), array([0.        , 0.        , 0.        , 0.99986869]), array([0.99984258, 0.        , 0.        , 0.        ]), array([0.99105865, 0.        , 0.        , 0.        ]), array([0.99986154, 0.        , 0.        , 0.        ]), array([0.        , 0.        , 0.99987239, 0.        ]), array([0.29913387, 0.70076168, 0.        , 0.        ]), array([0.        , 0.99987578, 0.        , 0.        ]), array([0.37073973, 0.        , 0.62915653, 0.        ]), array([0.70157117, 0.03258901, 0.        , 0.26577261]), array([0.        , 0.11954043, 0.        , 0.88037604]), array([0.        , 0.        , 0.        , 0.99987406]), array([0.        , 0.        , 0.        , 0.99985105]), array([0.        , 0.86853749, 0.        , 0.13138087]), array([0.        , 0.        , 0.99986452, 0.        ]), array([0.13150769, 0.        , 0.27540082, 0.59305608]), array([0.        , 0.99022436, 0.        , 0.        ]), array([0.        , 0.        , 0.        , 0.99983704]), array([0.        , 0.99982035, 0.        , 0.        ]), array([0.76442188, 0.        , 0.23550096, 0.        ]), array([0.        , 0.99988896, 0.        , 0.        ]), array([0.        , 0.        , 0.56270707, 0.43719313]), array([0.        , 0.99989378, 0.        , 0.        ]), array([0.        , 0.        , 0.89046323, 0.10945773]), array([0.03625187, 0.        , 0.        , 0.96368116]), array([0.        , 0.        , 0.99982637, 0.        ]), array([0.05434891, 0.80733502, 0.        , 0.1382677 ]), array([0.        , 0.99986333, 0.        , 0.        ]), array([0.99990225, 0.        , 0.        , 0.        ]), array([0.51090336, 0.        , 0.        , 0.48902723]), array([0.99985349, 0.        , 0.        , 0.        ]), array([0.76812869, 0.        , 0.06740538, 0.16442123]), array([0.02928484, 0.        , 0.97061992, 0.        ]), array([0.20615874, 0.        , 0.79373688, 0.        ]), array([0.        , 0.99986249, 0.        , 0.        ]), array([0.99987137, 0.        , 0.        , 0.        ]), array([0.05645078, 0.        , 0.11439101, 0.82911432]), array([0.        , 0.03327402, 0.29274482, 0.66566086]), array([0.99990427, 0.        , 0.        , 0.        ]), array([0.90295506, 0.        , 0.09695969, 0.        ]), array([0.        , 0.99989265, 0.        , 0.        ]), array([0.19929321, 0.80060446, 0.        , 0.        ]), array([0.        , 0.99983126, 0.        , 0.        ]), array([0.27418694, 0.20184383, 0.25369638, 0.27027282], dtype=float32), array([0.        , 0.99985838, 0.        , 0.        ]), array([0.96771079, 0.        , 0.        , 0.03220072]), array([0.13721208, 0.        , 0.        , 0.86272001]), array([0.        , 0.        , 0.33930349, 0.66061974]), array([0.        , 0.99987286, 0.        , 0.        ]), array([0.99988818, 0.        , 0.        , 0.        ]), array([0.80906647, 0.03127215, 0.15960935, 0.        ]), array([0.        , 0.        , 0.        , 0.99988866]), array([0.03804974, 0.        , 0.08773331, 0.87418216]), array([0.28117624, 0.        , 0.71875411, 0.        ]), array([0.99988866, 0.        , 0.        , 0.        ]), array([0.        , 0.99985999, 0.        , 0.        ]), array([0.0190287 , 0.        , 0.65000832, 0.33091012]), array([0.        , 0.99986821, 0.        , 0.        ]), array([0.99987483, 0.        , 0.        , 0.        ]), array([0.       , 0.       , 0.9998666, 0.       ]), array([0.9340353 , 0.        , 0.06586814, 0.        ]), array([0.        , 0.        , 0.85346133, 0.14644253]), array([0.4115355 , 0.        , 0.38120466, 0.20722847]), array([0.        , 0.        , 0.99977177, 0.        ]), array([0.       , 0.       , 0.9998666, 0.       ]), array([0.17284642, 0.        , 0.        , 0.82702732]), array([0.68885159, 0.31104624, 0.        , 0.        ]), array([0.        , 0.        , 0.88562113, 0.11430398]), array([0.11005342, 0.5185278 , 0.25599778, 0.11542097], dtype=float32), array([0.        , 0.        , 0.99983597, 0.        ]), array([0.42455229, 0.        , 0.05438329, 0.5210219 ]), array([0.        , 0.35682645, 0.        , 0.64309949]), array([0.05498109, 0.58288914, 0.25068098, 0.11144882], dtype=float32), array([0.99990374, 0.        , 0.        , 0.        ]), array([0.78414202, 0.16659656, 0.        , 0.0492125 ]), array([0.        , 0.        , 0.        , 0.99466717]), array([0.        , 0.        , 0.        , 0.99986404]), array([0.        , 0.        , 0.13282378, 0.86709982]), array([0.21635041, 0.        , 0.        , 0.77559608]), array([0.        , 0.        , 0.99985319, 0.        ]), array([0.02038216, 0.        , 0.33163872, 0.64794576]), array([0.        , 0.        , 0.99986035, 0.        ]), array([0.        , 0.        , 0.99985737, 0.        ]), array([0.        , 0.99986237, 0.        , 0.        ]), array([0.        , 0.99989122, 0.        , 0.        ]), array([0.08361527, 0.53657281, 0.37976566, 0.        ]), array([0.        , 0.        , 0.05500732, 0.94490737]), array([0.        , 0.        , 0.99987346, 0.        ]), array([0.12229206, 0.        , 0.87761909, 0.        ]), array([0.11453514, 0.        , 0.48811281, 0.39730158]), array([0.99987525, 0.        , 0.        , 0.        ]), array([0.56133342, 0.43856117, 0.        , 0.        ]), array([0.9998529, 0.       , 0.       , 0.       ]), array([0.        , 0.        , 0.31111094, 0.68880594]), array([0.        , 0.18389921, 0.81599271, 0.        ]), array([0.        , 0.24947576, 0.        , 0.7504459 ]), array([0.99988413, 0.        , 0.        , 0.        ]), array([0.23282267, 0.08005367, 0.        , 0.68708557]), array([0.18577081, 0.        , 0.81413823, 0.        ]), array([0.        , 0.        , 0.99984097, 0.        ]), array([0.        , 0.        , 0.        , 0.99987972]), array([0.90128881, 0.        , 0.09861585, 0.        ]), array([0.        , 0.        , 0.        , 0.99987817]), array([0.05763134, 0.        , 0.94227999, 0.        ]), array([0.01330116, 0.67845666, 0.23419665, 0.07404549], dtype=float32), array([0.        , 0.99987042, 0.        , 0.        ]), array([0.86914355, 0.        , 0.13077131, 0.        ]), array([0.        , 0.        , 0.64472067, 0.35512725]), array([0.        , 0.        , 0.        , 0.99987292]), array([0.69217223, 0.13462378, 0.        , 0.17315912]), array([0.13752769, 0.1281479 , 0.        , 0.7342723 ]), array([0.        , 0.        , 0.9167757 , 0.08316781]), array([0.04319578, 0.        , 0.95671189, 0.        ]), array([0.43239897, 0.3374174 , 0.11114694, 0.11903673], dtype=float32), array([0.97328603, 0.        , 0.        , 0.02662757]), array([0.        , 0.13730007, 0.31277546, 0.54985923]), array([0.        , 0.        , 0.99985695, 0.        ]), array([0.        , 0.        , 0.01941259, 0.98049241]), array([0.99984616, 0.        , 0.        , 0.        ]), array([0.99986959, 0.        , 0.        , 0.        ]), array([0.        , 0.99987233, 0.        , 0.        ]), array([0.28286457, 0.71706092, 0.        , 0.        ]), array([0.91366678, 0.08623515, 0.        , 0.        ]), array([0.29214144, 0.68216765, 0.        , 0.02565297]), array([0.        , 0.        , 0.        , 0.99985677]), array([0.99987036, 0.        , 0.        , 0.        ]), array([0.        , 0.99987257, 0.        , 0.        ]), array([0.        , 0.        , 0.        , 0.99986124]), array([0.76100683, 0.        , 0.        , 0.23891455]), array([0.98020786, 0.        , 0.01971779, 0.        ]), array([0.        , 0.64577293, 0.        , 0.35413471]), array([0.        , 0.92894059, 0.        , 0.07098851]), array([0.9998498, 0.       , 0.       , 0.       ]), array([0.        , 0.        , 0.        , 0.99988812]), array([0.        , 0.        , 0.        , 0.99988526]), array([0.25299475, 0.        , 0.        , 0.74693102]), array([0.        , 0.        , 0.99987078, 0.        ]), array([0.85924429, 0.        , 0.        , 0.14067777]), array([0.        , 0.99988604, 0.        , 0.        ]), array([0.        , 0.        , 0.        , 0.99986857]), array([0.20692566, 0.        , 0.03082819, 0.7622149 ]), array([0.       , 0.9998765, 0.       , 0.       ]), array([0.06128613, 0.        , 0.37064224, 0.5680263 ]), array([0.8766526 , 0.01825561, 0.10504238, 0.        ]), array([0.02148231, 0.30726245, 0.        , 0.67121238]), array([0.48569974, 0.43307042, 0.08117212, 0.        ]), array([0.9998641, 0.       , 0.       , 0.       ]), array([0.        , 0.83237243, 0.16755578, 0.        ]), array([0.        , 0.        , 0.01859011, 0.98129809]), array([0.23884785, 0.        , 0.76104319, 0.        ]), array([0.94622666, 0.        , 0.        , 0.05369058]), array([0.99988669, 0.        , 0.        , 0.        ]), array([0.        , 0.        , 0.99986905, 0.        ]), array([0.        , 0.44538388, 0.27802843, 0.276548  ]), array([0.04464377, 0.1017945 , 0.34888506, 0.50467664], dtype=float32), array([0.        , 0.01290447, 0.34067217, 0.64635903]), array([0.        , 0.        , 0.20931454, 0.79060429]), array([0.        , 0.        , 0.        , 0.99985737]), array([0.99984348, 0.        , 0.        , 0.        ]), array([0.        , 0.        , 0.99982923, 0.        ]), array([0.        , 0.60668355, 0.        , 0.39321178]), array([0.        , 0.        , 0.99986601, 0.        ]), array([0.9998498, 0.       , 0.       , 0.       ]), array([0.63737994, 0.        , 0.36252731, 0.        ]), array([0.        , 0.99985272, 0.        , 0.        ]), array([0.        , 0.        , 0.13490134, 0.86502212]), array([0.19646065, 0.        , 0.        , 0.80344462]), array([0.        , 0.        , 0.99984539, 0.        ]), array([0.11018419, 0.09173625, 0.        , 0.79803538]), array([0.6537922 , 0.34611621, 0.        , 0.        ]), array([0.04390705, 0.05042036, 0.38514072, 0.5205319 ], dtype=float32), array([0.72891414, 0.        , 0.        , 0.27098536]), array([0.        , 0.99988872, 0.        , 0.        ]), array([0.        , 0.        , 0.99983579, 0.        ]), array([0.        , 0.        , 0.76117581, 0.23873957]), array([0.        , 0.        , 0.        , 0.99987745]), array([0.28052703, 0.        , 0.53632796, 0.18311192]), array([0.76489908, 0.02233736, 0.21272331, 0.        ]), array([0.11933847, 0.        , 0.09770174, 0.78291905]), array([0.        , 0.        , 0.77374363, 0.22619084]), array([0.06797551, 0.        , 0.93194443, 0.        ]), array([0.        , 0.99988192, 0.        , 0.        ]), array([0.        , 0.        , 0.        , 0.99987656]), array([0.        , 0.        , 0.        , 0.99987459]), array([0.23964427, 0.        , 0.        , 0.76025856]), array([0.        , 0.17815277, 0.82176536, 0.        ]), array([0.03391947, 0.89991289, 0.06611931, 0.        ]), array([0.99983734, 0.        , 0.        , 0.        ]), array([0.        , 0.99985999, 0.        , 0.        ]), array([0.02826414, 0.95604962, 0.        , 0.01564969]), array([0.        , 0.        , 0.99987113, 0.        ]), array([0.        , 0.83685249, 0.        , 0.16306707]), array([0.23873994, 0.76118428, 0.        , 0.        ]), array([0.        , 0.52366883, 0.        , 0.47622052]), array([0.        , 0.06925703, 0.        , 0.93062776]), array([0.        , 0.12797265, 0.07690106, 0.79507434]), array([0.        , 0.        , 0.        , 0.99984419]), array([0.99986035, 0.        , 0.        , 0.        ]), array([0.        , 0.        , 0.99983686, 0.        ]), array([0.        , 0.99986464, 0.        , 0.        ]), array([0.9998588, 0.       , 0.       , 0.       ]), array([0.        , 0.        , 0.99983996, 0.        ]), array([0.33894405, 0.        , 0.        , 0.66098338]), array([0.94749528, 0.05240544, 0.        , 0.        ]), array([0.        , 0.95855153, 0.        , 0.04136138]), array([0.99986488, 0.        , 0.        , 0.        ]), array([0.38638437, 0.        , 0.        , 0.61354244]), array([0.89432585, 0.        , 0.        , 0.10558318]), array([0.        , 0.30670279, 0.        , 0.69322664]), array([0.        , 0.26904753, 0.        , 0.73086298]), array([0.        , 0.        , 0.99986821, 0.        ]), array([0.5173722 , 0.11495961, 0.17298657, 0.19468163], dtype=float32), array([0.99981397, 0.        , 0.        , 0.        ]), array([0.26826578, 0.        , 0.73164505, 0.        ]), array([0.16492973, 0.83496517, 0.        , 0.        ]), array([0.        , 0.99986124, 0.        , 0.        ]), array([0.96892816, 0.01122898, 0.01979284, 0.        ]), array([0.6805697 , 0.13833922, 0.01230624, 0.16878483], dtype=float32), array([0.29104587, 0.        , 0.70885509, 0.        ]), array([0.03157727, 0.03963055, 0.8096783 , 0.11911388], dtype=float32), array([0.0280973 , 0.17508534, 0.79677171, 0.        ]), array([0.        , 0.77775019, 0.14382507, 0.07838263]), array([0.54464734, 0.        , 0.45525977, 0.        ]), array([0.        , 0.05698372, 0.40837878, 0.53457987]), array([0.        , 0.99986416, 0.        , 0.        ]), array([0.99985963, 0.        , 0.        , 0.        ]), array([0.        , 0.99989688, 0.        , 0.        ]), array([0.4144462 , 0.29861835, 0.        , 0.28689766]), array([0.        , 0.        , 0.63937968, 0.36052081]), array([0.        , 0.        , 0.99988735, 0.        ]), array([0.        , 0.24999377, 0.087578  , 0.66236645]), array([0.99983901, 0.        , 0.        , 0.        ]), array([0.        , 0.        , 0.99985981, 0.        ]), array([0.        , 0.        , 0.        , 0.99988753]), array([0.        , 0.98561615, 0.01430665, 0.        ]), array([0.99987525, 0.        , 0.        , 0.        ]), array([0.        , 0.        , 0.        , 0.99988002]), array([0.15993063, 0.        , 0.21682726, 0.6232006 ]), array([0.        , 0.        , 0.80820519, 0.19170055]), array([0.99983227, 0.        , 0.        , 0.        ]), array([0.        , 0.        , 0.        , 0.99987698]), array([0.        , 0.        , 0.99986464, 0.        ]), array([0.        , 0.06208493, 0.63415754, 0.30370978]), array([0.        , 0.46041191, 0.53949022, 0.        ]), array([0.        , 0.99987316, 0.        , 0.        ]), array([0.        , 0.17482567, 0.        , 0.8250913 ]), array([0.21669926, 0.67199802, 0.11126486, 0.        ]), array([0.        , 0.95753843, 0.        , 0.04236839]), array([0.        , 0.        , 0.99986964, 0.        ]), array([0.       , 0.9998455, 0.       , 0.       ]), array([0.        , 0.        , 0.        , 0.99982584]), array([0.31122935, 0.        , 0.        , 0.68867338]), array([0.29898909, 0.        , 0.40262154, 0.29835364]), array([0.        , 0.        , 0.99987721, 0.        ]), array([0.22597049, 0.53770429, 0.        , 0.23628743]), array([0.25962973, 0.        , 0.74030435, 0.        ]), array([0.        , 0.        , 0.99989307, 0.        ]), array([0.99986827, 0.        , 0.        , 0.        ]), array([0.        , 0.99988335, 0.        , 0.        ]), array([0.21549132, 0.78439558, 0.        , 0.        ]), array([0.        , 0.        , 0.        , 0.99989277]), array([0.99984241, 0.        , 0.        , 0.        ]), array([0.        , 0.        , 0.85262227, 0.14727716]), array([0.        , 0.99988133, 0.        , 0.        ]), array([0.        , 0.62740374, 0.3725003 , 0.        ]), array([0.        , 0.        , 0.        , 0.99986583]), array([0.21240564, 0.        , 0.78750741, 0.        ]), array([0.        , 0.        , 0.        , 0.99984854]), array([0.        , 0.        , 0.99988145, 0.        ]), array([0.99985242, 0.        , 0.        , 0.        ]), array([0.07697053, 0.01921002, 0.7773805 , 0.1264389 ], dtype=float32), array([0.       , 0.       , 0.       , 0.9998219]), array([0.33422169, 0.        , 0.62931299, 0.03642118]), array([0.7586239 , 0.        , 0.        , 0.24130589]), array([0.8426609 , 0.        , 0.        , 0.15726613]), array([0.01561405, 0.0340297 , 0.75212485, 0.19823135], dtype=float32), array([0.        , 0.        , 0.99987102, 0.        ]), array([0.        , 0.77883834, 0.22107229, 0.        ]), array([0.47567824, 0.        , 0.35823154, 0.16603681]), array([0.        , 0.        , 0.70223731, 0.2976754 ]), array([0.14333677, 0.        , 0.09824818, 0.75837535]), array([0.65354502, 0.        , 0.        , 0.34635329]), array([0.        , 0.99989462, 0.        , 0.        ]), array([0.        , 0.        , 0.        , 0.99981922]), array([0.85902959, 0.07347288, 0.        , 0.06744154]), array([0.99986118, 0.        , 0.        , 0.        ]), array([0.        , 0.        , 0.19788352, 0.8020348 ]), array([0.        , 0.        , 0.99988085, 0.        ]), array([0.14013757, 0.85977268, 0.        , 0.        ]), array([0.        , 0.        , 0.        , 0.99988091]), array([0.09937365, 0.        , 0.        , 0.9005329 ]), array([0.        , 0.        , 0.99986339, 0.        ]), array([0.        , 0.        , 0.99988449, 0.        ]), array([0.        , 0.        , 0.        , 0.99983025]), array([0.20286494, 0.01925096, 0.3166519 , 0.46123216], dtype=float32), array([0.08838283, 0.        , 0.9115383 , 0.        ]), array([0.99986702, 0.        , 0.        , 0.        ]), array([0.05345629, 0.        , 0.49225277, 0.45425588]), array([0.        , 0.45875621, 0.        , 0.54113448]), array([0.99990773, 0.        , 0.        , 0.        ]), array([0.05801462, 0.        , 0.        , 0.94191068]), array([0.        , 0.22375785, 0.25475377, 0.52144164]), array([0.        , 0.20580827, 0.        , 0.79409695]), array([0.        , 0.99989635, 0.        , 0.        ]), array([0.32461795, 0.04514818, 0.15129432, 0.47893956], dtype=float32), array([0.        , 0.        , 0.        , 0.99988776]), array([0.        , 0.        , 0.2579928 , 0.74193102]), array([0.        , 0.        , 0.95679635, 0.04312625]), array([0.        , 0.51271033, 0.37928304, 0.10794587]), array([0.04241711, 0.        , 0.40929061, 0.54824769]), array([0.        , 0.99989188, 0.        , 0.        ]), array([0.716793  , 0.20582549, 0.        , 0.07732841]), array([0.49755904, 0.        , 0.        , 0.50235438]), array([0.        , 0.99987823, 0.        , 0.        ]), array([0.07786426, 0.        , 0.92205489, 0.        ]), array([0.99984187, 0.        , 0.        , 0.        ]), array([0.        , 0.        , 0.        , 0.99986082]), array([0.       , 0.       , 0.       , 0.9998799]), array([0.        , 0.        , 0.        , 0.99981683]), array([0.41606104, 0.        , 0.58385026, 0.        ]), array([0.        , 0.63003111, 0.        , 0.36987942])]\n"
          ]
        }
      ]
    },
    {
      "cell_type": "code",
      "source": [
        "##Get topic distribution and features (terms)\n",
        "##lda_keys is the topic number that we later use to assign clusters and colors\n",
        "\n",
        "top_dist, lda_keys= get_doc_topic_dist(model, corpus, True)\n",
        "features = tvectorizer.get_feature_names()\n",
        "\n",
        "##Top dist is an array where each entry is a vector showing the probabilities of each topic for that specific doc\n",
        "\n",
        "##Check below to see how this works\n",
        "##print(top_dist[0])\n",
        "##print(lda_keys[0])\n"
      ],
      "metadata": {
        "colab": {
          "base_uri": "https://localhost:8080/"
        },
        "id": "6Nxm7fZxBflG",
        "outputId": "7f9d5265-9718-424f-d8ed-d1410630e90d"
      },
      "execution_count": null,
      "outputs": [
        {
          "output_type": "stream",
          "name": "stdout",
          "text": [
            "[0.         0.15355889 0.         0.8463484 ]\n",
            "3\n"
          ]
        },
        {
          "output_type": "stream",
          "name": "stderr",
          "text": [
            "/usr/local/lib/python3.7/dist-packages/sklearn/utils/deprecation.py:87: FutureWarning:\n",
            "\n",
            "Function get_feature_names is deprecated; get_feature_names is deprecated in 1.0 and will be removed in 1.2. Please use get_feature_names_out instead.\n",
            "\n"
          ]
        }
      ]
    },
    {
      "cell_type": "code",
      "source": [
        "\n",
        "##Array for top defining terms (features) for the topic\n",
        "top_ws = []\n",
        "for n in range(len(dtm)):\n",
        "    inds = int0(argsort(dtm[n])[::-1][:4])\n",
        "    tmp = [features[i] for i in inds]\n",
        "    \n",
        "    top_ws += [' '.join(tmp)]\n",
        "    \n",
        "##Make column to include representative terms\n",
        "p_df['Text_Rep'] = pd.DataFrame(top_ws)\n",
        "##Make column to show topic number\n",
        "p_df['clusters'] = pd.DataFrame(lda_keys)\n",
        "##Fill empty entires with 10, this is associated with the gray color\n",
        "p_df['clusters'].fillna(10, inplace=True)\n",
        "\n",
        "cluster_colors = {0: 'blue', 1: 'green', 2: 'yellow', 3: 'red', 4: 'skyblue', 5:'salmon', 6:'orange', 7:'maroon', 8:'crimson', 9:'black', 10:'gray'}\n",
        "##Make color column based on the cluster (i.e. topic number) based on the above key\n",
        "p_df['colors'] = p_df['clusters'].apply(lambda l: cluster_colors[l])\n",
        "\n",
        "##Show data frame with line below\n",
        "##p_df"
      ],
      "metadata": {
        "colab": {
          "base_uri": "https://localhost:8080/",
          "height": 1000
        },
        "id": "YuwYGzwNBiWx",
        "outputId": "e0ce62eb-160f-4d5f-9e3c-afce99bcef8d"
      },
      "execution_count": null,
      "outputs": [
        {
          "output_type": "execute_result",
          "data": {
            "text/plain": [
              "       Id                                              Title  EventType  \\\n",
              "0    5677  Double or Nothing: Multiplicative Incentive Me...     Poster   \n",
              "1    5941  Learning with Symmetric Label Noise: The Impor...  Spotlight   \n",
              "2    6019   Algorithmic Stability and Uniform Generalization     Poster   \n",
              "3    6035  Adaptive Low-Complexity Sequential Inference f...     Poster   \n",
              "4    5978  Covariance-Controlled Adaptive Langevin Thermo...     Poster   \n",
              "..    ...                                                ...        ...   \n",
              "398  5792  Efficient Learning of Continuous-Time Hidden M...     Poster   \n",
              "399  5674            Expectation Particle Belief Propagation     Poster   \n",
              "400  5756  Latent Bayesian melding for integrating indivi...  Spotlight   \n",
              "401  5745        Distributionally Robust Logistic Regression  Spotlight   \n",
              "402  5666  Variational Dropout and the Local Reparameteri...     Poster   \n",
              "\n",
              "                                               PdfName  \\\n",
              "0    5677-double-or-nothing-multiplicative-incentiv...   \n",
              "1    5941-learning-with-symmetric-label-noise-the-i...   \n",
              "2    6019-algorithmic-stability-and-uniform-general...   \n",
              "3    6035-adaptive-low-complexity-sequential-infere...   \n",
              "4    5978-covariance-controlled-adaptive-langevin-t...   \n",
              "..                                                 ...   \n",
              "398  5792-efficient-learning-of-continuous-time-hid...   \n",
              "399   5674-expectation-particle-belief-propagation.pdf   \n",
              "400  5756-latent-bayesian-melding-for-integrating-i...   \n",
              "401  5745-distributionally-robust-logistic-regressi...   \n",
              "402  5666-variational-dropout-and-the-local-reparam...   \n",
              "\n",
              "                                              Abstract  \\\n",
              "0    Crowdsourcing has gained immense popularity in...   \n",
              "1    Convex potential minimisation is the de facto ...   \n",
              "2    One of the central questions in statistical le...   \n",
              "3    We develop a sequential low-complexity inferen...   \n",
              "4    Monte Carlo sampling for Bayesian posterior in...   \n",
              "..                                                 ...   \n",
              "398  The Continuous-Time Hidden Markov Model (CT-HM...   \n",
              "399  We propose an original particle-based implemen...   \n",
              "400  In many statistical problems, a more coarse-gr...   \n",
              "401  This paper proposes a distributionally robust ...   \n",
              "402  We explore an as yet unexploited opportunity f...   \n",
              "\n",
              "                                             PaperText  \\\n",
              "0    Double or Nothing: Multiplicative\\nIncentive M...   \n",
              "1    Learning with Symmetric Label Noise: The\\nImpo...   \n",
              "2    Algorithmic Stability and Uniform Generalizati...   \n",
              "3    Adaptive Low-Complexity Sequential Inference f...   \n",
              "4    Covariance-Controlled Adaptive Langevin\\nTherm...   \n",
              "..                                                 ...   \n",
              "398  Efficient Learning of Continuous-Time Hidden\\n...   \n",
              "399  Expectation Particle Belief Propagation\\n\\nThi...   \n",
              "400  Latent Bayesian melding for integrating indivi...   \n",
              "401  Distributionally Robust Logistic Regression\\n\\...   \n",
              "402  Variational Dropout and\\nthe Local Reparameter...   \n",
              "\n",
              "                                                tokenz  \\\n",
              "0    [double, nothing, multiplicative, incentive, m...   \n",
              "1    [learning, with, symmetric, label, noise, impo...   \n",
              "2    [algorithmic, stability, uniform, generalizati...   \n",
              "3    [adaptive, complexity, sequential, inference, ...   \n",
              "4    [covariance, controlled, adaptive, langevin, t...   \n",
              "..                                                 ...   \n",
              "398  [efficient, learning, continuous, time, hidden...   \n",
              "399  [expectation, particle, belief, propagation, t...   \n",
              "400  [latent, bayesian, melding, integrating, indiv...   \n",
              "401  [distributionally, robust, logistic, regressio...   \n",
              "402  [variational, dropout, local, reparameterizati...   \n",
              "\n",
              "                                              Text_Rep  clusters  colors  \\\n",
              "0           mechanism answer confidence multiplicative         3     red   \n",
              "1                   robustness learner svm equivalence         0    blue   \n",
              "2            stability vol training example parametric         2  yellow   \n",
              "3    dirichlet mixture model concentration hyperpar...         3     red   \n",
              "4         covariance matrix article maintaining letter         3     red   \n",
              "..                                                 ...       ...     ...   \n",
              "398                     vol soft structural functional         3     red   \n",
              "399     proposal belief exponential family propagation         3     red   \n",
              "400                energy population modelling summary         3     red   \n",
              "401         logistic regression radius ball confidence         2  yellow   \n",
              "402       variational inference epoch activation trick         1   green   \n",
              "\n",
              "        X_tsne      Y_tsne     Z_tsne  \n",
              "0   -66.470879   76.462151  -1.693241  \n",
              "1   -12.480157   21.149488  80.180473  \n",
              "2    12.586023    5.593279 -80.323257  \n",
              "3   -15.464137  116.217377   4.060631  \n",
              "4   -55.759094   95.894974 -40.058178  \n",
              "..         ...         ...        ...  \n",
              "398   8.855574  101.817635 -57.286678  \n",
              "399 -14.737282   63.156094 -71.552116  \n",
              "400  31.937590   87.898689 -21.068617  \n",
              "401  22.945602  -29.644821  18.223076  \n",
              "402 -67.692444    3.609157 -56.883202  \n",
              "\n",
              "[403 rows x 13 columns]"
            ],
            "text/html": [
              "\n",
              "  <div id=\"df-7e32780a-8787-4f40-b1e0-a2d97c26c402\">\n",
              "    <div class=\"colab-df-container\">\n",
              "      <div>\n",
              "<style scoped>\n",
              "    .dataframe tbody tr th:only-of-type {\n",
              "        vertical-align: middle;\n",
              "    }\n",
              "\n",
              "    .dataframe tbody tr th {\n",
              "        vertical-align: top;\n",
              "    }\n",
              "\n",
              "    .dataframe thead th {\n",
              "        text-align: right;\n",
              "    }\n",
              "</style>\n",
              "<table border=\"1\" class=\"dataframe\">\n",
              "  <thead>\n",
              "    <tr style=\"text-align: right;\">\n",
              "      <th></th>\n",
              "      <th>Id</th>\n",
              "      <th>Title</th>\n",
              "      <th>EventType</th>\n",
              "      <th>PdfName</th>\n",
              "      <th>Abstract</th>\n",
              "      <th>PaperText</th>\n",
              "      <th>tokenz</th>\n",
              "      <th>Text_Rep</th>\n",
              "      <th>clusters</th>\n",
              "      <th>colors</th>\n",
              "      <th>X_tsne</th>\n",
              "      <th>Y_tsne</th>\n",
              "      <th>Z_tsne</th>\n",
              "    </tr>\n",
              "  </thead>\n",
              "  <tbody>\n",
              "    <tr>\n",
              "      <th>0</th>\n",
              "      <td>5677</td>\n",
              "      <td>Double or Nothing: Multiplicative Incentive Me...</td>\n",
              "      <td>Poster</td>\n",
              "      <td>5677-double-or-nothing-multiplicative-incentiv...</td>\n",
              "      <td>Crowdsourcing has gained immense popularity in...</td>\n",
              "      <td>Double or Nothing: Multiplicative\\nIncentive M...</td>\n",
              "      <td>[double, nothing, multiplicative, incentive, m...</td>\n",
              "      <td>mechanism answer confidence multiplicative</td>\n",
              "      <td>3</td>\n",
              "      <td>red</td>\n",
              "      <td>-66.470879</td>\n",
              "      <td>76.462151</td>\n",
              "      <td>-1.693241</td>\n",
              "    </tr>\n",
              "    <tr>\n",
              "      <th>1</th>\n",
              "      <td>5941</td>\n",
              "      <td>Learning with Symmetric Label Noise: The Impor...</td>\n",
              "      <td>Spotlight</td>\n",
              "      <td>5941-learning-with-symmetric-label-noise-the-i...</td>\n",
              "      <td>Convex potential minimisation is the de facto ...</td>\n",
              "      <td>Learning with Symmetric Label Noise: The\\nImpo...</td>\n",
              "      <td>[learning, with, symmetric, label, noise, impo...</td>\n",
              "      <td>robustness learner svm equivalence</td>\n",
              "      <td>0</td>\n",
              "      <td>blue</td>\n",
              "      <td>-12.480157</td>\n",
              "      <td>21.149488</td>\n",
              "      <td>80.180473</td>\n",
              "    </tr>\n",
              "    <tr>\n",
              "      <th>2</th>\n",
              "      <td>6019</td>\n",
              "      <td>Algorithmic Stability and Uniform Generalization</td>\n",
              "      <td>Poster</td>\n",
              "      <td>6019-algorithmic-stability-and-uniform-general...</td>\n",
              "      <td>One of the central questions in statistical le...</td>\n",
              "      <td>Algorithmic Stability and Uniform Generalizati...</td>\n",
              "      <td>[algorithmic, stability, uniform, generalizati...</td>\n",
              "      <td>stability vol training example parametric</td>\n",
              "      <td>2</td>\n",
              "      <td>yellow</td>\n",
              "      <td>12.586023</td>\n",
              "      <td>5.593279</td>\n",
              "      <td>-80.323257</td>\n",
              "    </tr>\n",
              "    <tr>\n",
              "      <th>3</th>\n",
              "      <td>6035</td>\n",
              "      <td>Adaptive Low-Complexity Sequential Inference f...</td>\n",
              "      <td>Poster</td>\n",
              "      <td>6035-adaptive-low-complexity-sequential-infere...</td>\n",
              "      <td>We develop a sequential low-complexity inferen...</td>\n",
              "      <td>Adaptive Low-Complexity Sequential Inference f...</td>\n",
              "      <td>[adaptive, complexity, sequential, inference, ...</td>\n",
              "      <td>dirichlet mixture model concentration hyperpar...</td>\n",
              "      <td>3</td>\n",
              "      <td>red</td>\n",
              "      <td>-15.464137</td>\n",
              "      <td>116.217377</td>\n",
              "      <td>4.060631</td>\n",
              "    </tr>\n",
              "    <tr>\n",
              "      <th>4</th>\n",
              "      <td>5978</td>\n",
              "      <td>Covariance-Controlled Adaptive Langevin Thermo...</td>\n",
              "      <td>Poster</td>\n",
              "      <td>5978-covariance-controlled-adaptive-langevin-t...</td>\n",
              "      <td>Monte Carlo sampling for Bayesian posterior in...</td>\n",
              "      <td>Covariance-Controlled Adaptive Langevin\\nTherm...</td>\n",
              "      <td>[covariance, controlled, adaptive, langevin, t...</td>\n",
              "      <td>covariance matrix article maintaining letter</td>\n",
              "      <td>3</td>\n",
              "      <td>red</td>\n",
              "      <td>-55.759094</td>\n",
              "      <td>95.894974</td>\n",
              "      <td>-40.058178</td>\n",
              "    </tr>\n",
              "    <tr>\n",
              "      <th>...</th>\n",
              "      <td>...</td>\n",
              "      <td>...</td>\n",
              "      <td>...</td>\n",
              "      <td>...</td>\n",
              "      <td>...</td>\n",
              "      <td>...</td>\n",
              "      <td>...</td>\n",
              "      <td>...</td>\n",
              "      <td>...</td>\n",
              "      <td>...</td>\n",
              "      <td>...</td>\n",
              "      <td>...</td>\n",
              "      <td>...</td>\n",
              "    </tr>\n",
              "    <tr>\n",
              "      <th>398</th>\n",
              "      <td>5792</td>\n",
              "      <td>Efficient Learning of Continuous-Time Hidden M...</td>\n",
              "      <td>Poster</td>\n",
              "      <td>5792-efficient-learning-of-continuous-time-hid...</td>\n",
              "      <td>The Continuous-Time Hidden Markov Model (CT-HM...</td>\n",
              "      <td>Efficient Learning of Continuous-Time Hidden\\n...</td>\n",
              "      <td>[efficient, learning, continuous, time, hidden...</td>\n",
              "      <td>vol soft structural functional</td>\n",
              "      <td>3</td>\n",
              "      <td>red</td>\n",
              "      <td>8.855574</td>\n",
              "      <td>101.817635</td>\n",
              "      <td>-57.286678</td>\n",
              "    </tr>\n",
              "    <tr>\n",
              "      <th>399</th>\n",
              "      <td>5674</td>\n",
              "      <td>Expectation Particle Belief Propagation</td>\n",
              "      <td>Poster</td>\n",
              "      <td>5674-expectation-particle-belief-propagation.pdf</td>\n",
              "      <td>We propose an original particle-based implemen...</td>\n",
              "      <td>Expectation Particle Belief Propagation\\n\\nThi...</td>\n",
              "      <td>[expectation, particle, belief, propagation, t...</td>\n",
              "      <td>proposal belief exponential family propagation</td>\n",
              "      <td>3</td>\n",
              "      <td>red</td>\n",
              "      <td>-14.737282</td>\n",
              "      <td>63.156094</td>\n",
              "      <td>-71.552116</td>\n",
              "    </tr>\n",
              "    <tr>\n",
              "      <th>400</th>\n",
              "      <td>5756</td>\n",
              "      <td>Latent Bayesian melding for integrating indivi...</td>\n",
              "      <td>Spotlight</td>\n",
              "      <td>5756-latent-bayesian-melding-for-integrating-i...</td>\n",
              "      <td>In many statistical problems, a more coarse-gr...</td>\n",
              "      <td>Latent Bayesian melding for integrating indivi...</td>\n",
              "      <td>[latent, bayesian, melding, integrating, indiv...</td>\n",
              "      <td>energy population modelling summary</td>\n",
              "      <td>3</td>\n",
              "      <td>red</td>\n",
              "      <td>31.937590</td>\n",
              "      <td>87.898689</td>\n",
              "      <td>-21.068617</td>\n",
              "    </tr>\n",
              "    <tr>\n",
              "      <th>401</th>\n",
              "      <td>5745</td>\n",
              "      <td>Distributionally Robust Logistic Regression</td>\n",
              "      <td>Spotlight</td>\n",
              "      <td>5745-distributionally-robust-logistic-regressi...</td>\n",
              "      <td>This paper proposes a distributionally robust ...</td>\n",
              "      <td>Distributionally Robust Logistic Regression\\n\\...</td>\n",
              "      <td>[distributionally, robust, logistic, regressio...</td>\n",
              "      <td>logistic regression radius ball confidence</td>\n",
              "      <td>2</td>\n",
              "      <td>yellow</td>\n",
              "      <td>22.945602</td>\n",
              "      <td>-29.644821</td>\n",
              "      <td>18.223076</td>\n",
              "    </tr>\n",
              "    <tr>\n",
              "      <th>402</th>\n",
              "      <td>5666</td>\n",
              "      <td>Variational Dropout and the Local Reparameteri...</td>\n",
              "      <td>Poster</td>\n",
              "      <td>5666-variational-dropout-and-the-local-reparam...</td>\n",
              "      <td>We explore an as yet unexploited opportunity f...</td>\n",
              "      <td>Variational Dropout and\\nthe Local Reparameter...</td>\n",
              "      <td>[variational, dropout, local, reparameterizati...</td>\n",
              "      <td>variational inference epoch activation trick</td>\n",
              "      <td>1</td>\n",
              "      <td>green</td>\n",
              "      <td>-67.692444</td>\n",
              "      <td>3.609157</td>\n",
              "      <td>-56.883202</td>\n",
              "    </tr>\n",
              "  </tbody>\n",
              "</table>\n",
              "<p>403 rows × 13 columns</p>\n",
              "</div>\n",
              "      <button class=\"colab-df-convert\" onclick=\"convertToInteractive('df-7e32780a-8787-4f40-b1e0-a2d97c26c402')\"\n",
              "              title=\"Convert this dataframe to an interactive table.\"\n",
              "              style=\"display:none;\">\n",
              "        \n",
              "  <svg xmlns=\"http://www.w3.org/2000/svg\" height=\"24px\"viewBox=\"0 0 24 24\"\n",
              "       width=\"24px\">\n",
              "    <path d=\"M0 0h24v24H0V0z\" fill=\"none\"/>\n",
              "    <path d=\"M18.56 5.44l.94 2.06.94-2.06 2.06-.94-2.06-.94-.94-2.06-.94 2.06-2.06.94zm-11 1L8.5 8.5l.94-2.06 2.06-.94-2.06-.94L8.5 2.5l-.94 2.06-2.06.94zm10 10l.94 2.06.94-2.06 2.06-.94-2.06-.94-.94-2.06-.94 2.06-2.06.94z\"/><path d=\"M17.41 7.96l-1.37-1.37c-.4-.4-.92-.59-1.43-.59-.52 0-1.04.2-1.43.59L10.3 9.45l-7.72 7.72c-.78.78-.78 2.05 0 2.83L4 21.41c.39.39.9.59 1.41.59.51 0 1.02-.2 1.41-.59l7.78-7.78 2.81-2.81c.8-.78.8-2.07 0-2.86zM5.41 20L4 18.59l7.72-7.72 1.47 1.35L5.41 20z\"/>\n",
              "  </svg>\n",
              "      </button>\n",
              "      \n",
              "  <style>\n",
              "    .colab-df-container {\n",
              "      display:flex;\n",
              "      flex-wrap:wrap;\n",
              "      gap: 12px;\n",
              "    }\n",
              "\n",
              "    .colab-df-convert {\n",
              "      background-color: #E8F0FE;\n",
              "      border: none;\n",
              "      border-radius: 50%;\n",
              "      cursor: pointer;\n",
              "      display: none;\n",
              "      fill: #1967D2;\n",
              "      height: 32px;\n",
              "      padding: 0 0 0 0;\n",
              "      width: 32px;\n",
              "    }\n",
              "\n",
              "    .colab-df-convert:hover {\n",
              "      background-color: #E2EBFA;\n",
              "      box-shadow: 0px 1px 2px rgba(60, 64, 67, 0.3), 0px 1px 3px 1px rgba(60, 64, 67, 0.15);\n",
              "      fill: #174EA6;\n",
              "    }\n",
              "\n",
              "    [theme=dark] .colab-df-convert {\n",
              "      background-color: #3B4455;\n",
              "      fill: #D2E3FC;\n",
              "    }\n",
              "\n",
              "    [theme=dark] .colab-df-convert:hover {\n",
              "      background-color: #434B5C;\n",
              "      box-shadow: 0px 1px 3px 1px rgba(0, 0, 0, 0.15);\n",
              "      filter: drop-shadow(0px 1px 2px rgba(0, 0, 0, 0.3));\n",
              "      fill: #FFFFFF;\n",
              "    }\n",
              "  </style>\n",
              "\n",
              "      <script>\n",
              "        const buttonEl =\n",
              "          document.querySelector('#df-7e32780a-8787-4f40-b1e0-a2d97c26c402 button.colab-df-convert');\n",
              "        buttonEl.style.display =\n",
              "          google.colab.kernel.accessAllowed ? 'block' : 'none';\n",
              "\n",
              "        async function convertToInteractive(key) {\n",
              "          const element = document.querySelector('#df-7e32780a-8787-4f40-b1e0-a2d97c26c402');\n",
              "          const dataTable =\n",
              "            await google.colab.kernel.invokeFunction('convertToInteractive',\n",
              "                                                     [key], {});\n",
              "          if (!dataTable) return;\n",
              "\n",
              "          const docLinkHtml = 'Like what you see? Visit the ' +\n",
              "            '<a target=\"_blank\" href=https://colab.research.google.com/notebooks/data_table.ipynb>data table notebook</a>'\n",
              "            + ' to learn more about interactive tables.';\n",
              "          element.innerHTML = '';\n",
              "          dataTable['output_type'] = 'display_data';\n",
              "          await google.colab.output.renderOutput(dataTable, element);\n",
              "          const docLink = document.createElement('div');\n",
              "          docLink.innerHTML = docLinkHtml;\n",
              "          element.appendChild(docLink);\n",
              "        }\n",
              "      </script>\n",
              "    </div>\n",
              "  </div>\n",
              "  "
            ]
          },
          "metadata": {},
          "execution_count": 79
        }
      ]
    },
    {
      "cell_type": "code",
      "source": [
        "##Import T-sne packages\n",
        "\n",
        "from sklearn.manifold import TSNE\n",
        "##define dimensions of T-sne\n",
        "tsne = TSNE(n_components=3)\n",
        "##fit the t-sne with the preprocessed topic distribution from above\n",
        "X_tsne = tsne.fit_transform(top_dist)"
      ],
      "metadata": {
        "colab": {
          "base_uri": "https://localhost:8080/"
        },
        "id": "gsBGQZ46Bkyp",
        "outputId": "5d5e1ff0-4577-441f-87af-88418abe1233"
      },
      "execution_count": null,
      "outputs": [
        {
          "output_type": "stream",
          "name": "stderr",
          "text": [
            "/usr/local/lib/python3.7/dist-packages/sklearn/manifold/_t_sne.py:783: FutureWarning:\n",
            "\n",
            "The default initialization in TSNE will change from 'random' to 'pca' in 1.2.\n",
            "\n",
            "/usr/local/lib/python3.7/dist-packages/sklearn/manifold/_t_sne.py:793: FutureWarning:\n",
            "\n",
            "The default learning rate in TSNE will change from 200.0 to 'auto' in 1.2.\n",
            "\n"
          ]
        }
      ]
    },
    {
      "cell_type": "code",
      "source": [
        "##Alternative and not-as-cool data visualization \n",
        "'''\n",
        "##Define data from dims of t-sne\n",
        "\n",
        "p_df['X_tsne'] =X_tsne[:, 0]\n",
        "p_df['Y_tsne'] =X_tsne[:, 1]\n",
        "p_df['Z_tsne'] =X_tsne[:, 2] ##Me\n",
        "'''"
      ],
      "metadata": {
        "id": "l2oX6yfGBpF6"
      },
      "execution_count": null,
      "outputs": []
    },
    {
      "cell_type": "code",
      "source": [
        "##Alternative and not-as-cool data visualization \n",
        "'''\n",
        "from bokeh.plotting import figure, show, output_notebook, save#, output_file\n",
        "from bokeh.models import HoverTool, value, LabelSet, Legend, ColumnDataSource\n",
        "output_notebook()\n",
        "'''"
      ],
      "metadata": {
        "id": "LUMMu5SgBrai"
      },
      "execution_count": null,
      "outputs": []
    },
    {
      "cell_type": "code",
      "source": [
        "##Alternative and not-as-cool data visualization \n",
        "'''\n",
        "source = ColumnDataSource(dict(\n",
        "    x=p_df['X_tsne'],\n",
        "    y=p_df['Y_tsne'],\n",
        "    z=p_df['Z_tsne'], ##Me\n",
        "    color=p_df['colors'],\n",
        "    label=p_df['clusters'].apply(lambda l: top_labels[l]),\n",
        "#     msize= p_df['marker_size'],\n",
        "    topic_key= p_df['clusters'],\n",
        "    title= p_df[u'Title'],\n",
        "    content = p_df['Text_Rep']\n",
        "))\n",
        "'''"
      ],
      "metadata": {
        "id": "ISa63r6gBugv"
      },
      "execution_count": null,
      "outputs": []
    },
    {
      "cell_type": "code",
      "source": [
        "##Alternative and not-as-cool data visualization \n",
        "'''\n",
        "title = 'T-SNE visualization of topics'\n",
        "\n",
        "plot_lda = figure(plot_width=1000, plot_height=600,\n",
        "                     title=title, tools=\"pan,wheel_zoom,box_zoom,reset,hover\",\n",
        "                     x_axis_type=None, y_axis_type=None, min_border=1)\n",
        "\n",
        "plot_lda.scatter(x='x', y='y', legend='label', source=source,\n",
        "                 color='color', alpha=0.8, size=10)#'msize', )\n",
        "\n",
        "# hover tools\n",
        "hover = plot_lda.select(dict(type=HoverTool))\n",
        "hover.tooltips = {\"content\": \"Title: @title, KeyWords: @content - Topic: @topic_key \"}\n",
        "plot_lda.legend.location = \"top_left\"\n",
        "\n",
        "show(plot_lda)\n",
        "\n",
        "#save the plot\n",
        "# save(plot_lda, '{}.html'.format(title))\n",
        "'''"
      ],
      "metadata": {
        "colab": {
          "base_uri": "https://localhost:8080/",
          "height": 706
        },
        "id": "nj0Ev-ElByT5",
        "outputId": "66e84e81-dd86-4c13-8972-c561c8dae043"
      },
      "execution_count": null,
      "outputs": [
        {
          "output_type": "stream",
          "name": "stderr",
          "text": [
            "/usr/local/lib/python3.7/dist-packages/bokeh/util/deprecation.py:75: BokehDeprecationWarning:\n",
            "\n",
            "'legend' keyword is deprecated, use explicit 'legend_label', 'legend_field', or 'legend_group' keywords instead\n",
            "\n"
          ]
        },
        {
          "output_type": "display_data",
          "data": {
            "application/javascript": [
              "\n",
              "(function(root) {\n",
              "  function now() {\n",
              "    return new Date();\n",
              "  }\n",
              "\n",
              "  var force = true;\n",
              "\n",
              "  if (typeof root._bokeh_onload_callbacks === \"undefined\" || force === true) {\n",
              "    root._bokeh_onload_callbacks = [];\n",
              "    root._bokeh_is_loading = undefined;\n",
              "  }\n",
              "\n",
              "  var JS_MIME_TYPE = 'application/javascript';\n",
              "  var HTML_MIME_TYPE = 'text/html';\n",
              "  var EXEC_MIME_TYPE = 'application/vnd.bokehjs_exec.v0+json';\n",
              "  var CLASS_NAME = 'output_bokeh rendered_html';\n",
              "\n",
              "  /**\n",
              "   * Render data to the DOM node\n",
              "   */\n",
              "  function render(props, node) {\n",
              "    var script = document.createElement(\"script\");\n",
              "    node.appendChild(script);\n",
              "  }\n",
              "\n",
              "  /**\n",
              "   * Handle when an output is cleared or removed\n",
              "   */\n",
              "  function handleClearOutput(event, handle) {\n",
              "    var cell = handle.cell;\n",
              "\n",
              "    var id = cell.output_area._bokeh_element_id;\n",
              "    var server_id = cell.output_area._bokeh_server_id;\n",
              "    // Clean up Bokeh references\n",
              "    if (id != null && id in Bokeh.index) {\n",
              "      Bokeh.index[id].model.document.clear();\n",
              "      delete Bokeh.index[id];\n",
              "    }\n",
              "\n",
              "    if (server_id !== undefined) {\n",
              "      // Clean up Bokeh references\n",
              "      var cmd = \"from bokeh.io.state import curstate; print(curstate().uuid_to_server['\" + server_id + \"'].get_sessions()[0].document.roots[0]._id)\";\n",
              "      cell.notebook.kernel.execute(cmd, {\n",
              "        iopub: {\n",
              "          output: function(msg) {\n",
              "            var id = msg.content.text.trim();\n",
              "            if (id in Bokeh.index) {\n",
              "              Bokeh.index[id].model.document.clear();\n",
              "              delete Bokeh.index[id];\n",
              "            }\n",
              "          }\n",
              "        }\n",
              "      });\n",
              "      // Destroy server and session\n",
              "      var cmd = \"import bokeh.io.notebook as ion; ion.destroy_server('\" + server_id + \"')\";\n",
              "      cell.notebook.kernel.execute(cmd);\n",
              "    }\n",
              "  }\n",
              "\n",
              "  /**\n",
              "   * Handle when a new output is added\n",
              "   */\n",
              "  function handleAddOutput(event, handle) {\n",
              "    var output_area = handle.output_area;\n",
              "    var output = handle.output;\n",
              "\n",
              "    // limit handleAddOutput to display_data with EXEC_MIME_TYPE content only\n",
              "    if ((output.output_type != \"display_data\") || (!Object.prototype.hasOwnProperty.call(output.data, EXEC_MIME_TYPE))) {\n",
              "      return\n",
              "    }\n",
              "\n",
              "    var toinsert = output_area.element.find(\".\" + CLASS_NAME.split(' ')[0]);\n",
              "\n",
              "    if (output.metadata[EXEC_MIME_TYPE][\"id\"] !== undefined) {\n",
              "      toinsert[toinsert.length - 1].firstChild.textContent = output.data[JS_MIME_TYPE];\n",
              "      // store reference to embed id on output_area\n",
              "      output_area._bokeh_element_id = output.metadata[EXEC_MIME_TYPE][\"id\"];\n",
              "    }\n",
              "    if (output.metadata[EXEC_MIME_TYPE][\"server_id\"] !== undefined) {\n",
              "      var bk_div = document.createElement(\"div\");\n",
              "      bk_div.innerHTML = output.data[HTML_MIME_TYPE];\n",
              "      var script_attrs = bk_div.children[0].attributes;\n",
              "      for (var i = 0; i < script_attrs.length; i++) {\n",
              "        toinsert[toinsert.length - 1].firstChild.setAttribute(script_attrs[i].name, script_attrs[i].value);\n",
              "        toinsert[toinsert.length - 1].firstChild.textContent = bk_div.children[0].textContent\n",
              "      }\n",
              "      // store reference to server id on output_area\n",
              "      output_area._bokeh_server_id = output.metadata[EXEC_MIME_TYPE][\"server_id\"];\n",
              "    }\n",
              "  }\n",
              "\n",
              "  function register_renderer(events, OutputArea) {\n",
              "\n",
              "    function append_mime(data, metadata, element) {\n",
              "      // create a DOM node to render to\n",
              "      var toinsert = this.create_output_subarea(\n",
              "        metadata,\n",
              "        CLASS_NAME,\n",
              "        EXEC_MIME_TYPE\n",
              "      );\n",
              "      this.keyboard_manager.register_events(toinsert);\n",
              "      // Render to node\n",
              "      var props = {data: data, metadata: metadata[EXEC_MIME_TYPE]};\n",
              "      render(props, toinsert[toinsert.length - 1]);\n",
              "      element.append(toinsert);\n",
              "      return toinsert\n",
              "    }\n",
              "\n",
              "    /* Handle when an output is cleared or removed */\n",
              "    events.on('clear_output.CodeCell', handleClearOutput);\n",
              "    events.on('delete.Cell', handleClearOutput);\n",
              "\n",
              "    /* Handle when a new output is added */\n",
              "    events.on('output_added.OutputArea', handleAddOutput);\n",
              "\n",
              "    /**\n",
              "     * Register the mime type and append_mime function with output_area\n",
              "     */\n",
              "    OutputArea.prototype.register_mime_type(EXEC_MIME_TYPE, append_mime, {\n",
              "      /* Is output safe? */\n",
              "      safe: true,\n",
              "      /* Index of renderer in `output_area.display_order` */\n",
              "      index: 0\n",
              "    });\n",
              "  }\n",
              "\n",
              "  // register the mime type if in Jupyter Notebook environment and previously unregistered\n",
              "  if (root.Jupyter !== undefined) {\n",
              "    var events = require('base/js/events');\n",
              "    var OutputArea = require('notebook/js/outputarea').OutputArea;\n",
              "\n",
              "    if (OutputArea.prototype.mime_types().indexOf(EXEC_MIME_TYPE) == -1) {\n",
              "      register_renderer(events, OutputArea);\n",
              "    }\n",
              "  }\n",
              "\n",
              "  \n",
              "  if (typeof (root._bokeh_timeout) === \"undefined\" || force === true) {\n",
              "    root._bokeh_timeout = Date.now() + 5000;\n",
              "    root._bokeh_failed_load = false;\n",
              "  }\n",
              "\n",
              "  var NB_LOAD_WARNING = {'data': {'text/html':\n",
              "     \"<div style='background-color: #fdd'>\\n\"+\n",
              "     \"<p>\\n\"+\n",
              "     \"BokehJS does not appear to have successfully loaded. If loading BokehJS from CDN, this \\n\"+\n",
              "     \"may be due to a slow or bad network connection. Possible fixes:\\n\"+\n",
              "     \"</p>\\n\"+\n",
              "     \"<ul>\\n\"+\n",
              "     \"<li>re-rerun `output_notebook()` to attempt to load from CDN again, or</li>\\n\"+\n",
              "     \"<li>use INLINE resources instead, as so:</li>\\n\"+\n",
              "     \"</ul>\\n\"+\n",
              "     \"<code>\\n\"+\n",
              "     \"from bokeh.resources import INLINE\\n\"+\n",
              "     \"output_notebook(resources=INLINE)\\n\"+\n",
              "     \"</code>\\n\"+\n",
              "     \"</div>\"}};\n",
              "\n",
              "  function display_loaded() {\n",
              "    var el = document.getElementById(null);\n",
              "    if (el != null) {\n",
              "      el.textContent = \"BokehJS is loading...\";\n",
              "    }\n",
              "    if (root.Bokeh !== undefined) {\n",
              "      if (el != null) {\n",
              "        el.textContent = \"BokehJS \" + root.Bokeh.version + \" successfully loaded.\";\n",
              "      }\n",
              "    } else if (Date.now() < root._bokeh_timeout) {\n",
              "      setTimeout(display_loaded, 100)\n",
              "    }\n",
              "  }\n",
              "\n",
              "\n",
              "  function run_callbacks() {\n",
              "    try {\n",
              "      root._bokeh_onload_callbacks.forEach(function(callback) {\n",
              "        if (callback != null)\n",
              "          callback();\n",
              "      });\n",
              "    } finally {\n",
              "      delete root._bokeh_onload_callbacks\n",
              "    }\n",
              "    console.debug(\"Bokeh: all callbacks have finished\");\n",
              "  }\n",
              "\n",
              "  function load_libs(css_urls, js_urls, callback) {\n",
              "    if (css_urls == null) css_urls = [];\n",
              "    if (js_urls == null) js_urls = [];\n",
              "\n",
              "    root._bokeh_onload_callbacks.push(callback);\n",
              "    if (root._bokeh_is_loading > 0) {\n",
              "      console.debug(\"Bokeh: BokehJS is being loaded, scheduling callback at\", now());\n",
              "      return null;\n",
              "    }\n",
              "    if (js_urls == null || js_urls.length === 0) {\n",
              "      run_callbacks();\n",
              "      return null;\n",
              "    }\n",
              "    console.debug(\"Bokeh: BokehJS not loaded, scheduling load and callback at\", now());\n",
              "    root._bokeh_is_loading = css_urls.length + js_urls.length;\n",
              "\n",
              "    function on_load() {\n",
              "      root._bokeh_is_loading--;\n",
              "      if (root._bokeh_is_loading === 0) {\n",
              "        console.debug(\"Bokeh: all BokehJS libraries/stylesheets loaded\");\n",
              "        run_callbacks()\n",
              "      }\n",
              "    }\n",
              "\n",
              "    function on_error(url) {\n",
              "      console.error(\"failed to load \" + url);\n",
              "    }\n",
              "\n",
              "    for (let i = 0; i < css_urls.length; i++) {\n",
              "      const url = css_urls[i];\n",
              "      const element = document.createElement(\"link\");\n",
              "      element.onload = on_load;\n",
              "      element.onerror = on_error.bind(null, url);\n",
              "      element.rel = \"stylesheet\";\n",
              "      element.type = \"text/css\";\n",
              "      element.href = url;\n",
              "      console.debug(\"Bokeh: injecting link tag for BokehJS stylesheet: \", url);\n",
              "      document.body.appendChild(element);\n",
              "    }\n",
              "\n",
              "    const hashes = {\"https://cdn.bokeh.org/bokeh/release/bokeh-2.3.3.min.js\": \"dM3QQsP+wXdHg42wTqW85BjZQdLNNIXqlPw/BgKoExPmTG7ZLML4EGqLMfqHT6ON\", \"https://cdn.bokeh.org/bokeh/release/bokeh-tables-2.3.3.min.js\": \"8x57I4YuIfu8XyZfFo0XVr2WAT8EK4rh/uDe3wF7YuW2FNUSNEpJbsPaB1nJ2fz2\", \"https://cdn.bokeh.org/bokeh/release/bokeh-widgets-2.3.3.min.js\": \"3QTqdz9LyAm2i0sG5XTePsHec3UHWwVsrOL68SYRoAXsafvfAyqtQ+h440+qIBhS\"};\n",
              "\n",
              "    for (let i = 0; i < js_urls.length; i++) {\n",
              "      const url = js_urls[i];\n",
              "      const element = document.createElement('script');\n",
              "      element.onload = on_load;\n",
              "      element.onerror = on_error.bind(null, url);\n",
              "      element.async = false;\n",
              "      element.src = url;\n",
              "      if (url in hashes) {\n",
              "        element.crossOrigin = \"anonymous\";\n",
              "        element.integrity = \"sha384-\" + hashes[url];\n",
              "      }\n",
              "      console.debug(\"Bokeh: injecting script tag for BokehJS library: \", url);\n",
              "      document.head.appendChild(element);\n",
              "    }\n",
              "  };\n",
              "\n",
              "  function inject_raw_css(css) {\n",
              "    const element = document.createElement(\"style\");\n",
              "    element.appendChild(document.createTextNode(css));\n",
              "    document.body.appendChild(element);\n",
              "  }\n",
              "\n",
              "  \n",
              "  var js_urls = [\"https://cdn.bokeh.org/bokeh/release/bokeh-2.3.3.min.js\", \"https://cdn.bokeh.org/bokeh/release/bokeh-widgets-2.3.3.min.js\", \"https://cdn.bokeh.org/bokeh/release/bokeh-tables-2.3.3.min.js\"];\n",
              "  var css_urls = [];\n",
              "  \n",
              "\n",
              "  var inline_js = [\n",
              "    function(Bokeh) {\n",
              "      Bokeh.set_log_level(\"info\");\n",
              "    },\n",
              "    function(Bokeh) {\n",
              "    \n",
              "    \n",
              "    }\n",
              "  ];\n",
              "\n",
              "  function run_inline_js() {\n",
              "    \n",
              "    if (root.Bokeh !== undefined || force === true) {\n",
              "      \n",
              "    for (var i = 0; i < inline_js.length; i++) {\n",
              "      inline_js[i].call(root, root.Bokeh);\n",
              "    }\n",
              "    } else if (Date.now() < root._bokeh_timeout) {\n",
              "      setTimeout(run_inline_js, 100);\n",
              "    } else if (!root._bokeh_failed_load) {\n",
              "      console.log(\"Bokeh: BokehJS failed to load within specified timeout.\");\n",
              "      root._bokeh_failed_load = true;\n",
              "    } else if (force !== true) {\n",
              "      var cell = $(document.getElementById(null)).parents('.cell').data().cell;\n",
              "      cell.output_area.append_execute_result(NB_LOAD_WARNING)\n",
              "    }\n",
              "\n",
              "  }\n",
              "\n",
              "  if (root._bokeh_is_loading === 0) {\n",
              "    console.debug(\"Bokeh: BokehJS loaded, going straight to plotting\");\n",
              "    run_inline_js();\n",
              "  } else {\n",
              "    load_libs(css_urls, js_urls, function() {\n",
              "      console.debug(\"Bokeh: BokehJS plotting callback run at\", now());\n",
              "      run_inline_js();\n",
              "    });\n",
              "  }\n",
              "}(window));"
            ],
            "application/vnd.bokehjs_load.v0+json": "\n(function(root) {\n  function now() {\n    return new Date();\n  }\n\n  var force = true;\n\n  if (typeof root._bokeh_onload_callbacks === \"undefined\" || force === true) {\n    root._bokeh_onload_callbacks = [];\n    root._bokeh_is_loading = undefined;\n  }\n\n  \n\n  \n  if (typeof (root._bokeh_timeout) === \"undefined\" || force === true) {\n    root._bokeh_timeout = Date.now() + 5000;\n    root._bokeh_failed_load = false;\n  }\n\n  var NB_LOAD_WARNING = {'data': {'text/html':\n     \"<div style='background-color: #fdd'>\\n\"+\n     \"<p>\\n\"+\n     \"BokehJS does not appear to have successfully loaded. If loading BokehJS from CDN, this \\n\"+\n     \"may be due to a slow or bad network connection. Possible fixes:\\n\"+\n     \"</p>\\n\"+\n     \"<ul>\\n\"+\n     \"<li>re-rerun `output_notebook()` to attempt to load from CDN again, or</li>\\n\"+\n     \"<li>use INLINE resources instead, as so:</li>\\n\"+\n     \"</ul>\\n\"+\n     \"<code>\\n\"+\n     \"from bokeh.resources import INLINE\\n\"+\n     \"output_notebook(resources=INLINE)\\n\"+\n     \"</code>\\n\"+\n     \"</div>\"}};\n\n  function display_loaded() {\n    var el = document.getElementById(null);\n    if (el != null) {\n      el.textContent = \"BokehJS is loading...\";\n    }\n    if (root.Bokeh !== undefined) {\n      if (el != null) {\n        el.textContent = \"BokehJS \" + root.Bokeh.version + \" successfully loaded.\";\n      }\n    } else if (Date.now() < root._bokeh_timeout) {\n      setTimeout(display_loaded, 100)\n    }\n  }\n\n\n  function run_callbacks() {\n    try {\n      root._bokeh_onload_callbacks.forEach(function(callback) {\n        if (callback != null)\n          callback();\n      });\n    } finally {\n      delete root._bokeh_onload_callbacks\n    }\n    console.debug(\"Bokeh: all callbacks have finished\");\n  }\n\n  function load_libs(css_urls, js_urls, callback) {\n    if (css_urls == null) css_urls = [];\n    if (js_urls == null) js_urls = [];\n\n    root._bokeh_onload_callbacks.push(callback);\n    if (root._bokeh_is_loading > 0) {\n      console.debug(\"Bokeh: BokehJS is being loaded, scheduling callback at\", now());\n      return null;\n    }\n    if (js_urls == null || js_urls.length === 0) {\n      run_callbacks();\n      return null;\n    }\n    console.debug(\"Bokeh: BokehJS not loaded, scheduling load and callback at\", now());\n    root._bokeh_is_loading = css_urls.length + js_urls.length;\n\n    function on_load() {\n      root._bokeh_is_loading--;\n      if (root._bokeh_is_loading === 0) {\n        console.debug(\"Bokeh: all BokehJS libraries/stylesheets loaded\");\n        run_callbacks()\n      }\n    }\n\n    function on_error(url) {\n      console.error(\"failed to load \" + url);\n    }\n\n    for (let i = 0; i < css_urls.length; i++) {\n      const url = css_urls[i];\n      const element = document.createElement(\"link\");\n      element.onload = on_load;\n      element.onerror = on_error.bind(null, url);\n      element.rel = \"stylesheet\";\n      element.type = \"text/css\";\n      element.href = url;\n      console.debug(\"Bokeh: injecting link tag for BokehJS stylesheet: \", url);\n      document.body.appendChild(element);\n    }\n\n    const hashes = {\"https://cdn.bokeh.org/bokeh/release/bokeh-2.3.3.min.js\": \"dM3QQsP+wXdHg42wTqW85BjZQdLNNIXqlPw/BgKoExPmTG7ZLML4EGqLMfqHT6ON\", \"https://cdn.bokeh.org/bokeh/release/bokeh-tables-2.3.3.min.js\": \"8x57I4YuIfu8XyZfFo0XVr2WAT8EK4rh/uDe3wF7YuW2FNUSNEpJbsPaB1nJ2fz2\", \"https://cdn.bokeh.org/bokeh/release/bokeh-widgets-2.3.3.min.js\": \"3QTqdz9LyAm2i0sG5XTePsHec3UHWwVsrOL68SYRoAXsafvfAyqtQ+h440+qIBhS\"};\n\n    for (let i = 0; i < js_urls.length; i++) {\n      const url = js_urls[i];\n      const element = document.createElement('script');\n      element.onload = on_load;\n      element.onerror = on_error.bind(null, url);\n      element.async = false;\n      element.src = url;\n      if (url in hashes) {\n        element.crossOrigin = \"anonymous\";\n        element.integrity = \"sha384-\" + hashes[url];\n      }\n      console.debug(\"Bokeh: injecting script tag for BokehJS library: \", url);\n      document.head.appendChild(element);\n    }\n  };\n\n  function inject_raw_css(css) {\n    const element = document.createElement(\"style\");\n    element.appendChild(document.createTextNode(css));\n    document.body.appendChild(element);\n  }\n\n  \n  var js_urls = [\"https://cdn.bokeh.org/bokeh/release/bokeh-2.3.3.min.js\", \"https://cdn.bokeh.org/bokeh/release/bokeh-widgets-2.3.3.min.js\", \"https://cdn.bokeh.org/bokeh/release/bokeh-tables-2.3.3.min.js\"];\n  var css_urls = [];\n  \n\n  var inline_js = [\n    function(Bokeh) {\n      Bokeh.set_log_level(\"info\");\n    },\n    function(Bokeh) {\n    \n    \n    }\n  ];\n\n  function run_inline_js() {\n    \n    if (root.Bokeh !== undefined || force === true) {\n      \n    for (var i = 0; i < inline_js.length; i++) {\n      inline_js[i].call(root, root.Bokeh);\n    }\n    } else if (Date.now() < root._bokeh_timeout) {\n      setTimeout(run_inline_js, 100);\n    } else if (!root._bokeh_failed_load) {\n      console.log(\"Bokeh: BokehJS failed to load within specified timeout.\");\n      root._bokeh_failed_load = true;\n    } else if (force !== true) {\n      var cell = $(document.getElementById(null)).parents('.cell').data().cell;\n      cell.output_area.append_execute_result(NB_LOAD_WARNING)\n    }\n\n  }\n\n  if (root._bokeh_is_loading === 0) {\n    console.debug(\"Bokeh: BokehJS loaded, going straight to plotting\");\n    run_inline_js();\n  } else {\n    load_libs(css_urls, js_urls, function() {\n      console.debug(\"Bokeh: BokehJS plotting callback run at\", now());\n      run_inline_js();\n    });\n  }\n}(window));"
          },
          "metadata": {}
        },
        {
          "output_type": "display_data",
          "data": {
            "text/html": [
              "\n",
              "\n",
              "\n",
              "\n",
              "\n",
              "\n",
              "  <div class=\"bk-root\" id=\"9defb69e-b137-4eae-86a5-fc4871066857\" data-root-id=\"1462\"></div>\n"
            ]
          },
          "metadata": {}
        },
        {
          "output_type": "display_data",
          "data": {
            "application/javascript": [
              "(function(root) {\n",
              "  function embed_document(root) {\n",
              "    \n",
              "  var docs_json = {\"5c82d8e7-9009-48d5-9b47-fdde8668fe3b\":{\"defs\":[],\"roots\":{\"references\":[{\"attributes\":{\"center\":[{\"id\":\"1494\"}],\"min_border\":1,\"renderers\":[{\"id\":\"1488\"}],\"title\":{\"id\":\"1463\"},\"toolbar\":{\"id\":\"1479\"},\"width\":1000,\"x_range\":{\"id\":\"1465\"},\"x_scale\":{\"id\":\"1469\"},\"y_range\":{\"id\":\"1467\"},\"y_scale\":{\"id\":\"1471\"}},\"id\":\"1462\",\"subtype\":\"Figure\",\"type\":\"Plot\"},{\"attributes\":{},\"id\":\"1471\",\"type\":\"LinearScale\"},{\"attributes\":{\"items\":[{\"id\":\"1495\"}],\"location\":\"top_left\"},\"id\":\"1494\",\"type\":\"Legend\"},{\"attributes\":{},\"id\":\"1469\",\"type\":\"LinearScale\"},{\"attributes\":{\"text\":\"T-SNE visualization of topics\"},\"id\":\"1463\",\"type\":\"Title\"},{\"attributes\":{\"bottom_units\":\"screen\",\"fill_alpha\":0.5,\"fill_color\":\"lightgrey\",\"left_units\":\"screen\",\"level\":\"overlay\",\"line_alpha\":1.0,\"line_color\":\"black\",\"line_dash\":[4,4],\"line_width\":2,\"right_units\":\"screen\",\"syncable\":false,\"top_units\":\"screen\"},\"id\":\"1478\",\"type\":\"BoxAnnotation\"},{\"attributes\":{},\"id\":\"1492\",\"type\":\"UnionRenderers\"},{\"attributes\":{},\"id\":\"1467\",\"type\":\"DataRange1d\"},{\"attributes\":{\"active_multi\":null,\"tools\":[{\"id\":\"1473\"},{\"id\":\"1474\"},{\"id\":\"1475\"},{\"id\":\"1476\"},{\"id\":\"1477\"}]},\"id\":\"1479\",\"type\":\"Toolbar\"},{\"attributes\":{},\"id\":\"1465\",\"type\":\"DataRange1d\"},{\"attributes\":{\"overlay\":{\"id\":\"1478\"}},\"id\":\"1475\",\"type\":\"BoxZoomTool\"},{\"attributes\":{\"fill_alpha\":{\"value\":0.1},\"fill_color\":{\"field\":\"color\"},\"line_alpha\":{\"value\":0.1},\"line_color\":{\"field\":\"color\"},\"size\":{\"value\":10},\"x\":{\"field\":\"x\"},\"y\":{\"field\":\"y\"}},\"id\":\"1487\",\"type\":\"Scatter\"},{\"attributes\":{},\"id\":\"1473\",\"type\":\"PanTool\"},{\"attributes\":{\"source\":{\"id\":\"1461\"}},\"id\":\"1489\",\"type\":\"CDSView\"},{\"attributes\":{},\"id\":\"1474\",\"type\":\"WheelZoomTool\"},{\"attributes\":{},\"id\":\"1491\",\"type\":\"Selection\"},{\"attributes\":{},\"id\":\"1476\",\"type\":\"ResetTool\"},{\"attributes\":{\"data_source\":{\"id\":\"1461\"},\"glyph\":{\"id\":\"1486\"},\"hover_glyph\":null,\"muted_glyph\":null,\"nonselection_glyph\":{\"id\":\"1487\"},\"view\":{\"id\":\"1489\"}},\"id\":\"1488\",\"type\":\"GlyphRenderer\"},{\"attributes\":{\"label\":{\"field\":\"label\"},\"renderers\":[{\"id\":\"1488\"}]},\"id\":\"1495\",\"type\":\"LegendItem\"},{\"attributes\":{\"data\":{\"color\":[\"blue\",\"red\",\"blue\",\"red\",\"red\",\"yellow\",\"red\",\"yellow\",\"green\",\"blue\",\"green\",\"red\",\"yellow\",\"yellow\",\"green\",\"blue\",\"red\",\"red\",\"green\",\"blue\",\"red\",\"green\",\"green\",\"blue\",\"yellow\",\"yellow\",\"green\",\"red\",\"green\",\"green\",\"blue\",\"red\",\"red\",\"yellow\",\"blue\",\"yellow\",\"blue\",\"red\",\"yellow\",\"blue\",\"red\",\"red\",\"yellow\",\"yellow\",\"yellow\",\"yellow\",\"yellow\",\"green\",\"blue\",\"green\",\"red\",\"red\",\"red\",\"red\",\"yellow\",\"yellow\",\"green\",\"yellow\",\"yellow\",\"yellow\",\"blue\",\"yellow\",\"yellow\",\"red\",\"green\",\"yellow\",\"blue\",\"blue\",\"red\",\"red\",\"red\",\"green\",\"green\",\"yellow\",\"blue\",\"yellow\",\"blue\",\"yellow\",\"blue\",\"red\",\"yellow\",\"red\",\"yellow\",\"red\",\"yellow\",\"yellow\",\"yellow\",\"blue\",\"red\",\"green\",\"yellow\",\"red\",\"red\",\"red\",\"yellow\",\"green\",\"blue\",\"blue\",\"green\",\"red\",\"green\",\"yellow\",\"green\",\"red\",\"green\",\"red\",\"red\",\"blue\",\"green\",\"red\",\"yellow\",\"yellow\",\"blue\",\"yellow\",\"blue\",\"blue\",\"red\",\"yellow\",\"yellow\",\"blue\",\"yellow\",\"blue\",\"green\",\"green\",\"green\",\"red\",\"green\",\"yellow\",\"red\",\"red\",\"green\",\"yellow\",\"yellow\",\"red\",\"red\",\"blue\",\"yellow\",\"green\",\"blue\",\"green\",\"yellow\",\"blue\",\"yellow\",\"red\",\"blue\",\"yellow\",\"red\",\"yellow\",\"red\",\"blue\",\"blue\",\"blue\",\"yellow\",\"red\",\"green\",\"yellow\",\"red\",\"red\",\"blue\",\"red\",\"red\",\"blue\",\"blue\",\"blue\",\"blue\",\"green\",\"green\",\"green\",\"red\",\"blue\",\"blue\",\"blue\",\"yellow\",\"red\",\"yellow\",\"yellow\",\"blue\",\"red\",\"yellow\",\"green\",\"blue\",\"blue\",\"red\",\"yellow\",\"red\",\"blue\",\"red\",\"green\",\"yellow\",\"blue\",\"red\",\"red\",\"red\",\"blue\",\"blue\",\"green\",\"yellow\",\"red\",\"blue\",\"blue\",\"red\",\"yellow\",\"green\",\"green\",\"red\",\"green\",\"red\",\"yellow\",\"green\",\"red\",\"yellow\",\"yellow\",\"red\",\"green\",\"yellow\",\"red\",\"red\",\"red\",\"blue\",\"red\",\"green\",\"red\",\"yellow\",\"green\",\"yellow\",\"blue\",\"red\",\"red\",\"yellow\",\"green\",\"red\",\"yellow\",\"green\",\"yellow\",\"blue\",\"green\",\"red\",\"blue\",\"red\",\"red\",\"blue\",\"blue\",\"red\",\"blue\",\"yellow\",\"yellow\",\"green\",\"yellow\",\"red\",\"blue\",\"red\",\"red\",\"blue\",\"yellow\",\"green\",\"blue\",\"red\",\"red\",\"yellow\",\"yellow\",\"blue\",\"blue\",\"yellow\",\"green\",\"red\",\"red\",\"red\",\"red\",\"green\",\"yellow\",\"green\",\"green\",\"blue\",\"green\",\"red\",\"red\",\"red\",\"red\",\"red\",\"yellow\",\"blue\",\"green\",\"yellow\",\"blue\",\"yellow\",\"blue\",\"green\",\"yellow\",\"blue\",\"yellow\",\"red\",\"green\",\"blue\",\"blue\",\"yellow\",\"blue\",\"green\",\"green\",\"yellow\",\"green\",\"yellow\",\"blue\",\"blue\",\"green\",\"blue\",\"red\",\"green\",\"yellow\",\"green\",\"green\",\"red\",\"blue\",\"red\",\"yellow\",\"yellow\",\"red\",\"green\",\"yellow\",\"yellow\",\"yellow\",\"blue\",\"yellow\",\"red\",\"blue\",\"blue\",\"green\",\"green\",\"red\",\"green\",\"green\",\"blue\",\"green\",\"red\",\"blue\",\"yellow\",\"blue\",\"green\",\"blue\",\"blue\",\"red\",\"green\",\"green\",\"red\",\"yellow\",\"blue\",\"green\",\"green\",\"yellow\",\"yellow\",\"red\",\"blue\",\"yellow\",\"yellow\",\"red\",\"blue\",\"green\",\"red\",\"blue\",\"red\",\"green\",\"yellow\",\"red\",\"yellow\",\"yellow\",\"green\",\"red\",\"yellow\",\"blue\",\"red\",\"blue\",\"green\",\"red\",\"red\",\"blue\",\"yellow\",\"red\",\"red\",\"yellow\",\"yellow\",\"blue\",\"red\",\"yellow\",\"red\",\"blue\",\"red\",\"green\",\"yellow\",\"red\",\"blue\",\"red\",\"green\",\"red\",\"green\",\"red\",\"green\",\"green\",\"yellow\",\"yellow\",\"red\",\"red\",\"red\",\"blue\",\"green\"],\"content\":[\"mechanism answer confidence multiplicative\",\"robustness learner svm equivalence\",\"stability vol training example parametric\",\"dirichlet mixture model concentration hyperparameters\",\"covariance matrix article maintaining letter\",\"covariance matrix rate convergence tail oracle\",\"leaf logarithmic pure left right\",\"segmentation closest plane vertex\",\"retrieval post recurrent query\",\"vertex round item permutation\",\"proposal box shared convolutional\",\"manifold embeddings embedding euclidean\",\"svd descent algorithm retrieval jain\",\"real valued utility cover feedback\",\"physical video physic mass\",\"item sample complexity pseudo price\",\"neuron trial population stationary\",\"manifold digit locally low dimensional\",\"color pixel fold end end\",\"ranking item stationary pairwise\",\"sgd step size gaussian process mnist\",\"recurrent list hidden unit hidden layer\",\"grid ground truth convolutional social\",\"regret learner expert reward\",\"law eigenvalue polynomial time orthogonal\",\"sampler boundary step size biased\",\"video resolution convolution recurrent\",\"moment concave hybrid mode\",\"embedding embeddings parametric auxiliary\",\"convolutional convolutional neural network convolutional neural spatial\",\"averaging auxiliary communication propagation\",\"identification dirichlet mixture model central\",\"svm white category ball\",\"soft subgradient accelerated relaxation\",\"regret retrieval confidence existence\",\"smoothing manifold principal green\",\"svm biased ranking conjugate\",\"trajectory policy reinforcement learning reinforcement\",\"orthogonal factorization svd pca\",\"regret greedy reward maximal\",\"segmentation extra semantic feature vector\",\"neuron posterior distribution stationary inherent\",\"accelerated gradient method critical convergence rate\",\"pca principal component sketch principal\",\"functional nonparametric expansion theoretic\",\"round singular value singular reconstruction\",\"non convex kdd supplement cpu\",\"proposal box overlap plane\",\"regret budget reward boundary\",\"fully connected hidden unit number parameter convolutional\",\"mcmc partitioning sampler smoothing\",\"shared segment brain functional\",\"cell biological root mark\",\"backward greedy reward trajectory\",\"moment mixture model gaussians kakade\",\"width away strongly convex oracle\",\"recurrent neural network recurrent neural interaction recurrent\",\"moment document dirichlet component analysis\",\"sensing retrieval low rank rank matrix\",\"marginals solver vertex iterates\",\"mixing stationary sup exp exp\",\"svd embedding embeddings pairwise\",\"alternating oracle completion rank matrix\",\"variational inference automatic mixture model dirichlet\",\"speech mechanism content recurrent\",\"regression model closed form thresholding exponential family\",\"learner pas online learning regret\",\"item ranking pairwise marginals\",\"diverse energy segmentation ordered\",\"vertex width cover polynomial time\",\"ordering undirected directed vol\",\"boltzmann hidden unit expansion epoch\",\"article convolutional corpus language processing\",\"discriminative brain proposed method labeled\",\"partitioning regret smoothness cell\",\"vertex community recovery regime\",\"momentum communication imagenet moving\",\"greedy item vertex disjoint\",\"oracle query weak false\",\"globally margin classification problem time complexity\",\"recovery thresholding solver dense\",\"embeddings embedding learner ensemble\",\"truncated retrieval kxk flow\",\"trajectory population gaussian process cause\",\"subspace inner product counterpart segmentation\",\"pca vol disjoint extracted\",\"leverage bach running time low rank\",\"regret policy round strongly convex\",\"neuron diag filter moment\",\"flow cell convolutional digit\",\"logistic regression solver regularization parameter radius\",\"boltzmann calculation probabilistic model normalization\",\"stat digit gaussian process modelling\",\"precision false segment figure left\",\"budget greedy cover allocation\",\"missing mcmc recurrent neural network recurrent neural\",\"mini accelerated strongly convex maxi\",\"mixing strongly convex markov chain mcmc\",\"hessian recurrent neural network recurrent neural recurrent\",\"predictor fold minimax proper\",\"resolution translation convolutional convolutional neural network\",\"manifold mixture model euclidean convexity\",\"embeddings embedding convolution error rate\",\"grid cpu depth recursive\",\"labeling recurrent convolutional pixel\",\"leaf assignment store conditioning\",\"mcmc markov chain flow exponential family\",\"resource regret allocation confidence\",\"shape learner unsupervised solver\",\"neuron recurrent balance feedback\",\"sketch gibbs moment latent variable model\",\"subspace gibbs utility sampler\",\"margin ranking document learner\",\"characterization embedding embeddings geometric\",\"sgd ranking computational cost estimation error\",\"vertex sample complexity reward round\",\"brain dot trial neuron\",\"bayes discriminative naive logistic regression\",\"round closest counterpart assigned\",\"walk list semantic item\",\"rate convergence precision frobenius estimation error\",\"fisher linear model query convergence rate\",\"pose recurrent face manifold\",\"softmax cpu hidden layer backpropagation\",\"neuron backpropagation vol ensemble\",\"zhu formed flow fold\",\"fully connected neuron bit imagenet\",\"compact characteristic vol rate convergence\",\"population dirichlet held variational inference\",\"integration integral posterior distribution model selection\",\"recurrent neural network recurrent neural recurrent model trained\",\"completion width estimation error sample complexity\",\"sun regularizer definite unconstrained\",\"proposal segmentation sampler dirichlet\",\"mcmc concave moment bayes\",\"hessian convergence rate second order step size\",\"nearest neighbor query sensitive\",\"video manifold temporal locally\",\"walk mixing ball box\",\"manifold pose query embedding\",\"hessian completion vol retrieval\",\"round regret feedback online learning\",\"leaf solver depth iii\",\"vertex perfect auxiliary vol\",\"item regret factorization cumulative\",\"journal optimization unconstrained stanford hessian\",\"permutation proc formula ordering\",\"greedy event strength confidence\",\"robustness transform transformed face\",\"regret reward treatment outcome\",\"ensemble game predictor leaf\",\"regret feedback minimax learner\",\"differential vertex nonparametric maximal\",\"proposal box greedy bounding\",\"hessian backpropagation variational inference auto\",\"singular singular value frobenius svd\",\"proposed method embeddings document embedding\",\"gaussian process error rate variational inference gaussians\",\"markov chain walk max max trajectory\",\"proposal wainwright pairwise confidence\",\"exponential family mcmc gibbs formula\",\"item regret reward combinatorial\",\"mixing markov chain confidence stationary\",\"policy formula trajectory sensitive\",\"concave stability strongly convex minimizer\",\"resolution model trained conditioning boltzmann\",\"segmentation semantic activation pixel\",\"hessian sgd non convex mnist\",\"environment shift strength covariance matrix\",\"perturbation policy budget robustness\",\"epoch linear regression fraction kxk\",\"environment hyper learner posterior distribution\",\"bit link compressed sensing\",\"invariant integration vol sample complexity\",\"estimation error mixed regularizer linear regression\",\"history stochastic optimization policy recursive\",\"locally convex function sgd lipschitz\",\"filtering coding population neuron\",\"pca relaxation moment principal component\",\"majority margin discriminative error rate\",\"stopping epoch inf iterates\",\"walk vertex geometric kxk\",\"gaussian process mcmc sampler gibbs\",\"leverage model selection statistical learning regularization parameter\",\"inference algorithm markov chain state space trajectory\",\"regularization parameter option grid support vector\",\"environment neuron spatial reward\",\"query document reader corpus\",\"projected relaxation population subgradient\",\"policy filter belief claim\",\"vertex directed mixed undirected\",\"leaf depth greedy augmented\",\"manifold video gaussian process missing\",\"reward expert trajectory segment\",\"round communication strongly convex convex function\",\"discriminative gibbs document dirichlet\",\"greedy decay bit zhou\",\"self normalization linear model characterization\",\"regret game learner round\",\"ranking proc social dot\",\"non linear proc closer link\",\"rank matrix pca low rank completion\",\"recurrent translation strength scalar\",\"margin discriminative missing subgradient\",\"positive definite transform compact definite\",\"projected coding reconstruction hidden unit\",\"identification ordering list independence\",\"completion rank matrix low rank lipschitz\",\"retrieval style embedding margin\",\"sampler gibbs mcmc mixture model\",\"item greedy partitioning vertex\",\"item rank matrix ranking low rank\",\"spatial frequency stationary width\",\"pixel neighborhood recurrent ensemble\",\"compressed low rank missing pca\",\"mixing gibbs sampler state space\",\"event link evolution social\",\"linear regression filtering moment history\",\"regret game history calculate\",\"characteristic analytic embeddings frequency\",\"proposal segmentation box pixel\",\"spectrum gaussian process frequency brain\",\"bit differential communication symposium\",\"spatial digit grid transformed\",\"critical radius inf tight\",\"svm margin vol structural\",\"neuron vol population trial\",\"digit semantic segmentation ground truth\",\"bit kxk sensing compressed\",\"fisher sgd conditioning normalization\",\"population ball mcmc manifold\",\"iterates scaled adapt hybrid\",\"document proportion variational inference dirichlet\",\"completion multiplication factorization rank matrix\",\"regret reward combinatorial feedback\",\"environment reward internal reinforcement learning\",\"smoothing walk compressed event\",\"regret min max oracle competitive\",\"policy budget leaf reward\",\"sampler hybrid mass biased\",\"query ensemble runtime coding\",\"smoothness svm locally ball\",\"pixel segmentation spatial theoretic\",\"regret perturbation penalty learner\",\"width sample complexity estimation error recovery\",\"embeddings vertex embedding mnist\",\"feature vector convolutional depth convolutional neural\",\"partitioning round segmentation greedy\",\"query answer supplement compact\",\"mixed support vector convergence rate grow\",\"formula vol dirichlet distinguish\",\"neuron principal thresholding eigenvalue\",\"step size mcmc invariant backward\",\"exponential family random field neighborhood undirected\",\"answer embedding translation content\",\"sgd epoch step size neighborhood\",\"integral policy trial trajectory\",\"approximating propagation gaussians moment\",\"concave relaxation cover tight\",\"pca subspace mini component analysis\",\"differential query data analysis overfitting\",\"price utility belief budget\",\"augmented iterates solver projected\",\"depth transform deep network mnist\",\"model selection gaussian process hyperparameters frequency\",\"sampler gibbs mixing state space\",\"manifold trajectory shift mcmc\",\"reward confidence trial dot\",\"sgd regularizer geometry invariant\",\"article sign predictor non zero\",\"softmax embedding answer recurrent\",\"frequency filter spatial conjugate\",\"regret learner base online learning\",\"hidden layer temporal recurrent belief\",\"cell electrical identification completion\",\"vol trial internal recovers\",\"spectrum physical resolution energy\",\"configuration software detect researcher\",\"cause independence identified directed\",\"latent variable model variable model rate convergence low dimensional\",\"price regret round game\",\"face neuron pose light\",\"low rank mode recovery rank matrix\",\"minimax regret round game\",\"differential running time sample size synthetic data\",\"sample complexity uci lipschitz nearest\",\"recurrent resolution proposal reinforcement learning\",\"error bound regularization parameter random field frobenius\",\"mixing markov chain sample size vol\",\"missing frobenius alternating ground truth\",\"proposal recurrent recurrent neural network recurrent neural\",\"variational inference gibbs mnist integration\",\"epoch iterate step size sgd\",\"query web embedding answer\",\"frequency recovery resolution minimal\",\"sgd precision non convex bit\",\"dot discriminative run time page ieee\",\"softmax mechanism input output combinatorial\",\"recovery store kxk subspace\",\"gibbs factorization corpus non negative\",\"vertex solver hessian minimizer\",\"game item precision ranking\",\"shared agarwal convergence rate mainly\",\"trajectory locally non linear reconstruction\",\"query epoch hyper parameter regret\",\"soft state space plan reinforcement learning\",\"corpus web ensemble google\",\"oracle recovery low rank covariance matrix\",\"convolutional filter hidden unit mnist\",\"dirichlet corpus document mcmc\",\"regret depth optimization method iii\",\"reward policy reinforcement learning reinforcement\",\"relaxation semantic relaxed translation\",\"vertex assignment singular running time\",\"accelerated trajectory interpretation differential\",\"gaussian process learner ranking covariance matrix\",\"game recurrent encoding video\",\"recovery gaussian noise recovering fourth\",\"round utility cover greedy\",\"community overlapping walk vertex\",\"state space reward base reinforcement learning\",\"width sign ball sup\",\"sampler mcmc stationary supplement\",\"regret self averaging perturbation\",\"vertex game flow labeled\",\"policy trajectory environment reward\",\"answer color vol embeddings\",\"auto ensemble hyperparameters configuration\",\"boltzmann euclidean sgd mnist\",\"modelling speech recurrent recurrent neural network\",\"regret game utility item\",\"segmentation pixel brain fully connected\",\"momentum boundary trajectory tuned\",\"neighbor link dense regime\",\"differential width vertex mechanism\",\"price outcome subspace belief\",\"hidden unit width hidden layer dirichlet\",\"hessian convergence rate eigenvalue sgd\",\"game regret price correlated\",\"universal hilbert space hilbert treatment\",\"recurrent document labeled error rate\",\"diag multiplication false sharing\",\"width gibbs mixing polynomial time\",\"subspace mode singular gaussian noise\",\"policy robustness environment trajectory\",\"regularizer backward propagation mnist\",\"trajectory policy feedback physical\",\"unconstrained diverse cardinality document\",\"universal vol accelerated gradient method\",\"ordering correctly examine greedy\",\"regret learner exploration game\",\"singular low rank pas singular value\",\"time step polynomial time sample complexity social\",\"directed undirected vol vertex\",\"oracle query concave convex function\",\"library gibbs document boundary\",\"gibbs embeddings dirichlet scalability\",\"overfitting feedback self policy\",\"formula equivalence assignment cell\",\"policy trajectory primary directed\",\"bayes strictly characterization link\",\"exp exp uai supplement log exp\",\"marginals twice feature vector stanford\",\"eigenvalue recovery grow community\",\"thought semantic translation corpus\",\"loop directed stopping compressed\",\"principal pca principal component color\",\"utility population averaging bayes\",\"regret gaussian process mcmc greedy\",\"mixing regret reward stationary\",\"brain logistic regression hidden layer reconstruction\",\"gaussian process random field spatial event\",\"tail detect post random field\",\"expert regret sup oracle\",\"strongly convex accelerated convergence rate rate convergence\",\"realization variational inference pseudo gaussian process\",\"conjugate variational inference diag geometry\",\"oracle smoothing enjoys sec\",\"regularizer precise non linear sign\",\"walk vertex neighborhood neighbor\",\"sgd mcmc hyper parameter precision\",\"completion sample complexity item recovery\",\"gibbs correlated auxiliary dirichlet\",\"query game utility stanford\",\"event confidence marginals margin\",\"segmentation pixel labeling neuron\",\"item event temporal history\",\"white gaussian process filter convolution\",\"price mechanism query exponential family\",\"formula proc canonical equality\",\"reinforcement learning reinforcement backpropagation surrogate\",\"surrogate policy reward considerably\",\"supervised learning mnist cost function unsupervised\",\"margin assignment embedding arg max\",\"variational inference factorization gaussians augmented\",\"recursive boundary segmentation dense\",\"augmented strongly convex solver regularizer\",\"sample complexity vol concave independence\",\"vol soft structural functional\",\"proposal belief exponential family propagation\",\"energy population modelling summary\",\"logistic regression radius ball confidence\",\"variational inference epoch activation trick\"],\"label\":[\"Statistics\",\"Deep Learning\",\"Statistics\",\"Deep Learning\",\"Deep Learning\",\"Online Learning\",\"Deep Learning\",\"Online Learning\",\"Numerical Analysis\",\"Statistics\",\"Numerical Analysis\",\"Deep Learning\",\"Online Learning\",\"Online Learning\",\"Numerical Analysis\",\"Statistics\",\"Deep Learning\",\"Deep Learning\",\"Numerical Analysis\",\"Statistics\",\"Deep Learning\",\"Numerical Analysis\",\"Numerical Analysis\",\"Statistics\",\"Online Learning\",\"Online Learning\",\"Numerical Analysis\",\"Deep Learning\",\"Numerical Analysis\",\"Numerical Analysis\",\"Statistics\",\"Deep Learning\",\"Deep Learning\",\"Online Learning\",\"Statistics\",\"Online Learning\",\"Statistics\",\"Deep Learning\",\"Online Learning\",\"Statistics\",\"Deep Learning\",\"Deep Learning\",\"Online Learning\",\"Online Learning\",\"Online Learning\",\"Online Learning\",\"Online Learning\",\"Numerical Analysis\",\"Statistics\",\"Numerical Analysis\",\"Deep Learning\",\"Deep Learning\",\"Deep Learning\",\"Deep Learning\",\"Online Learning\",\"Online Learning\",\"Numerical Analysis\",\"Online Learning\",\"Online Learning\",\"Online Learning\",\"Statistics\",\"Online Learning\",\"Online Learning\",\"Deep Learning\",\"Numerical Analysis\",\"Online Learning\",\"Statistics\",\"Statistics\",\"Deep Learning\",\"Deep Learning\",\"Deep Learning\",\"Numerical Analysis\",\"Numerical Analysis\",\"Online Learning\",\"Statistics\",\"Online Learning\",\"Statistics\",\"Online Learning\",\"Statistics\",\"Deep Learning\",\"Online Learning\",\"Deep Learning\",\"Online Learning\",\"Deep Learning\",\"Online Learning\",\"Online Learning\",\"Online Learning\",\"Statistics\",\"Deep Learning\",\"Numerical Analysis\",\"Online Learning\",\"Deep Learning\",\"Deep Learning\",\"Deep Learning\",\"Online Learning\",\"Numerical Analysis\",\"Statistics\",\"Statistics\",\"Numerical Analysis\",\"Deep Learning\",\"Numerical Analysis\",\"Online Learning\",\"Numerical Analysis\",\"Deep Learning\",\"Numerical Analysis\",\"Deep Learning\",\"Deep Learning\",\"Statistics\",\"Numerical Analysis\",\"Deep Learning\",\"Online Learning\",\"Online Learning\",\"Statistics\",\"Online Learning\",\"Statistics\",\"Statistics\",\"Deep Learning\",\"Online Learning\",\"Online Learning\",\"Statistics\",\"Online Learning\",\"Statistics\",\"Numerical Analysis\",\"Numerical Analysis\",\"Numerical Analysis\",\"Deep Learning\",\"Numerical Analysis\",\"Online Learning\",\"Deep Learning\",\"Deep Learning\",\"Numerical Analysis\",\"Online Learning\",\"Online Learning\",\"Deep Learning\",\"Deep Learning\",\"Statistics\",\"Online Learning\",\"Numerical Analysis\",\"Statistics\",\"Numerical Analysis\",\"Online Learning\",\"Statistics\",\"Online Learning\",\"Deep Learning\",\"Statistics\",\"Online Learning\",\"Deep Learning\",\"Online Learning\",\"Deep Learning\",\"Statistics\",\"Statistics\",\"Statistics\",\"Online Learning\",\"Deep Learning\",\"Numerical Analysis\",\"Online Learning\",\"Deep Learning\",\"Deep Learning\",\"Statistics\",\"Deep Learning\",\"Deep Learning\",\"Statistics\",\"Statistics\",\"Statistics\",\"Statistics\",\"Numerical Analysis\",\"Numerical Analysis\",\"Numerical Analysis\",\"Deep Learning\",\"Statistics\",\"Statistics\",\"Statistics\",\"Online Learning\",\"Deep Learning\",\"Online Learning\",\"Online Learning\",\"Statistics\",\"Deep Learning\",\"Online Learning\",\"Numerical Analysis\",\"Statistics\",\"Statistics\",\"Deep Learning\",\"Online Learning\",\"Deep Learning\",\"Statistics\",\"Deep Learning\",\"Numerical Analysis\",\"Online Learning\",\"Statistics\",\"Deep Learning\",\"Deep Learning\",\"Deep Learning\",\"Statistics\",\"Statistics\",\"Numerical Analysis\",\"Online Learning\",\"Deep Learning\",\"Statistics\",\"Statistics\",\"Deep Learning\",\"Online Learning\",\"Numerical Analysis\",\"Numerical Analysis\",\"Deep Learning\",\"Numerical Analysis\",\"Deep Learning\",\"Online Learning\",\"Numerical Analysis\",\"Deep Learning\",\"Online Learning\",\"Online Learning\",\"Deep Learning\",\"Numerical Analysis\",\"Online Learning\",\"Deep Learning\",\"Deep Learning\",\"Deep Learning\",\"Statistics\",\"Deep Learning\",\"Numerical Analysis\",\"Deep Learning\",\"Online Learning\",\"Numerical Analysis\",\"Online Learning\",\"Statistics\",\"Deep Learning\",\"Deep Learning\",\"Online Learning\",\"Numerical Analysis\",\"Deep Learning\",\"Online Learning\",\"Numerical Analysis\",\"Online Learning\",\"Statistics\",\"Numerical Analysis\",\"Deep Learning\",\"Statistics\",\"Deep Learning\",\"Deep Learning\",\"Statistics\",\"Statistics\",\"Deep Learning\",\"Statistics\",\"Online Learning\",\"Online Learning\",\"Numerical Analysis\",\"Online Learning\",\"Deep Learning\",\"Statistics\",\"Deep Learning\",\"Deep Learning\",\"Statistics\",\"Online Learning\",\"Numerical Analysis\",\"Statistics\",\"Deep Learning\",\"Deep Learning\",\"Online Learning\",\"Online Learning\",\"Statistics\",\"Statistics\",\"Online Learning\",\"Numerical Analysis\",\"Deep Learning\",\"Deep Learning\",\"Deep Learning\",\"Deep Learning\",\"Numerical Analysis\",\"Online Learning\",\"Numerical Analysis\",\"Numerical Analysis\",\"Statistics\",\"Numerical Analysis\",\"Deep Learning\",\"Deep Learning\",\"Deep Learning\",\"Deep Learning\",\"Deep Learning\",\"Online Learning\",\"Statistics\",\"Numerical Analysis\",\"Online Learning\",\"Statistics\",\"Online Learning\",\"Statistics\",\"Numerical Analysis\",\"Online Learning\",\"Statistics\",\"Online Learning\",\"Deep Learning\",\"Numerical Analysis\",\"Statistics\",\"Statistics\",\"Online Learning\",\"Statistics\",\"Numerical Analysis\",\"Numerical Analysis\",\"Online Learning\",\"Numerical Analysis\",\"Online Learning\",\"Statistics\",\"Statistics\",\"Numerical Analysis\",\"Statistics\",\"Deep Learning\",\"Numerical Analysis\",\"Online Learning\",\"Numerical Analysis\",\"Numerical Analysis\",\"Deep Learning\",\"Statistics\",\"Deep Learning\",\"Online Learning\",\"Online Learning\",\"Deep Learning\",\"Numerical Analysis\",\"Online Learning\",\"Online Learning\",\"Online Learning\",\"Statistics\",\"Online Learning\",\"Deep Learning\",\"Statistics\",\"Statistics\",\"Numerical Analysis\",\"Numerical Analysis\",\"Deep Learning\",\"Numerical Analysis\",\"Numerical Analysis\",\"Statistics\",\"Numerical Analysis\",\"Deep Learning\",\"Statistics\",\"Online Learning\",\"Statistics\",\"Numerical Analysis\",\"Statistics\",\"Statistics\",\"Deep Learning\",\"Numerical Analysis\",\"Numerical Analysis\",\"Deep Learning\",\"Online Learning\",\"Statistics\",\"Numerical Analysis\",\"Numerical Analysis\",\"Online Learning\",\"Online Learning\",\"Deep Learning\",\"Statistics\",\"Online Learning\",\"Online Learning\",\"Deep Learning\",\"Statistics\",\"Numerical Analysis\",\"Deep Learning\",\"Statistics\",\"Deep Learning\",\"Numerical Analysis\",\"Online Learning\",\"Deep Learning\",\"Online Learning\",\"Online Learning\",\"Numerical Analysis\",\"Deep Learning\",\"Online Learning\",\"Statistics\",\"Deep Learning\",\"Statistics\",\"Numerical Analysis\",\"Deep Learning\",\"Deep Learning\",\"Statistics\",\"Online Learning\",\"Deep Learning\",\"Deep Learning\",\"Online Learning\",\"Online Learning\",\"Statistics\",\"Deep Learning\",\"Online Learning\",\"Deep Learning\",\"Statistics\",\"Deep Learning\",\"Numerical Analysis\",\"Online Learning\",\"Deep Learning\",\"Statistics\",\"Deep Learning\",\"Numerical Analysis\",\"Deep Learning\",\"Numerical Analysis\",\"Deep Learning\",\"Numerical Analysis\",\"Numerical Analysis\",\"Online Learning\",\"Online Learning\",\"Deep Learning\",\"Deep Learning\",\"Deep Learning\",\"Statistics\",\"Numerical Analysis\"],\"title\":[\"Double or Nothing: Multiplicative Incentive Mechanisms for Crowdsourcing\",\"Learning with Symmetric Label Noise: The Importance of Being Unhinged\",\"Algorithmic Stability and Uniform Generalization\",\"Adaptive Low-Complexity Sequential Inference for Dirichlet Process Mixture Models\",\"Covariance-Controlled Adaptive Langevin Thermostat for Large-Scale Bayesian Sampling\",\"Robust Portfolio Optimization\",\"Logarithmic Time Online Multiclass prediction\",\"Planar Ultrametrics for Image Segmentation\",\"Expressing an Image Stream with a Sequence of Natural Sentences\",\"Parallel Correlation Clustering on Big Graphs\",\"Faster R-CNN: Towards Real-Time Object Detection with Region Proposal Networks\",\"Space-Time Local Embeddings\",\"A Convergent Gradient Descent Algorithm for Rank Minimization and Semidefinite Programming from Random Linear Measurements\",\"Smooth Interactive Submodular Set Cover\",\"Galileo: Perceiving Physical Object Properties by Integrating a Physics Engine with Deep Learning\",\"On the Pseudo-Dimension of Nearly Optimal Auctions\",\"Unlocking neural population non-stationarities using hierarchical dynamics models\",\"Bayesian Manifold Learning: The Locally Linear Latent Variable Model (LL-LVM)\",\"Color Constancy by Learning to Predict Chromaticity from Luminance\",\"Fast and Accurate Inference of Plackett\\u2013Luce Models\",\"Probabilistic Line Searches for Stochastic Optimization\",\"Inferring Algorithmic Patterns with Stack-Augmented Recurrent Nets\",\"Where are they looking?\",\"The Pareto Regret Frontier for Bandits\",\"On the Limitation of Spectral Methods: From the Gaussian Hidden Clique Problem to Rank-One Perturbations of Gaussian Tensors\",\"Measuring Sample Quality with Stein's Method\",\"Bidirectional Recurrent Convolutional Networks for Multi-Frame Super-Resolution\",\"Bounding errors of Expectation-Propagation\",\"A fast, universal algorithm to learn parametric nonlinear embeddings\",\"Texture Synthesis Using Convolutional Neural Networks\",\"Extending Gossip Algorithms to Distributed Estimation of U-statistics\",\"Streaming, Distributed Variational Inference for Bayesian Nonparametrics\",\"Learning visual biases from human imagination\",\"Smooth and Strong: MAP Inference with Linear Convergence\",\"Copeland Dueling Bandits\",\"Optimal Ridge Detection using Coverage Risk\",\"Top-k Multiclass SVM\",\"Policy Evaluation Using the \\u03a9-Return\",\"Orthogonal NMF through Subspace Exploration\",\"Stochastic Online Greedy Learning with Semi-bandit Feedbacks\",\"Deeply Learning the Messages in Message Passing Inference\",\"Synaptic Sampling: A Bayesian Approach to Neural Network Plasticity and Rewiring\",\"Accelerated Proximal Gradient Methods for Nonconvex Programming\",\"Approximating Sparse PCA from Incomplete Data\",\"Nonparametric von Mises Estimators for Entropies, Divergences and Mutual Informations\",\"Column Selection via Adaptive Sampling\",\"HONOR: Hybrid Optimization for NOn-convex Regularized problems\",\"3D Object Proposals for Accurate Object Class Detection\",\"Algorithms with Logarithmic or Sublinear Regret for  Constrained Contextual Bandits\",\"Tensorizing Neural Networks\",\"Parallelizing MCMC with Random Partition Trees\",\"A Reduced-Dimension fMRI Shared Response Model\",\"Spectral Learning of Large Structured HMMs for Comparative Epigenomics\",\"Individual Planning in Infinite-Horizon Multiagent Settings: Inference, Structure and Scalability\",\"Estimating Mixture Models via Mixtures of Polynomials\",\"On the Global Linear Convergence of Frank-Wolfe Optimization Variants\",\"Deep Knowledge Tracing\",\"Rethinking LDA: Moment Matching for Discrete ICA\",\"Efficient Compressive Phase Retrieval with Constrained Sensing Vectors\",\"Barrier Frank-Wolfe for Marginal Inference\",\"Learning Theory and Algorithms for Forecasting Non-stationary Time Series\",\"Compressive spectral embedding: sidestepping the SVD\",\"A Nonconvex Optimization Framework for Low Rank Matrix Estimation\",\"Automatic Variational Inference in Stan\",\"Attention-Based Models for Speech Recognition\",\"Closed-form Estimators for High-dimensional Generalized Linear Models\",\"Online F-Measure Optimization\",\"Online Rank Elicitation for Plackett-Luce: A Dueling Bandits Approach\",\"M-Best-Diverse Labelings for Submodular Energies and Beyond\",\"Tractable Bayesian Network Structure Learning with Bounded Vertex Cover Number\",\"Learning Large-Scale Poisson DAG Models based on OverDispersion Scoring\",\"Training Restricted Boltzmann Machine via the \\ufffcThouless-Anderson-Palmer free energy\",\"Character-level Convolutional Networks for Text Classification\",\"Robust Feature-Sample Linear Discriminant Analysis for Brain Disorders Diagnosis\",\"Black-box optimization of noisy functions with unknown smoothness\",\"Recovering Communities in the General Stochastic Block Model Without Knowing the Parameters\",\"Deep learning with Elastic Averaging SGD\",\"Monotone k-Submodular Function Maximization with Size Constraints\",\"Active Learning from Weak and Strong Labelers\",\"On the Optimality of Classifier Chain for Multi-label Classification\",\"Robust Regression via Hard Thresholding\",\"Sparse Local Embeddings for Extreme Multi-label Classification\",\"Solving Random Quadratic Systems of Equations Is Nearly as Easy as Solving Linear Systems\",\"A Framework for Individualizing Predictions of Disease Trajectories by Exploiting Multi-Resolution Structure\",\"Subspace Clustering with Irrelevant Features via Robust Dantzig Selector\",\"Sparse PCA via Bipartite Matchings\",\"Fast Randomized Kernel Ridge Regression with Statistical Guarantees\",\"Online Learning for Adversaries with Memory: Price of Past Mistakes\",\"Convolutional spike-triggered covariance analysis for neural subunit models\",\"Convolutional LSTM Network: A Machine Learning Approach for Precipitation Nowcasting\",\"GAP Safe screening rules for sparse multi-task and multi-class models\",\"Empirical Localization of Homogeneous Divergences on Discrete Sample Spaces\",\"Statistical Model Criticism using Kernel Two Sample Tests\",\"Precision-Recall-Gain Curves: PR Analysis Done Right\",\"A Generalization of Submodular Cover via the Diminishing Return Property on the Integer Lattice\",\"Bidirectional Recurrent Neural Networks as Generative Models\",\"Quartz: Randomized Dual Coordinate Ascent with Arbitrary Sampling\",\"Maximum Likelihood Learning With Arbitrary Treewidth via Fast-Mixing Parameter Sets\",\"Hessian-free Optimization for Learning Deep Multidimensional Recurrent Neural Networks\",\"Large-scale probabilistic predictors with and without guarantees of validity\",\"Shepard Convolutional Neural Networks\",\"Matrix Manifold Optimization for Gaussian Mixtures\",\"Semi-supervised Convolutional Neural Networks for Text Categorization via Region Embedding\",\"Parallel Recursive Best-First AND/OR Search for Exact MAP Inference in Graphical Models\",\"Convolutional Neural Networks with Intra-Layer Recurrent Connections for Scene Labeling\",\"Bounding the Cost of Search-Based Lifted Inference\",\"Gradient-free Hamiltonian Monte Carlo with Efficient Kernel Exponential Families\",\"Linear Multi-Resource Allocation with Semi-Bandit Feedback\",\"Unsupervised Learning by Program Synthesis\",\"Enforcing balance allows local supervised learning in spiking recurrent networks\",\"Fast and Guaranteed Tensor Decomposition via Sketching\",\"Differentially private subspace clustering\",\"Predtron: A Family of Online Algorithms for General Prediction Problems\",\"Weighted Theta Functions and Embeddings with Applications to Max-Cut, Clustering and Summarization\",\"SGD Algorithms based on Incomplete U-statistics: Large-Scale Minimization of Empirical Risk\",\"On Top-k Selection in Multi-Armed Bandits and Hidden Bipartite Graphs\",\"The Brain Uses Reliability of Stimulus Information when Making Perceptual Decisions\",\"Fast Classification Rates for High-dimensional Gaussian Generative Models\",\"Fast Distributed k-Center Clustering with Outliers on Massive Data\",\"Human Memory Search as Initial-Visit Emitting Random Walk\",\"Non-convex Statistical Optimization for Sparse Tensor Graphical Model\",\"Convergence Rates of Active Learning for Maximum Likelihood Estimation\",\"Weakly-supervised Disentangling with Recurrent Transformations for 3D View Synthesis\",\"Efficient Exact Gradient Update for training Deep Networks with Very Large Sparse Targets\",\"Backpropagation for Energy-Efficient Neuromorphic Computing\",\"Alternating Minimization for Regression Problems with Vector-valued Outputs\",\"Learning both Weights and Connections for Efficient Neural Network\",\"Optimal Rates for Random Fourier Features\",\"The Population Posterior and Bayesian Modeling on Streams\",\"Frank-Wolfe Bayesian Quadrature: Probabilistic Integration with Theoretical Guarantees\",\"Scheduled Sampling for Sequence Prediction with Recurrent Neural Networks\",\"Unified View of Matrix Completion under General Structural Constraints\",\"Efficient Output Kernel Learning for Multiple Tasks\",\"Scalable Adaptation of State Complexity for Nonparametric Hidden Markov Models\",\"Variational Consensus Monte Carlo\",\"Newton-Stein Method: A Second Order Method for GLMs via Stein's Lemma\",\"Practical and Optimal LSH for Angular Distance\",\"Learning to Linearize Under Uncertainty\",\"Finite-Time Analysis of Projected Langevin Monte Carlo\",\"Deep Visual Analogy-Making\",\"Matrix Completion from Fewer Entries: Spectral Detectability and Rank Estimation\",\"Online Learning with Adversarial Delays\",\"Multi-Layer Feature Reduction for Tree Structured Group Lasso via Hierarchical Projection\",\"Minimum Weight Perfect Matching via Blossom Belief Propagation\",\"Efficient Thompson Sampling for Online \\ufffcMatrix-Factorization Recommendation\",\"Improved Iteration Complexity Bounds of Cyclic Block Coordinate Descent for Convex Problems\",\"Lifted Symmetry Detection and Breaking for MAP Inference\",\"Evaluating the statistical significance of biclusters\",\"Discriminative Robust Transformation Learning\",\"Bandits with Unobserved Confounders: A Causal Approach\",\"Scalable Semi-Supervised Aggregation of Classifiers\",\"Online Learning with Gaussian Payoffs and Side Observations\",\"Private Graphon Estimation for Sparse Graphs\",\"SubmodBoxes: Near-Optimal Search for a Set of Diverse Object Proposals\",\"Fast Second Order Stochastic Backpropagation for Variational Inference\",\"Randomized Block Krylov Methods for Stronger and Faster Approximate Singular Value Decomposition\",\"Cross-Domain Matching for Bag-of-Words Data via Kernel Embeddings of Latent Distributions\",\"Scalable Inference for Gaussian Process Models with Black-Box Likelihoods\",\"Fast Bidirectional Probability Estimation in Markov Models\",\"Probabilistic Variational Bounds for Graphical Models\",\"Linear Response Methods for Accurate Covariance Estimates from Mean Field Variational Bayes\",\"Combinatorial Cascading Bandits\",\"Mixing Time Estimation in Reversible Markov Chains from a Single Sample Path\",\"Policy Gradient for Coherent Risk Measures\",\"Fast Rates for Exp-concave Empirical Risk Minimization\",\"Deep Generative Image Models using a \\ufffcLaplacian Pyramid of Adversarial Networks\",\"Decoupled Deep Neural Network for Semi-supervised Semantic Segmentation\",\"Equilibrated adaptive learning rates for non-convex optimization\",\"BACKSHIFT: Learning causal cyclic graphs from unknown shift interventions\",\"Risk-Sensitive and Robust Decision-Making: a CVaR Optimization Approach\",\"Asynchronous stochastic convex optimization: the noise is in the noise and SGD don't care\",\"Lifelong Learning with Non-i.i.d. Tasks\",\"Optimal Linear Estimation under Unknown Nonlinear Transform\",\"Learning with Group Invariant Features: A Kernel Perspective.\",\"Regularized EM Algorithms: A Unified Framework and Statistical Guarantees\",\"Adaptive Stochastic Optimization: From Sets to Paths\",\"Beyond Convexity: Stochastic Quasi-Convex Optimization\",\"A Tractable Approximation to Optimal Point Process Filtering: Application to Neural Encoding\",\"Sum-of-Squares Lower Bounds for Sparse PCA\",\"Max-Margin Majority Voting for Learning from Crowds\",\"Learning with Incremental Iterative Regularization\",\"Halting in Random Walk Kernels\",\"MCMC for Variationally Sparse Gaussian Processes\",\"Less is More: Nystr\\u00f6m Computational Regularization\",\"Infinite Factorial Dynamical Model\",\"Regularization Path of Cross-Validation Error Lower Bounds\",\"Attractor Network Dynamics Enable Preplay and Rapid Path Planning in Maze\\u2013like Environments\",\"Teaching Machines to Read and Comprehend\",\"Principal Differences Analysis: Interpretable Characterization of Differences between Distributions\",\"When are Kalman-Filter Restless Bandits Indexable?\",\"Segregated Graphs and Marginals of Chain Graph Models\",\"Efficient Non-greedy Optimization of Decision Trees\",\"Probabilistic Curve Learning: Coulomb Repulsion and the Electrostatic Gaussian Process\",\"Inverse Reinforcement Learning with Locally Consistent Reward Functions\",\"Communication Complexity of Distributed Convex Learning and Optimization\",\"End-to-end Learning of LDA by Mirror-Descent Back Propagation over a Deep Architecture\",\"Subset Selection by Pareto Optimization\",\"On the Accuracy of Self-Normalized Log-Linear Models\",\"Regret Lower Bound and Optimal Algorithm in Finite Stochastic Partial Monitoring\",\"Is Approval Voting Optimal Given Approval Votes?\",\"Regressive Virtual Metric Learning\",\"Analysis of Robust PCA via Local Incoherence\",\"Learning to Transduce with Unbounded Memory\",\"Max-Margin Deep Generative Models\",\"Spherical Random Features for Polynomial Kernels\",\"Rectified Factor Networks\",\"Learning Bayesian Networks with Thousands of Variables\",\"Matrix Completion Under Monotonic Single Index Models\",\"Visalogy: Answering Visual Analogy Questions\",\"Tree-Guided MCMC Inference for Normalized Random Measure Mixture Models\",\"Streaming Min-max Hypergraph Partitioning\",\"Collaboratively Learning Preferences from Ordinal Data\",\"Biologically Inspired Dynamic Textures for Probing Motion Perception\",\"Generative Image Modeling Using Spatial LSTMs\",\"Robust PCA with compressed data\",\"Sampling from Probabilistic Submodular Models\",\"COEVOLVE: A Joint Point Process Model for Information Diffusion and Network Co-evolution\",\"Supervised Learning for Dynamical System Learning\",\"Regret-Based Pruning in Extensive-Form Games\",\"Fast Two-Sample Testing with Analytic Representations of Probability Measures\",\"Learning to Segment Object Candidates\",\"GP Kernels for Cross-Spectrum Analysis\",\"Secure Multi-party Differential Privacy\",\"Spatial Transformer Networks\",\"Anytime Influence Bounds and the Explosive Behavior of Continuous-Time Diffusion Networks\",\"Multi-class SVMs: From Tighter Data-Dependent Generalization Bounds to Novel Algorithms\",\"High-dimensional neural spike train analysis with generalized count linear dynamical systems\",\"Learning with a Wasserstein Loss\",\"b-bit Marginal Regression\",\"Natural Neural Networks\",\"Optimization Monte Carlo: Efficient and Embarrassingly Parallel Likelihood-Free Inference\",\"Adaptive Primal-Dual Splitting Methods for Statistical Learning and Image Processing\",\"On some provably correct cases of variational inference for topic models\",\"Collaborative Filtering with Graph Information: Consistency and Scalable Methods\",\"Combinatorial Bandits Revisited\",\"Variational Information Maximisation for Intrinsically Motivated Reinforcement Learning\",\"A Structural Smoothing Framework For Robust Graph Comparison\",\"Competitive Distribution Estimation: Why is Good-Turing Good\",\"Efficient Learning by Directed Acyclic Graph For Resource Constrained Prediction\",\"A hybrid sampler for Poisson-Kingman mixture models\",\"An Active Learning Framework using Sparse-Graph Codes for Sparse Polynomials and Graph Sketching\",\"Local Smoothness in Variance Reduced Optimization\",\"Saliency, Scale and Information: Towards a Unifying Theory\",\"Fighting Bandits with a New Kind of Smoothness\",\"Beyond Sub-Gaussian Measurements: High-Dimensional Structured Estimation with Sub-Exponential Designs\",\"Spectral Norm Regularization of Orthonormal Representations for Graph Transduction\",\"Convolutional Networks on Graphs for Learning Molecular Fingerprints\",\"Mixed Robust/Average Submodular Partitioning: Fast Algorithms, Guarantees, and Applications\",\"Tractable Learning for Complex Probability Queries\",\"StopWasting My Gradients: Practical SVRG\",\"Mind the Gap: A Generative Approach to Interpretable Feature Selection and Extraction\",\"A Normative Theory of Adaptive Dimensionality Reduction in Neural Networks\",\"On the Convergence of Stochastic Gradient MCMC Algorithms with High-Order Integrators\",\"Learning structured densities via infinite dimensional exponential families\",\"Are You Talking to a Machine? Dataset and Methods for Multilingual Image Question\",\"Variance Reduced Stochastic Gradient Descent with Neighbors\",\"Sample Efficient Path Integral Control under Uncertainty\",\"Stochastic Expectation Propagation\",\"Exactness of Approximate MAP Inference in Continuous MRFs\",\"Scale Up Nonlinear Component Analysis with Doubly Stochastic Gradients\",\"Generalization in Adaptive Data Analysis and Holdout Reuse\",\"Market Scoring Rules Act As Opinion Pools For Risk-Averse Agents\",\"Sparse Linear Programming via Primal and Dual Augmented Coordinate Descent\",\"Training Very Deep Networks\",\"Bayesian Active Model Selection with an Application to Automated Audiometry\",\"Particle Gibbs for Infinite Hidden Markov Models\",\"Learning spatiotemporal trajectories from manifold-valued longitudinal data\",\"A Bayesian Framework for Modeling Confidence in Perceptual Decision Making\",\"Path-SGD: Path-Normalized Optimization in Deep Neural Networks\",\"On the consistency theory of high dimensional variable screening\",\"End-To-End Memory Networks\",\"Spectral Representations for Convolutional Neural Networks\",\"Online Gradient Boosting\",\"Deep Temporal Sigmoid Belief Networks for Sequence Modeling\",\"Recognizing retinal ganglion cells in the dark\",\"A Theory of Decision Making Under Dynamic Context\",\"A Gaussian Process Model of Quasar Spectral Energy Distributions\",\"Hidden Technical Debt in Machine Learning Systems\",\"Local Causal Discovery of Direct Causes and Effects\",\"High Dimensional EM Algorithm: Statistical Optimization and Asymptotic Normality\",\"Revenue Optimization against Strategic Buyers\",\"Deep Convolutional Inverse Graphics Network\",\"Sparse and Low-Rank Tensor Decomposition\",\"Minimax Time Series Prediction\",\"Differentially Private Learning of Structured Discrete Distributions\",\"Sample Complexity of Learning Mahalanobis Distance Metrics\",\"Learning Wake-Sleep Recurrent Attention Models\",\"Robust Gaussian Graphical Modeling with the Trimmed Graphical Lasso\",\"Testing Closeness With Unequal Sized Samples\",\"Estimating Jaccard Index with Missing Observations: A Matrix Calibration Approach\",\"Neural Adaptive Sequential Monte Carlo\",\"Local Expectation Gradients for Black Box Variational Inference\",\"On Variance Reduction in Stochastic Gradient Descent and its Asynchronous Variants\",\"NEXT: A System for Real-World Development, Evaluation, and Application of Active Learning\",\"Super-Resolution Off the Grid\",\"Taming the Wild: A Unified Analysis of Hogwild-Style Algorithms\",\"The Return of the Gating Network: Combining Generative Models and Discriminative Training in Natural Image Priors\",\"Pointer Networks\",\"Associative Memory via a Sparse Recovery Model\",\"Robust Spectral Inference for Joint Stochastic Matrix Factorization\",\"Fast, Provable Algorithms for Isotonic Regression in all L_p-norms\",\"Adversarial Prediction Games for Multivariate Losses\",\"Asynchronous Parallel Stochastic Gradient for Nonconvex Optimization\",\"Embed to Control: A Locally Linear Latent Dynamics Model for Control from Raw Images\",\"Efficient and Parsimonious Agnostic Active Learning\",\"Softstar: Heuristic-Guided Probabilistic Inference\",\"Grammar as a Foreign Language\",\"Regularization-Free Estimation in Trace Regression with Symmetric Positive Semidefinite Matrices\",\"Winner-Take-All Autoencoders\",\"Deep Poisson Factor Modeling\",\"Bayesian Optimization with Exponential Convergence\",\"Sample Complexity of Episodic Fixed-Horizon Reinforcement Learning\",\"Learning with Relaxed Supervision\",\"Subsampled Power Iteration: a Unified Algorithm for Block Models and Planted CSP's\",\"Accelerated Mirror Descent in Continuous and Discrete Time\",\"The Human Kernel\",\"Action-Conditional Video Prediction using Deep Networks in Atari Games\",\"A Pseudo-Euclidean Iteration for Optimal Recovery in Noisy ICA\",\"Distributed Submodular Cover: Succinctly Summarizing Massive Data\",\"Community Detection via Measure Space Embedding\",\"Basis refinement strategies for linear value function approximation in MDPs\",\"Structured Estimation with Atomic Norms: General Bounds and Applications\",\"A Complete Recipe for Stochastic Gradient MCMC\",\"Bandit Smooth Convex Optimization: Improving the Bias-Variance Tradeoff\",\"Online Prediction at the Limit of Zero Temperature\",\"Learning Continuous Control Policies by Stochastic Value Gradients\",\"Exploring Models and Data for Image Question Answering\",\"Efficient and Robust Automated Machine Learning\",\"Preconditioned Spectral Descent for Deep Learning\",\"A Recurrent Latent Variable Model for Sequential Data\",\"Fast Convergence of Regularized Learning in Games\",\"Parallel Multi-Dimensional LSTM, With Application to Fast Biomedical Volumetric Image Segmentation\",\"Reflection, Refraction, and Hamiltonian Monte Carlo\",\"The Consistency of Common Neighbors for Link Prediction in Stochastic Blockmodels\",\"Nearly Optimal Private LASSO\",\"Convergence Analysis of Prediction Markets via Randomized Subspace Descent\",\"The Poisson Gamma Belief Network\",\"Convergence rates of sub-sampled Newton methods\",\"No-Regret Learning in Bayesian Games\",\"Statistical Topological Data Analysis - A Kernel Perspective\",\"Semi-supervised Sequence Learning\",\"Structured Transforms for Small-Footprint Deep Learning\",\"Rapidly Mixing Gibbs Sampling for a Class of Factor Graphs Using Hierarchy Width\",\"Interpolating Convex and Non-Convex Tensor Decompositions via the Subspace Norm\",\"Sample Complexity Bounds for Iterative Stochastic Policy Optimization\",\"BinaryConnect: Training Deep Neural Networks with binary weights during propagations\",\"Interactive Control of Diverse Complex Characters with Neural Networks\",\"Submodular Hamming Metrics\",\"A Universal Primal-Dual Convex Optimization Framework\",\"Learning From Small Samples: An Analysis of Simple Decision Heuristics\",\"Explore no more: Improved high-probability regret bounds for non-stochastic bandits\",\"Fast and Memory Optimal Low-Rank Matrix Approximation\",\"Learnability of Influence in Networks\",\"Learning Causal Graphs with Small Interventions\",\"Information-theoretic lower bounds for convex optimization with erroneous oracles\",\"Fixed-Length Poisson MRF: Adding Dependencies to the Multinomial\",\"Large-Scale Bayesian Multi-Label Learning via Topic-Based Label Embeddings\",\"The Self-Normalized Estimator for Counterfactual Learning\",\"Fast Lifted MAP Inference via Partitioning\",\"Data Generation as Sequential Decision Making\",\"On Elicitation Complexity\",\"Decomposition Bounds for Marginal MAP\",\"Discrete R\\u00e9nyi Classifiers\",\"A class of network models recoverable by spectral clustering\",\"Skip-Thought Vectors\",\"Rate-Agnostic (Causal) Structure Learning\",\"Principal Geodesic Analysis for Probability Measures under the Optimal Transport Metric\",\"Consistent Multilabel Classification\",\"Parallel Predictive Entropy Search for Batch Global Optimization of Expensive Objective Functions\",\"Cornering Stationary and Restless Mixing Bandits with Remix-UCB\",\"Semi-Supervised Factored Logistic Regression for High-Dimensional Neuroimaging Data\",\"Gaussian Process Random Fields\",\"M-Statistic for Kernel Change-Point Detection\",\"Adaptive Online Learning\",\"A Universal Catalyst for First-Order Optimization\",\"Inference for determinantal point processes without spectral knowledge\",\"Kullback-Leibler Proximal Variational Inference\",\"Semi-Proximal Mirror-Prox for Nonsmooth Composite Minimization\",\"LASSO with Non-linear Measurements is Equivalent to One With Linear Measurements\",\"From random walks to distances on unweighted graphs\",\"Bayesian dark knowledge\",\"Matrix Completion with Noisy Side Information\",\"Dependent Multinomial Models Made Easy: Stick-Breaking with the Polya-gamma Augmentation\",\"On-the-Job Learning with Bayesian Decision Theory\",\"Calibrated Structured Prediction\",\"Learning Structured Output Representation using Deep Conditional Generative Models\",\"Time-Sensitive Recommendation From Recurrent User Activities\",\"Learning Stationary Time Series using Gaussian Processes with Nonparametric Kernels\",\"A Market Framework for Eliciting Private Data\",\"Lifted Inference Rules With Constraints\",\"Gradient Estimation Using Stochastic Computation Graphs\",\"Model-Based Relative Entropy Stochastic Search\",\"Semi-supervised Learning with Ladder Networks\",\"Embedding Inference for Structured Multilabel Prediction\",\"Copula variational inference\",\"Recursive Training of 2D-3D Convolutional Networks for Neuronal Boundary Prediction\",\"A Dual Augmented Block Minimization Framework for Learning with Limited Memory\",\"Optimal Testing for Properties of Distributions\",\"Efficient Learning of Continuous-Time Hidden Markov Models for Disease Progression\",\"Expectation Particle Belief Propagation\",\"Latent Bayesian melding for integrating individual and population models\",\"Distributionally Robust Logistic Regression\",\"Variational Dropout and the Local Reparameterization Trick\"],\"topic_key\":[0,3,0,3,3,2,3,2,1,0,1,3,2,2,1,0,3,3,1,0,3,1,1,0,2,2,1,3,1,1,0,3,3,2,0,2,0,3,2,0,3,3,2,2,2,2,2,1,0,1,3,3,3,3,2,2,1,2,2,2,0,2,2,3,1,2,0,0,3,3,3,1,1,2,0,2,0,2,0,3,2,3,2,3,2,2,2,0,3,1,2,3,3,3,2,1,0,0,1,3,1,2,1,3,1,3,3,0,1,3,2,2,0,2,0,0,3,2,2,0,2,0,1,1,1,3,1,2,3,3,1,2,2,3,3,0,2,1,0,1,2,0,2,3,0,2,3,2,3,0,0,0,2,3,1,2,3,3,0,3,3,0,0,0,0,1,1,1,3,0,0,0,2,3,2,2,0,3,2,1,0,0,3,2,3,0,3,1,2,0,3,3,3,0,0,1,2,3,0,0,3,2,1,1,3,1,3,2,1,3,2,2,3,1,2,3,3,3,0,3,1,3,2,1,2,0,3,3,2,1,3,2,1,2,0,1,3,0,3,3,0,0,3,0,2,2,1,2,3,0,3,3,0,2,1,0,3,3,2,2,0,0,2,1,3,3,3,3,1,2,1,1,0,1,3,3,3,3,3,2,0,1,2,0,2,0,1,2,0,2,3,1,0,0,2,0,1,1,2,1,2,0,0,1,0,3,1,2,1,1,3,0,3,2,2,3,1,2,2,2,0,2,3,0,0,1,1,3,1,1,0,1,3,0,2,0,1,0,0,3,1,1,3,2,0,1,1,2,2,3,0,2,2,3,0,1,3,0,3,1,2,3,2,2,1,3,2,0,3,0,1,3,3,0,2,3,3,2,2,0,3,2,3,0,3,1,2,3,0,3,1,3,1,3,1,1,2,2,3,3,3,0,1],\"x\":{\"__ndarray__\":\"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\",\"dtype\":\"float32\",\"order\":\"little\",\"shape\":[403]},\"y\":{\"__ndarray__\":\"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\",\"dtype\":\"float32\",\"order\":\"little\",\"shape\":[403]},\"z\":{\"__ndarray__\":\"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\",\"dtype\":\"float32\",\"order\":\"little\",\"shape\":[403]}},\"selected\":{\"id\":\"1491\"},\"selection_policy\":{\"id\":\"1492\"}},\"id\":\"1461\",\"type\":\"ColumnDataSource\"},{\"attributes\":{\"callback\":null,\"tooltips\":[[\"content\",\"Title: @title, KeyWords: @content - Topic: @topic_key \"]]},\"id\":\"1477\",\"type\":\"HoverTool\"},{\"attributes\":{\"fill_alpha\":{\"value\":0.8},\"fill_color\":{\"field\":\"color\"},\"line_alpha\":{\"value\":0.8},\"line_color\":{\"field\":\"color\"},\"size\":{\"value\":10},\"x\":{\"field\":\"x\"},\"y\":{\"field\":\"y\"}},\"id\":\"1486\",\"type\":\"Scatter\"}],\"root_ids\":[\"1462\"]},\"title\":\"Bokeh Application\",\"version\":\"2.3.3\"}};\n",
              "  var render_items = [{\"docid\":\"5c82d8e7-9009-48d5-9b47-fdde8668fe3b\",\"root_ids\":[\"1462\"],\"roots\":{\"1462\":\"9defb69e-b137-4eae-86a5-fc4871066857\"}}];\n",
              "  root.Bokeh.embed.embed_items_notebook(docs_json, render_items);\n",
              "\n",
              "  }\n",
              "  if (root.Bokeh !== undefined) {\n",
              "    embed_document(root);\n",
              "  } else {\n",
              "    var attempts = 0;\n",
              "    var timer = setInterval(function(root) {\n",
              "      if (root.Bokeh !== undefined) {\n",
              "        clearInterval(timer);\n",
              "        embed_document(root);\n",
              "      } else {\n",
              "        attempts++;\n",
              "        if (attempts > 100) {\n",
              "          clearInterval(timer);\n",
              "          console.log(\"Bokeh: ERROR: Unable to run BokehJS code because BokehJS library is missing\");\n",
              "        }\n",
              "      }\n",
              "    }, 10, root)\n",
              "  }\n",
              "})(window);"
            ],
            "application/vnd.bokehjs_exec.v0+json": ""
          },
          "metadata": {
            "application/vnd.bokehjs_exec.v0+json": {
              "id": "1462"
            }
          }
        }
      ]
    },
    {
      "cell_type": "code",
      "source": [
        "##Required configuration for using plotly in google colab \n",
        "\n",
        "def configure_plotly_browser_state():\n",
        "  import IPython\n",
        "  display(IPython.core.display.HTML('''\n",
        "        <script src=\"/static/components/requirejs/require.js\"></script>\n",
        "        <script>\n",
        "          requirejs.config({\n",
        "            paths: {\n",
        "              base: '/static/base',\n",
        "              plotly: 'https://cdn.plot.ly/plotly-latest.min.js?noext',\n",
        "            },\n",
        "          });\n",
        "        </script>\n",
        "        '''))"
      ],
      "metadata": {
        "id": "6ov8dteXCN5A"
      },
      "execution_count": null,
      "outputs": []
    },
    {
      "cell_type": "code",
      "source": [
        "##Testing data\n",
        "\n",
        "#print(X_tsne[:, 0])\n",
        "#X_tsne[:, 1]\n",
        "#X_tsne[:, 2] ##Me"
      ],
      "metadata": {
        "id": "DCkuwjSEEj9R"
      },
      "execution_count": null,
      "outputs": []
    },
    {
      "cell_type": "code",
      "source": [
        "##Importing plotly\n",
        "\n",
        "import plotly.graph_objects as go"
      ],
      "metadata": {
        "id": "OxG3BruFFVYi"
      },
      "execution_count": null,
      "outputs": []
    },
    {
      "cell_type": "code",
      "source": [
        "##Defining array where each doc has a color (based on topic) assigned to it from the color column in the df defined earlier\n",
        "\n",
        "color_t=p_df['colors']\n",
        "print(color_t)\n",
        "print(color_t.dtype)"
      ],
      "metadata": {
        "colab": {
          "base_uri": "https://localhost:8080/"
        },
        "id": "MNzH8_ZnGiLG",
        "outputId": "f8f73a09-2473-42e9-ccb4-a602940f5204"
      },
      "execution_count": null,
      "outputs": [
        {
          "output_type": "stream",
          "name": "stdout",
          "text": [
            "0         red\n",
            "1        blue\n",
            "2      yellow\n",
            "3         red\n",
            "4         red\n",
            "        ...  \n",
            "398       red\n",
            "399       red\n",
            "400       red\n",
            "401    yellow\n",
            "402     green\n",
            "Name: colors, Length: 403, dtype: object\n",
            "object\n"
          ]
        }
      ]
    },
    {
      "cell_type": "code",
      "source": [
        "##3d visualization of t-sne\n",
        "##Plotting t-sne with the color key array defined above\n",
        "\n",
        "data=[go.Scatter3d(x=X_tsne[:, 0], y=X_tsne[:, 1], z=X_tsne[:, 2], mode='markers', marker=dict(size=12, \n",
        "        color=color_t,\n",
        "        colorscale='Viridis',   # choose a colorscale\n",
        "        opacity=0.8\n",
        "    ))]\n",
        "                                  \n",
        "layout = go.Layout(margin=dict(l=0,r=0), height = 800,width = 800)\n",
        "fig = go.Figure(data = data, layout = layout)\n",
        "fig.show(renderer=\"colab\")"
      ],
      "metadata": {
        "colab": {
          "base_uri": "https://localhost:8080/",
          "height": 817
        },
        "id": "87S3sSKxCRG8",
        "outputId": "4962b457-f885-4f9c-a71d-4373cfa1d796"
      },
      "execution_count": null,
      "outputs": [
        {
          "output_type": "display_data",
          "data": {
            "text/html": [
              "<html>\n",
              "<head><meta charset=\"utf-8\" /></head>\n",
              "<body>\n",
              "    <div>            <script src=\"https://cdnjs.cloudflare.com/ajax/libs/mathjax/2.7.5/MathJax.js?config=TeX-AMS-MML_SVG\"></script><script type=\"text/javascript\">if (window.MathJax) {MathJax.Hub.Config({SVG: {font: \"STIX-Web\"}});}</script>                <script type=\"text/javascript\">window.PlotlyConfig = {MathJaxConfig: 'local'};</script>\n",
              "        <script src=\"https://cdn.plot.ly/plotly-2.8.3.min.js\"></script>                <div id=\"4fcb7f86-14e9-4fbe-aae1-3365f63385b8\" class=\"plotly-graph-div\" style=\"height:800px; width:800px;\"></div>            <script type=\"text/javascript\">                                    window.PLOTLYENV=window.PLOTLYENV || {};                                    if (document.getElementById(\"4fcb7f86-14e9-4fbe-aae1-3365f63385b8\")) {                    Plotly.newPlot(                        \"4fcb7f86-14e9-4fbe-aae1-3365f63385b8\",                        [{\"marker\":{\"color\":[\"red\",\"blue\",\"yellow\",\"red\",\"red\",\"blue\",\"blue\",\"red\",\"green\",\"yellow\",\"green\",\"blue\",\"blue\",\"red\",\"green\",\"yellow\",\"green\",\"red\",\"green\",\"red\",\"yellow\",\"green\",\"green\",\"yellow\",\"blue\",\"red\",\"green\",\"red\",\"green\",\"green\",\"yellow\",\"red\",\"green\",\"yellow\",\"yellow\",\"blue\",\"blue\",\"yellow\",\"blue\",\"yellow\",\"green\",\"red\",\"yellow\",\"blue\",\"red\",\"blue\",\"yellow\",\"green\",\"yellow\",\"green\",\"red\",\"green\",\"red\",\"yellow\",\"blue\",\"yellow\",\"green\",\"blue\",\"blue\",\"yellow\",\"yellow\",\"blue\",\"blue\",\"red\",\"green\",\"blue\",\"yellow\",\"yellow\",\"red\",\"red\",\"red\",\"green\",\"green\",\"blue\",\"yellow\",\"blue\",\"yellow\",\"red\",\"blue\",\"blue\",\"blue\",\"blue\",\"blue\",\"red\",\"blue\",\"blue\",\"blue\",\"yellow\",\"green\",\"green\",\"yellow\",\"blue\",\"red\",\"red\",\"red\",\"green\",\"yellow\",\"red\",\"green\",\"red\",\"green\",\"blue\",\"green\",\"yellow\",\"green\",\"yellow\",\"red\",\"yellow\",\"green\",\"green\",\"blue\",\"blue\",\"blue\",\"blue\",\"yellow\",\"yellow\",\"green\",\"blue\",\"red\",\"red\",\"blue\",\"blue\",\"green\",\"green\",\"green\",\"blue\",\"green\",\"blue\",\"red\",\"red\",\"green\",\"blue\",\"blue\",\"red\",\"red\",\"yellow\",\"blue\",\"green\",\"yellow\",\"green\",\"blue\",\"yellow\",\"blue\",\"yellow\",\"blue\",\"yellow\",\"yellow\",\"red\",\"blue\",\"yellow\",\"green\",\"yellow\",\"red\",\"red\",\"green\",\"blue\",\"blue\",\"red\",\"red\",\"red\",\"red\",\"yellow\",\"red\",\"yellow\",\"yellow\",\"green\",\"green\",\"green\",\"red\",\"yellow\",\"yellow\",\"yellow\",\"blue\",\"blue\",\"blue\",\"red\",\"yellow\",\"red\",\"blue\",\"red\",\"yellow\",\"yellow\",\"red\",\"blue\",\"red\",\"yellow\",\"green\",\"green\",\"blue\",\"yellow\",\"red\",\"blue\",\"red\",\"yellow\",\"yellow\",\"blue\",\"blue\",\"red\",\"yellow\",\"red\",\"blue\",\"blue\",\"green\",\"green\",\"blue\",\"green\",\"red\",\"blue\",\"green\",\"red\",\"blue\",\"blue\",\"green\",\"green\",\"blue\",\"red\",\"red\",\"red\",\"yellow\",\"blue\",\"green\",\"red\",\"red\",\"green\",\"red\",\"blue\",\"red\",\"blue\",\"blue\",\"green\",\"red\",\"yellow\",\"blue\",\"blue\",\"yellow\",\"green\",\"red\",\"red\",\"red\",\"red\",\"blue\",\"yellow\",\"green\",\"yellow\",\"blue\",\"blue\",\"green\",\"red\",\"red\",\"yellow\",\"red\",\"blue\",\"red\",\"blue\",\"green\",\"yellow\",\"yellow\",\"red\",\"yellow\",\"blue\",\"red\",\"yellow\",\"yellow\",\"green\",\"red\",\"red\",\"red\",\"yellow\",\"green\",\"blue\",\"green\",\"green\",\"yellow\",\"green\",\"green\",\"green\",\"red\",\"red\",\"red\",\"blue\",\"yellow\",\"green\",\"blue\",\"yellow\",\"red\",\"blue\",\"green\",\"blue\",\"red\",\"blue\",\"red\",\"red\",\"yellow\",\"blue\",\"blue\",\"yellow\",\"green\",\"green\",\"blue\",\"blue\",\"yellow\",\"yellow\",\"yellow\",\"green\",\"blue\",\"red\",\"green\",\"blue\",\"green\",\"blue\",\"yellow\",\"yellow\",\"red\",\"blue\",\"yellow\",\"red\",\"green\",\"blue\",\"red\",\"red\",\"yellow\",\"blue\",\"red\",\"yellow\",\"yellow\",\"yellow\",\"green\",\"red\",\"green\",\"green\",\"yellow\",\"green\",\"red\",\"red\",\"yellow\",\"yellow\",\"green\",\"yellow\",\"yellow\",\"blue\",\"green\",\"green\",\"red\",\"blue\",\"yellow\",\"green\",\"green\",\"red\",\"yellow\",\"red\",\"yellow\",\"blue\",\"yellow\",\"red\",\"yellow\",\"blue\",\"blue\",\"yellow\",\"yellow\",\"green\",\"blue\",\"yellow\",\"red\",\"blue\",\"green\",\"red\",\"blue\",\"blue\",\"red\",\"yellow\",\"green\",\"red\",\"red\",\"yellow\",\"yellow\",\"red\",\"red\",\"yellow\",\"blue\",\"yellow\",\"red\",\"blue\",\"red\",\"red\",\"red\",\"green\",\"red\",\"red\",\"red\",\"yellow\",\"green\",\"red\",\"green\",\"blue\",\"red\",\"green\",\"yellow\",\"blue\",\"red\",\"red\",\"red\",\"yellow\",\"green\"],\"colorscale\":[[0.0,\"#440154\"],[0.1111111111111111,\"#482878\"],[0.2222222222222222,\"#3e4989\"],[0.3333333333333333,\"#31688e\"],[0.4444444444444444,\"#26828e\"],[0.5555555555555556,\"#1f9e89\"],[0.6666666666666666,\"#35b779\"],[0.7777777777777778,\"#6ece58\"],[0.8888888888888888,\"#b5de2b\"],[1.0,\"#fde725\"]],\"opacity\":0.8,\"size\":12},\"mode\":\"markers\",\"x\":[-50.530765533447266,0.3551133871078491,-25.62297248840332,-97.39964294433594,-78.18891143798828,63.943572998046875,11.480772018432617,-12.715248107910156,2.633467197418213,51.108280181884766,9.244894981384277,-11.190144538879395,-2.122974395751953,-91.14785766601562,20.23444366455078,65.32149505615234,-16.45155906677246,86.36775970458984,-79.8128890991211,-95.76436614990234,-23.505464553833008,3.605356216430664,-13.908480644226074,43.88531494140625,96.28948211669922,-43.024810791015625,17.412843704223633,-95.00390625,4.778059959411621,20.129535675048828,36.417137145996094,-105.31224060058594,12.209070205688477,29.721435546875,38.82691192626953,-12.259058952331543,23.02294158935547,36.1319694519043,42.11537170410156,6.86647367477417,-47.731143951416016,-22.999624252319336,19.98166275024414,58.46524429321289,-50.05735397338867,-4.879922866821289,68.30520629882812,68.00386810302734,37.7039680480957,48.97983169555664,-104.0919418334961,44.13946533203125,-69.21635437011719,-22.44274139404297,-23.84593963623047,35.15040969848633,11.151816368103027,39.90725326538086,59.91434860229492,-17.225820541381836,0.9621986150741577,28.35001564025879,97.76781463623047,-43.16545104980469,18.884435653686523,18.053882598876953,-15.865348815917969,-6.291790008544922,-91.30081939697266,-86.1728744506836,-14.821175575256348,33.91633605957031,31.790388107299805,16.67499542236328,39.1207389831543,-18.60866928100586,53.34459686279297,-58.80147933959961,-26.5319766998291,-11.875837326049805,-7.927649974822998,38.2032585144043,-2.9219985008239746,-73.8176040649414,68.89762115478516,-17.656417846679688,58.39546203613281,29.753816604614258,-6.314972400665283,-31.873271942138672,52.55293655395508,-25.00130844116211,-64.71062469482422,-57.939910888671875,-85.77310943603516,24.172319412231445,22.25494384765625,-28.86574363708496,66.85164642333984,-76.76199340820312,83.54178619384766,19.58100128173828,-0.1151348203420639,-34.30916976928711,-9.025300979614258,-19.38894271850586,-102.88351440429688,29.997373580932617,24.80686378479004,57.42734909057617,17.579532623291016,-60.75741195678711,45.58068084716797,-14.446722984313965,17.282241821289062,66.31678009033203,51.09418869018555,6.504921913146973,-67.452392578125,-44.9023323059082,6.321306228637695,-5.680940628051758,-2.0166566371917725,2.7495222091674805,74.22299194335938,2.470240592956543,75.98180389404297,-19.30661392211914,-80.14918518066406,-49.530494689941406,58.27396011352539,24.604656219482422,10.46005916595459,-70.72100067138672,-84.49634552001953,68.4159164428711,24.8082218170166,67.73882293701172,-41.89677429199219,50.646385192871094,33.21787643432617,37.90049362182617,-19.76926612854004,-9.941971778869629,22.055864334106445,42.93352508544922,52.29722595214844,6.672458648681641,18.884275436401367,-4.779361724853516,26.157190322875977,40.93704605102539,-69.7019271850586,-19.821252822875977,31.66432762145996,6.797604084014893,8.1549654006958,-100.90451049804688,-93.92205047607422,-77.57206726074219,-63.46067428588867,27.702009201049805,-51.35261154174805,22.546703338623047,-11.384915351867676,57.36777877807617,-14.06144905090332,37.99650573730469,-101.45838165283203,42.08232498168945,35.406333923339844,-15.177706718444824,48.07927322387695,4.683218479156494,47.51242446899414,-48.72968673706055,80.6756591796875,-37.336788177490234,14.416813850402832,-60.71480941772461,-40.16201400756836,22.740509033203125,-56.47515106201172,-18.868621826171875,102.51763916015625,20.433349609375,36.89083480834961,-131.9165496826172,-13.432348251342773,-18.196746826171875,-89.27192687988281,-5.865407943725586,-44.15024185180664,-11.290373802185059,11.395243644714355,9.078469276428223,-18.31258201599121,-36.434810638427734,21.85124969482422,-84.33818054199219,65.62834930419922,24.927492141723633,40.87708282470703,6.855607509613037,0.7321329116821289,5.173794269561768,-74.52764129638672,37.45478820800781,36.47834396362305,-55.64161682128906,-30.974536895751953,17.306562423706055,6.2463555335998535,24.724651336669922,74.38815307617188,-100.40863800048828,-83.66921997070312,-70.71493530273438,32.245079040527344,-19.692705154418945,2.7088866233825684,-82.38203430175781,-57.48631286621094,21.742237091064453,-30.271076202392578,-54.75370407104492,-20.952646255493164,18.858339309692383,32.83883285522461,54.5205078125,-74.6233139038086,54.37560272216797,-9.397194862365723,23.825544357299805,41.53398132324219,14.118639945983887,-26.77101707458496,-52.40769577026367,-58.57264709472656,98.18380737304688,75.60186004638672,47.72581100463867,-5.298175811767578,65.510498046875,58.108253479003906,29.307344436645508,84.75287628173828,-76.21603393554688,-63.408695220947266,10.516798973083496,-55.654144287109375,16.490886688232422,-18.69935417175293,-24.835268020629883,-14.981060028076172,51.584716796875,-32.78480529785156,-75.83271026611328,29.19489288330078,9.775177001953125,-64.71543884277344,52.388187408447266,19.436321258544922,-49.18632125854492,-73.1024398803711,-57.035884857177734,-50.138946533203125,86.33918762207031,48.605648040771484,91.85682678222656,68.63365173339844,45.78779983520508,58.57017517089844,11.051981925964355,9.651372909545898,-6.799349308013916,-76.65509033203125,-48.762367248535156,-64.64750671386719,50.797298431396484,59.253501892089844,-20.977306365966797,48.361392974853516,33.146018981933594,-75.4012451171875,-6.989652633666992,32.65705871582031,38.91072463989258,-65.11263275146484,-3.369281768798828,-35.36140823364258,-29.63029670715332,63.252079010009766,3.201432466506958,92.47908782958984,52.33123779296875,-78.80221557617188,67.0635986328125,5.197131156921387,6.103969097137451,67.81919860839844,-10.794456481933594,75.35379028320312,42.27073287963867,37.340660095214844,-29.835926055908203,50.15347671508789,-71.95709991455078,-28.27718162536621,-7.432165622711182,-34.240413665771484,52.36554718017578,-33.26220703125,76.38134002685547,51.12049865722656,-93.15394592285156,54.33857345581055,-14.258556365966797,-101.76646423339844,-36.981449127197266,-3.424168586730957,77.4303970336914,-95.18315887451172,50.14268493652344,-33.62501907348633,54.97295379638672,38.401302337646484,-51.68824768066406,22.060861587524414,73.43932342529297,38.88534164428711,84.1543960571289,-57.91681671142578,-56.21065902709961,9.534676551818848,49.064998626708984,5.735796928405762,-27.042551040649414,70.38345336914062,39.424861907958984,14.051487922668457,19.488662719726562,-84.10066986083984,84.59671783447266,-24.149051666259766,-55.995689392089844,48.3415641784668,-70.67318725585938,52.25459671020508,-64.75556182861328,68.61500549316406,60.69251251220703,0.6315295100212097,-64.48027801513672,51.81652069091797,-27.32235336303711,-21.427696228027344,64.67083740234375,45.58197021484375,51.73095703125,18.435213088989258,-38.081260681152344,79.54096984863281,-41.12491989135742,-16.28632926940918,-84.5806655883789,-1.332027554512024,-22.441097259521484,-70.27604675292969,60.37910461425781,15.404647827148438,-67.42443084716797,-89.91768646240234,21.720727920532227,56.17713165283203,-79.01082611083984,-11.782913208007812,35.541866302490234,52.43293380737305,-24.250288009643555,-19.71796417236328,4.32768440246582,-92.3884506225586,-24.72861671447754,-118.54359436035156,-19.308595657348633,-82.69351959228516,-94.67262268066406,-62.613548278808594,0.2779117524623871,3.4697299003601074,-35.49877166748047,-16.37596893310547,5.358756065368652,-53.20085906982422,28.227800369262695,25.47707748413086,77.45948791503906,49.07309341430664,-82.87046813964844,-68.28874969482422,47.924949645996094,3.0265657901763916],\"y\":[31.769508361816406,-16.888671875,-63.11199951171875,33.56257629394531,39.777408599853516,50.0347785949707,8.373412132263184,-28.406492233276367,51.75616455078125,-59.041812896728516,65.4281005859375,14.5224027633667,-4.718334674835205,-1.7998396158218384,6.194901466369629,-21.0515193939209,-17.779096603393555,-9.46640396118164,35.898738861083984,-2.8216874599456787,-103.35186767578125,50.96126937866211,-46.191829681396484,-114.61673736572266,35.128517150878906,-52.801300048828125,47.08251190185547,0.6031076908111572,26.525440216064453,78.41938781738281,-26.345165252685547,2.1647450923919678,-9.57104206085205,-40.81106185913086,-69.29898834228516,43.34994125366211,5.409761905670166,-42.84563446044922,55.16035079956055,-53.28291702270508,-37.70877456665039,-17.247406005859375,-73.65837860107422,32.53554153442383,25.375730514526367,-4.0121169090271,-32.16901397705078,44.230018615722656,-49.939910888671875,21.724092483520508,33.327186584472656,-3.1130385398864746,42.00117111206055,-82.17776489257812,66.79705810546875,-52.77876663208008,6.838170051574707,51.54386901855469,34.03584289550781,-88.15803527832031,-66.70088958740234,61.43212890625,-17.624584197998047,39.16901397705078,61.73198318481445,62.8275260925293,-105.46227264404297,-100.12167358398438,35.608646392822266,-10.920644760131836,-60.933040618896484,-17.0289306640625,75.73941802978516,38.35945129394531,-80.3222427368164,-12.705205917358398,-22.910579681396484,-1.844604730606079,34.95167922973633,66.03067779541016,-22.525989532470703,75.3341293334961,14.013821601867676,-33.28474044799805,18.594112396240234,40.39051055908203,65.36408233642578,-70.65155029296875,61.00297164916992,-41.289039611816406,-13.760536193847656,12.784790992736816,26.152530670166016,-41.63556671142578,-16.430809020996094,22.35247802734375,-88.01190948486328,-13.643750190734863,54.07380676269531,0.3766215741634369,47.73908996582031,-13.850024223327637,73.40470123291016,-54.661170959472656,68.49585723876953,-89.28101348876953,20.372997283935547,-101.30850982666016,19.069902420043945,40.75636291503906,83.31963348388672,24.963603973388672,29.256187438964844,31.007036209106445,-60.639060974121094,-49.60237503051758,36.04389190673828,-28.98827362060547,9.554428100585938,-21.25335693359375,73.34966278076172,-19.80367088317871,86.66659545898438,77.82769775390625,32.85491180419922,-12.029165267944336,47.008182525634766,66.9238052368164,37.73331069946289,-17.55146026611328,13.86251449584961,78.73876190185547,-17.398456573486328,-58.338932037353516,12.692489624023438,-36.22555160522461,65.60894012451172,30.870826721191406,-71.0261001586914,69.55950927734375,42.267730712890625,-63.911659240722656,3.5368709564208984,-103.1867446899414,-15.611260414123535,-68.04230499267578,-72.8629379272461,-101.91614532470703,37.442535400390625,-89.90272521972656,-3.8721821308135986,-101.32615661621094,38.70723342895508,-0.8475531339645386,-17.090883255004883,69.8734359741211,34.21131896972656,8.974519729614258,-15.743762016296387,-4.658799171447754,60.17684555053711,-94.36944580078125,-37.71245193481445,-54.25054931640625,-11.188154220581055,51.859649658203125,49.868751525878906,-13.277480125427246,-12.582474708557129,-85.91336822509766,-54.69175338745117,-46.28116989135742,64.12712860107422,30.796855926513672,46.89365005493164,-23.81641960144043,-32.171791076660156,22.737462997436523,50.122711181640625,69.56324768066406,86.28649139404297,-100.52439880371094,-44.00939178466797,-9.602373123168945,12.567131042480469,-74.98627471923828,-3.399667978286743,-12.2081298828125,-7.825311183929443,-68.25211334228516,-34.68092346191406,15.923833847045898,51.70643615722656,-74.36009216308594,-63.88039016723633,11.02246379852295,53.85839080810547,-30.332988739013672,-78.74520111083984,3.2659356594085693,53.566959381103516,42.37734603881836,54.06438064575195,58.25263595581055,33.55778884887695,49.95313262939453,-15.348386764526367,68.38835144042969,47.55280685424805,-21.863725662231445,32.54603576660156,14.965535163879395,-3.7320351600646973,26.82547378540039,48.02323532104492,-43.41614532470703,-37.05332946777344,52.97517395019531,-62.343467712402344,56.66692352294922,71.00281524658203,-17.089399337768555,39.09406661987305,57.87062454223633,-31.54672622680664,-26.357114791870117,14.835453033447266,25.391216278076172,52.95872116088867,7.949547290802002,0.3120500147342682,-43.46143341064453,69.73456573486328,47.168792724609375,-99.42404174804688,-18.192367553710938,-22.562108993530273,-34.70494079589844,-6.716732501983643,-7.01801872253418,36.119625091552734,-95.4477767944336,-5.132606506347656,-79.07280731201172,19.2158203125,-1.567001461982727,53.26811599731445,2.4929513931274414,43.31204605102539,-64.2234115600586,38.896095275878906,22.994674682617188,-38.049095153808594,17.4664363861084,61.42655944824219,-84.018798828125,-95.84737396240234,-48.277523040771484,-30.449115753173828,-2.568225383758545,22.373207092285156,-84.44661712646484,-58.56950759887695,-24.236465454101562,-23.081764221191406,-24.781492233276367,54.34153747558594,-44.74441146850586,20.91529655456543,36.83320999145508,63.646968841552734,40.5173454284668,-86.72943878173828,20.113779067993164,68.5707778930664,-12.915987014770508,25.785049438476562,18.308311462402344,-15.319313049316406,48.85991287231445,-100.94657135009766,-61.72026824951172,63.482826232910156,-85.60073852539062,59.334136962890625,29.94818878173828,40.4761848449707,35.14653015136719,54.76734161376953,57.271671295166016,4.990286350250244,19.09980010986328,-59.02903747558594,1.128918170928955,19.302751541137695,-26.193212509155273,52.820247650146484,64.16542053222656,22.96694564819336,18.30202293395996,-19.2271671295166,-85.31893157958984,-40.24058532714844,5.170474052429199,-4.504631519317627,-46.2631721496582,53.70648956298828,-70.39788818359375,66.73050689697266,10.163780212402344,-73.35456085205078,-56.1031608581543,2.2962088584899902,25.603918075561523,-92.4306869506836,-52.389320373535156,64.8328857421875,9.626744270324707,-31.385055541992188,-2.652895927429199,-86.11446380615234,45.230812072753906,-32.9764518737793,-65.57259368896484,-79.12522888183594,-10.347074508666992,70.24307250976562,16.126829147338867,54.252384185791016,-2.1263914108276367,-81.49602508544922,33.752647399902344,3.4290168285369873,55.54295349121094,-26.726533889770508,-68.08062744140625,7.001088619232178,88.90605163574219,-54.40692901611328,28.6673583984375,82.4538803100586,71.84799194335938,-55.090797424316406,53.310020446777344,-94.47432708740234,-45.45225143432617,-7.850283145904541,-29.86949348449707,-38.813175201416016,-6.2303080558776855,-69.08489990234375,37.97103500366211,-93.9112319946289,15.73379135131836,-32.01988220214844,29.02030372619629,47.84458541870117,-71.34110260009766,-49.99368667602539,-6.028987407684326,-12.18872356414795,-89.08065032958984,1.8497025966644287,17.205326080322266,60.40779113769531,17.274168014526367,47.15642166137695,25.94072151184082,-15.714029312133789,-76.40636444091797,89.39025115966797,-41.81509780883789,43.80584716796875,-73.54890441894531,-51.09809494018555,3.979825973510742,-23.135900497436523,-65.27984619140625,42.044681549072266,-54.79018783569336,-1.548119306564331,56.064918518066406,24.922163009643555,-19.88991928100586,12.221809387207031,80.39102172851562,32.206695556640625,-24.0248966217041,-21.9666805267334,-56.52942657470703,-96.06661987304688,-37.4118537902832,82.56732940673828,26.32025909423828,39.406795501708984,62.23811340332031,-70.71708679199219,26.067794799804688,-45.26249694824219,-37.489288330078125,18.85431480407715,-17.3654842376709,-19.870990753173828],\"z\":[-28.26673126220703,47.214542388916016,41.13562774658203,0.8657543063163757,-38.305694580078125,62.530574798583984,32.6080207824707,-8.186661720275879,-44.67104721069336,56.32933044433594,-56.79701614379883,20.277067184448242,67.23092651367188,25.44062614440918,-64.22761535644531,18.671615600585938,-61.47163772583008,-43.20216369628906,-96.80892944335938,-12.218070030212402,30.90072250366211,-68.39571380615234,-52.3719482421875,8.885441780090332,16.33953857421875,6.793607711791992,-55.568641662597656,7.1767168045043945,-13.503395080566406,-66.5762710571289,30.92733383178711,-38.55875015258789,-69.87826538085938,-9.151488304138184,-65.2016830444336,29.614078521728516,17.57748794555664,30.95222282409668,92.86373138427734,-6.073476791381836,79.59977722167969,-45.887088775634766,21.0867977142334,57.49042892456055,13.263218879699707,84.68900299072266,50.48896026611328,-49.69723129272461,-49.71116638183594,-16.806066513061523,-16.958717346191406,69.68638610839844,39.20758056640625,36.820411682128906,60.66392517089844,2.7671256065368652,-77.22138977050781,64.80938720703125,18.144582748413086,20.712148666381836,-7.805344104766846,80.98937225341797,25.669710159301758,0.9361397624015808,-40.11697769165039,65.82799530029297,12.842815399169922,29.974109649658203,-43.952049255371094,-1.4063825607299805,-76.95235443115234,92.6529541015625,-45.64048385620117,29.404090881347656,-15.904744148254395,89.22840881347656,-26.596567153930664,-61.71830368041992,91.6164321899414,42.317657470703125,62.19062042236328,88.56698608398438,98.63128662109375,-67.708740234375,28.53070640563965,99.52373504638672,53.289058685302734,-47.97123718261719,-7.87951135635376,62.861244201660156,29.000980377197266,35.824928283691406,-24.641185760498047,-60.21772766113281,-73.16732788085938,-56.986083984375,-39.357383728027344,18.687387466430664,-25.552331924438477,-72.50438690185547,-32.289283752441406,47.31377029418945,-39.922157287597656,26.987899780273438,-57.816593170166016,-20.953807830810547,-26.49367332458496,14.42862606048584,-74.59651184082031,-78.71392822265625,91.90443420410156,51.8403205871582,33.513511657714844,44.38225555419922,15.292808532714844,50.31238555908203,-56.679649353027344,-94.6240005493164,17.34539031982422,13.538315773010254,103.44046020507812,79.53190612792969,-60.64201354980469,0.7790958285331726,-34.03194808959961,-0.667218029499054,-69.93045806884766,75.55449676513672,4.336877822875977,-1.602908730506897,95.28707885742188,74.12579345703125,61.96580505371094,-38.50893020629883,17.699602127075195,31.429433822631836,99.00291442871094,-64.71178436279297,35.42152404785156,-58.82673263549805,80.45565032958984,-32.89702606201172,86.06685638427734,-5.858923435211182,6.797938823699951,11.541556358337402,-28.27263641357422,64.17536163330078,13.951224327087402,-15.399267196655273,-32.35759353637695,-6.0705037117004395,60.39790725708008,-34.07221221923828,-41.3812255859375,83.95770263671875,39.63469314575195,-55.05992889404297,-54.92304992675781,16.696409225463867,4.055708408355713,-21.603769302368164,19.119068145751953,-31.66843605041504,119.7175064086914,-64.2665023803711,-56.77008819580078,-23.629655838012695,0.4442468583583832,-52.803741455078125,57.98777770996094,25.108747482299805,75.2919692993164,3.3668739795684814,27.428014755249023,29.656827926635742,-14.030058860778809,-40.768394470214844,80.26953887939453,22.356714248657227,-16.125152587890625,-4.244882106781006,-41.34942626953125,72.2103042602539,-24.939441680908203,39.32470703125,-48.985538482666016,-45.211456298828125,54.97538757324219,26.18301773071289,-57.005645751953125,36.85176086425781,-9.280797004699707,-19.972660064697266,30.16207504272461,-2.8675060272216797,72.6235580444336,-11.214083671569824,-10.787008285522461,-27.227046966552734,27.544639587402344,62.209716796875,-82.19528198242188,2.4441475868225098,64.5301513671875,-13.62524127960205,-58.092193603515625,57.81916046142578,-65.27283477783203,-56.648406982421875,47.98523712158203,93.78378295898438,-54.20553970336914,-37.56206512451172,46.03462219238281,-26.656251907348633,-15.332123756408691,20.33808135986328,-16.338897705078125,28.53844451904297,-74.61457824707031,-40.72087097167969,21.93390655517578,-75.49844360351562,23.313627243041992,-110.07543182373047,-40.39931869506836,-5.297801494598389,45.4476203918457,-54.16713333129883,-17.55875015258789,39.212486267089844,60.071014404296875,97.29888916015625,-37.67079544067383,-33.206809997558594,1.2513842582702637,1.6761133670806885,23.480058670043945,53.3497428894043,29.118438720703125,14.089615821838379,-66.3866958618164,-17.508867263793945,43.806644439697266,34.979976654052734,-54.26423645019531,31.504247665405273,6.505356311798096,-46.954833984375,-9.61434268951416,12.588879585266113,6.5302252769470215,51.65577697753906,-40.21443557739258,0.37979036569595337,15.203609466552734,-53.7335090637207,16.945947647094727,51.12102127075195,5.749779224395752,35.97932052612305,45.198974609375,61.3829460144043,-25.844303131103516,-35.899112701416016,15.718009948730469,-11.539735794067383,-34.61421585083008,38.525630950927734,-52.11940383911133,-21.621238708496094,-39.788761138916016,-64.56365966796875,-13.368746757507324,-46.257545471191406,-37.524810791015625,-13.311875343322754,-75.12442016601562,49.03313064575195,-2.0372347831726074,75.45285034179688,37.02508544921875,3.4713001251220703,38.06203079223633,74.61369323730469,-31.565622329711914,51.60234832763672,52.57600402832031,34.51703643798828,-39.99977493286133,-25.982585906982422,-23.363861083984375,16.567241668701172,25.98676109313965,43.81550598144531,-77.86393737792969,-73.17184448242188,86.90040588378906,46.26588439941406,37.660240173339844,2.9415688514709473,-3.5421485900878906,-63.729339599609375,20.189842224121094,-5.914797306060791,-46.87659454345703,8.903910636901855,-56.472373962402344,-0.05701577290892601,19.751340866088867,-61.660865783691406,-22.501333236694336,12.587039947509766,-22.02876091003418,-44.50921630859375,-22.305702209472656,-98.03852844238281,-43.2270622253418,10.173956871032715,39.257537841796875,11.910612106323242,31.961238861083984,-11.387109756469727,49.8001594543457,-18.13444709777832,-73.1222152709961,-30.06016731262207,-8.065793991088867,74.63595581054688,-34.77405548095703,-51.36900329589844,-79.68514251708984,35.17755126953125,12.334160804748535,-46.29413604736328,-32.71677017211914,1.1187918186187744,-54.43376541137695,68.7584228515625,-48.32810974121094,1.45896577835083,-24.800561904907227,29.643692016601562,-4.759758472442627,60.214515686035156,-36.205291748046875,-48.00674819946289,57.27439880371094,-44.466243743896484,-40.52279281616211,39.007633209228516,12.090595245361328,-58.25997543334961,22.005542755126953,32.22085189819336,41.59440231323242,24.065359115600586,-25.35138702392578,-57.029537200927734,21.41086196899414,32.11886215209961,-8.210708618164062,43.819313049316406,-74.02375030517578,-66.49739837646484,50.038368225097656,-77.70364379882812,30.176334381103516,-58.13908004760742,-7.93177604675293,-26.18650245666504,-7.823761940002441,-28.26776123046875,-41.69137191772461,-53.697086334228516,15.249384880065918,43.151283264160156,74.92355346679688,11.680830001831055,-53.57042694091797,97.6257553100586,-14.206978797912598,-17.875673294067383,-5.592950820922852,-69.11933135986328,50.77385330200195,-26.52631187438965,14.697012901306152,-19.351917266845703,-59.05203628540039,8.594188690185547,-46.89439392089844,26.433698654174805,54.49967575073242,-57.353233337402344,55.29511642456055,45.67631149291992,-91.64010620117188,-37.03314971923828,-76.28450775146484,11.691421508789062,-59.99103927612305],\"type\":\"scatter3d\"}],                        {\"height\":800,\"margin\":{\"l\":0,\"r\":0},\"width\":800,\"template\":{\"data\":{\"bar\":[{\"error_x\":{\"color\":\"#2a3f5f\"},\"error_y\":{\"color\":\"#2a3f5f\"},\"marker\":{\"line\":{\"color\":\"#E5ECF6\",\"width\":0.5},\"pattern\":{\"fillmode\":\"overlay\",\"size\":10,\"solidity\":0.2}},\"type\":\"bar\"}],\"barpolar\":[{\"marker\":{\"line\":{\"color\":\"#E5ECF6\",\"width\":0.5},\"pattern\":{\"fillmode\":\"overlay\",\"size\":10,\"solidity\":0.2}},\"type\":\"barpolar\"}],\"carpet\":[{\"aaxis\":{\"endlinecolor\":\"#2a3f5f\",\"gridcolor\":\"white\",\"linecolor\":\"white\",\"minorgridcolor\":\"white\",\"startlinecolor\":\"#2a3f5f\"},\"baxis\":{\"endlinecolor\":\"#2a3f5f\",\"gridcolor\":\"white\",\"linecolor\":\"white\",\"minorgridcolor\":\"white\",\"startlinecolor\":\"#2a3f5f\"},\"type\":\"carpet\"}],\"choropleth\":[{\"colorbar\":{\"outlinewidth\":0,\"ticks\":\"\"},\"type\":\"choropleth\"}],\"contour\":[{\"colorbar\":{\"outlinewidth\":0,\"ticks\":\"\"},\"colorscale\":[[0.0,\"#0d0887\"],[0.1111111111111111,\"#46039f\"],[0.2222222222222222,\"#7201a8\"],[0.3333333333333333,\"#9c179e\"],[0.4444444444444444,\"#bd3786\"],[0.5555555555555556,\"#d8576b\"],[0.6666666666666666,\"#ed7953\"],[0.7777777777777778,\"#fb9f3a\"],[0.8888888888888888,\"#fdca26\"],[1.0,\"#f0f921\"]],\"type\":\"contour\"}],\"contourcarpet\":[{\"colorbar\":{\"outlinewidth\":0,\"ticks\":\"\"},\"type\":\"contourcarpet\"}],\"heatmap\":[{\"colorbar\":{\"outlinewidth\":0,\"ticks\":\"\"},\"colorscale\":[[0.0,\"#0d0887\"],[0.1111111111111111,\"#46039f\"],[0.2222222222222222,\"#7201a8\"],[0.3333333333333333,\"#9c179e\"],[0.4444444444444444,\"#bd3786\"],[0.5555555555555556,\"#d8576b\"],[0.6666666666666666,\"#ed7953\"],[0.7777777777777778,\"#fb9f3a\"],[0.8888888888888888,\"#fdca26\"],[1.0,\"#f0f921\"]],\"type\":\"heatmap\"}],\"heatmapgl\":[{\"colorbar\":{\"outlinewidth\":0,\"ticks\":\"\"},\"colorscale\":[[0.0,\"#0d0887\"],[0.1111111111111111,\"#46039f\"],[0.2222222222222222,\"#7201a8\"],[0.3333333333333333,\"#9c179e\"],[0.4444444444444444,\"#bd3786\"],[0.5555555555555556,\"#d8576b\"],[0.6666666666666666,\"#ed7953\"],[0.7777777777777778,\"#fb9f3a\"],[0.8888888888888888,\"#fdca26\"],[1.0,\"#f0f921\"]],\"type\":\"heatmapgl\"}],\"histogram\":[{\"marker\":{\"pattern\":{\"fillmode\":\"overlay\",\"size\":10,\"solidity\":0.2}},\"type\":\"histogram\"}],\"histogram2d\":[{\"colorbar\":{\"outlinewidth\":0,\"ticks\":\"\"},\"colorscale\":[[0.0,\"#0d0887\"],[0.1111111111111111,\"#46039f\"],[0.2222222222222222,\"#7201a8\"],[0.3333333333333333,\"#9c179e\"],[0.4444444444444444,\"#bd3786\"],[0.5555555555555556,\"#d8576b\"],[0.6666666666666666,\"#ed7953\"],[0.7777777777777778,\"#fb9f3a\"],[0.8888888888888888,\"#fdca26\"],[1.0,\"#f0f921\"]],\"type\":\"histogram2d\"}],\"histogram2dcontour\":[{\"colorbar\":{\"outlinewidth\":0,\"ticks\":\"\"},\"colorscale\":[[0.0,\"#0d0887\"],[0.1111111111111111,\"#46039f\"],[0.2222222222222222,\"#7201a8\"],[0.3333333333333333,\"#9c179e\"],[0.4444444444444444,\"#bd3786\"],[0.5555555555555556,\"#d8576b\"],[0.6666666666666666,\"#ed7953\"],[0.7777777777777778,\"#fb9f3a\"],[0.8888888888888888,\"#fdca26\"],[1.0,\"#f0f921\"]],\"type\":\"histogram2dcontour\"}],\"mesh3d\":[{\"colorbar\":{\"outlinewidth\":0,\"ticks\":\"\"},\"type\":\"mesh3d\"}],\"parcoords\":[{\"line\":{\"colorbar\":{\"outlinewidth\":0,\"ticks\":\"\"}},\"type\":\"parcoords\"}],\"pie\":[{\"automargin\":true,\"type\":\"pie\"}],\"scatter\":[{\"marker\":{\"colorbar\":{\"outlinewidth\":0,\"ticks\":\"\"}},\"type\":\"scatter\"}],\"scatter3d\":[{\"line\":{\"colorbar\":{\"outlinewidth\":0,\"ticks\":\"\"}},\"marker\":{\"colorbar\":{\"outlinewidth\":0,\"ticks\":\"\"}},\"type\":\"scatter3d\"}],\"scattercarpet\":[{\"marker\":{\"colorbar\":{\"outlinewidth\":0,\"ticks\":\"\"}},\"type\":\"scattercarpet\"}],\"scattergeo\":[{\"marker\":{\"colorbar\":{\"outlinewidth\":0,\"ticks\":\"\"}},\"type\":\"scattergeo\"}],\"scattergl\":[{\"marker\":{\"colorbar\":{\"outlinewidth\":0,\"ticks\":\"\"}},\"type\":\"scattergl\"}],\"scattermapbox\":[{\"marker\":{\"colorbar\":{\"outlinewidth\":0,\"ticks\":\"\"}},\"type\":\"scattermapbox\"}],\"scatterpolar\":[{\"marker\":{\"colorbar\":{\"outlinewidth\":0,\"ticks\":\"\"}},\"type\":\"scatterpolar\"}],\"scatterpolargl\":[{\"marker\":{\"colorbar\":{\"outlinewidth\":0,\"ticks\":\"\"}},\"type\":\"scatterpolargl\"}],\"scatterternary\":[{\"marker\":{\"colorbar\":{\"outlinewidth\":0,\"ticks\":\"\"}},\"type\":\"scatterternary\"}],\"surface\":[{\"colorbar\":{\"outlinewidth\":0,\"ticks\":\"\"},\"colorscale\":[[0.0,\"#0d0887\"],[0.1111111111111111,\"#46039f\"],[0.2222222222222222,\"#7201a8\"],[0.3333333333333333,\"#9c179e\"],[0.4444444444444444,\"#bd3786\"],[0.5555555555555556,\"#d8576b\"],[0.6666666666666666,\"#ed7953\"],[0.7777777777777778,\"#fb9f3a\"],[0.8888888888888888,\"#fdca26\"],[1.0,\"#f0f921\"]],\"type\":\"surface\"}],\"table\":[{\"cells\":{\"fill\":{\"color\":\"#EBF0F8\"},\"line\":{\"color\":\"white\"}},\"header\":{\"fill\":{\"color\":\"#C8D4E3\"},\"line\":{\"color\":\"white\"}},\"type\":\"table\"}]},\"layout\":{\"annotationdefaults\":{\"arrowcolor\":\"#2a3f5f\",\"arrowhead\":0,\"arrowwidth\":1},\"autotypenumbers\":\"strict\",\"coloraxis\":{\"colorbar\":{\"outlinewidth\":0,\"ticks\":\"\"}},\"colorscale\":{\"diverging\":[[0,\"#8e0152\"],[0.1,\"#c51b7d\"],[0.2,\"#de77ae\"],[0.3,\"#f1b6da\"],[0.4,\"#fde0ef\"],[0.5,\"#f7f7f7\"],[0.6,\"#e6f5d0\"],[0.7,\"#b8e186\"],[0.8,\"#7fbc41\"],[0.9,\"#4d9221\"],[1,\"#276419\"]],\"sequential\":[[0.0,\"#0d0887\"],[0.1111111111111111,\"#46039f\"],[0.2222222222222222,\"#7201a8\"],[0.3333333333333333,\"#9c179e\"],[0.4444444444444444,\"#bd3786\"],[0.5555555555555556,\"#d8576b\"],[0.6666666666666666,\"#ed7953\"],[0.7777777777777778,\"#fb9f3a\"],[0.8888888888888888,\"#fdca26\"],[1.0,\"#f0f921\"]],\"sequentialminus\":[[0.0,\"#0d0887\"],[0.1111111111111111,\"#46039f\"],[0.2222222222222222,\"#7201a8\"],[0.3333333333333333,\"#9c179e\"],[0.4444444444444444,\"#bd3786\"],[0.5555555555555556,\"#d8576b\"],[0.6666666666666666,\"#ed7953\"],[0.7777777777777778,\"#fb9f3a\"],[0.8888888888888888,\"#fdca26\"],[1.0,\"#f0f921\"]]},\"colorway\":[\"#636efa\",\"#EF553B\",\"#00cc96\",\"#ab63fa\",\"#FFA15A\",\"#19d3f3\",\"#FF6692\",\"#B6E880\",\"#FF97FF\",\"#FECB52\"],\"font\":{\"color\":\"#2a3f5f\"},\"geo\":{\"bgcolor\":\"white\",\"lakecolor\":\"white\",\"landcolor\":\"#E5ECF6\",\"showlakes\":true,\"showland\":true,\"subunitcolor\":\"white\"},\"hoverlabel\":{\"align\":\"left\"},\"hovermode\":\"closest\",\"mapbox\":{\"style\":\"light\"},\"paper_bgcolor\":\"white\",\"plot_bgcolor\":\"#E5ECF6\",\"polar\":{\"angularaxis\":{\"gridcolor\":\"white\",\"linecolor\":\"white\",\"ticks\":\"\"},\"bgcolor\":\"#E5ECF6\",\"radialaxis\":{\"gridcolor\":\"white\",\"linecolor\":\"white\",\"ticks\":\"\"}},\"scene\":{\"xaxis\":{\"backgroundcolor\":\"#E5ECF6\",\"gridcolor\":\"white\",\"gridwidth\":2,\"linecolor\":\"white\",\"showbackground\":true,\"ticks\":\"\",\"zerolinecolor\":\"white\"},\"yaxis\":{\"backgroundcolor\":\"#E5ECF6\",\"gridcolor\":\"white\",\"gridwidth\":2,\"linecolor\":\"white\",\"showbackground\":true,\"ticks\":\"\",\"zerolinecolor\":\"white\"},\"zaxis\":{\"backgroundcolor\":\"#E5ECF6\",\"gridcolor\":\"white\",\"gridwidth\":2,\"linecolor\":\"white\",\"showbackground\":true,\"ticks\":\"\",\"zerolinecolor\":\"white\"}},\"shapedefaults\":{\"line\":{\"color\":\"#2a3f5f\"}},\"ternary\":{\"aaxis\":{\"gridcolor\":\"white\",\"linecolor\":\"white\",\"ticks\":\"\"},\"baxis\":{\"gridcolor\":\"white\",\"linecolor\":\"white\",\"ticks\":\"\"},\"bgcolor\":\"#E5ECF6\",\"caxis\":{\"gridcolor\":\"white\",\"linecolor\":\"white\",\"ticks\":\"\"}},\"title\":{\"x\":0.05},\"xaxis\":{\"automargin\":true,\"gridcolor\":\"white\",\"linecolor\":\"white\",\"ticks\":\"\",\"title\":{\"standoff\":15},\"zerolinecolor\":\"white\",\"zerolinewidth\":2},\"yaxis\":{\"automargin\":true,\"gridcolor\":\"white\",\"linecolor\":\"white\",\"ticks\":\"\",\"title\":{\"standoff\":15},\"zerolinecolor\":\"white\",\"zerolinewidth\":2}}}},                        {\"responsive\": true}                    ).then(function(){\n",
              "                            \n",
              "var gd = document.getElementById('4fcb7f86-14e9-4fbe-aae1-3365f63385b8');\n",
              "var x = new MutationObserver(function (mutations, observer) {{\n",
              "        var display = window.getComputedStyle(gd).display;\n",
              "        if (!display || display === 'none') {{\n",
              "            console.log([gd, 'removed!']);\n",
              "            Plotly.purge(gd);\n",
              "            observer.disconnect();\n",
              "        }}\n",
              "}});\n",
              "\n",
              "// Listen for the removal of the full notebook cells\n",
              "var notebookContainer = gd.closest('#notebook-container');\n",
              "if (notebookContainer) {{\n",
              "    x.observe(notebookContainer, {childList: true});\n",
              "}}\n",
              "\n",
              "// Listen for the clearing of the current output cell\n",
              "var outputEl = gd.closest('.output');\n",
              "if (outputEl) {{\n",
              "    x.observe(outputEl, {childList: true});\n",
              "}}\n",
              "\n",
              "                        })                };                            </script>        </div>\n",
              "</body>\n",
              "</html>"
            ]
          },
          "metadata": {}
        }
      ]
    }
  ]
}